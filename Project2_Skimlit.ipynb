{
  "nbformat": 4,
  "nbformat_minor": 0,
  "metadata": {
    "colab": {
      "provenance": [],
      "gpuType": "T4",
      "authorship_tag": "ABX9TyPjqG/eYvgjstmUiW5L20Kt",
      "include_colab_link": true
    },
    "kernelspec": {
      "name": "python3",
      "display_name": "Python 3"
    },
    "language_info": {
      "name": "python"
    },
    "accelerator": "GPU"
  },
  "cells": [
    {
      "cell_type": "markdown",
      "metadata": {
        "id": "view-in-github",
        "colab_type": "text"
      },
      "source": [
        "<a href=\"https://colab.research.google.com/github/AisIzmailova/AisIzmailova_Practice_Notebooks/blob/master/Project2_Skimlit.ipynb\" target=\"_parent\"><img src=\"https://colab.research.google.com/assets/colab-badge.svg\" alt=\"Open In Colab\"/></a>"
      ]
    },
    {
      "cell_type": "markdown",
      "source": [
        "#SkimLiterature\n",
        "\n",
        "The purpose of this notebook is to buils an NLP model to make reading medical abstracts easier.\n",
        "\n",
        "The paper we are replicating is available [here](https://arxiv.org/abs/1710.06071).\n",
        "\n",
        "The model architecture is available [here](https://arxiv.org/abs/1612.05251)."
      ],
      "metadata": {
        "id": "sajTF3jaLuQm"
      }
    },
    {
      "cell_type": "markdown",
      "source": [
        "##Get the data\n",
        "\n",
        "Since we are replicating the paper, let's download the dataset they used."
      ],
      "metadata": {
        "id": "balvcNICM_Z3"
      }
    },
    {
      "cell_type": "code",
      "source": [
        "import tensorflow as tf\n",
        "from tensorflow import keras\n",
        "import pandas as pd\n",
        "import matplotlib.pyplot as plt\n",
        "import matplotlib.image as mpimg\n",
        "import zipfile\n",
        "import os\n",
        "import pathlib\n",
        "import numpy as np\n",
        "import random\n",
        "import datetime"
      ],
      "metadata": {
        "id": "YlsCf2VWP-js"
      },
      "execution_count": 1,
      "outputs": []
    },
    {
      "cell_type": "code",
      "source": [
        "from Helper_functions import unzip_file"
      ],
      "metadata": {
        "id": "Qk3_I8bCNHbx"
      },
      "execution_count": 2,
      "outputs": []
    },
    {
      "cell_type": "code",
      "execution_count": 3,
      "metadata": {
        "colab": {
          "base_uri": "https://localhost:8080/"
        },
        "id": "4FjyM4KzLRea",
        "outputId": "22e13574-2117-46df-d7b4-d6efbc2f019e"
      },
      "outputs": [
        {
          "output_type": "stream",
          "name": "stdout",
          "text": [
            "Cloning into 'pubmed-rct'...\n",
            "remote: Enumerating objects: 39, done.\u001b[K\n",
            "remote: Counting objects: 100% (14/14), done.\u001b[K\n",
            "remote: Compressing objects: 100% (9/9), done.\u001b[K\n",
            "remote: Total 39 (delta 8), reused 5 (delta 5), pack-reused 25\u001b[K\n",
            "Receiving objects: 100% (39/39), 177.08 MiB | 36.33 MiB/s, done.\n",
            "Resolving deltas: 100% (15/15), done.\n"
          ]
        }
      ],
      "source": [
        "!git clone https://github.com/Franck-Dernoncourt/pubmed-rct.git"
      ]
    },
    {
      "cell_type": "code",
      "source": [
        "!ls pubmed-rct"
      ],
      "metadata": {
        "colab": {
          "base_uri": "https://localhost:8080/"
        },
        "id": "ElZx9N9hNeAt",
        "outputId": "470414e3-ea5d-45b3-c8cb-07b212af9061"
      },
      "execution_count": 4,
      "outputs": [
        {
          "output_type": "stream",
          "name": "stdout",
          "text": [
            "PubMed_200k_RCT\t\t\t\t       PubMed_20k_RCT_numbers_replaced_with_at_sign\n",
            "PubMed_200k_RCT_numbers_replaced_with_at_sign  README.md\n",
            "PubMed_20k_RCT\n"
          ]
        }
      ]
    },
    {
      "cell_type": "code",
      "source": [
        "!ls pubmed-rct/PubMed_20k_RCT_numbers_replaced_with_at_sign/"
      ],
      "metadata": {
        "colab": {
          "base_uri": "https://localhost:8080/"
        },
        "id": "gfU1WZdoNk_K",
        "outputId": "93f4c5f0-81bd-476f-be42-6b60024e5635"
      },
      "execution_count": 5,
      "outputs": [
        {
          "output_type": "stream",
          "name": "stdout",
          "text": [
            "dev.txt  test.txt  train.txt\n"
          ]
        }
      ]
    },
    {
      "cell_type": "code",
      "source": [
        "data_dir = \"pubmed-rct/PubMed_20k_RCT_numbers_replaced_with_at_sign/\""
      ],
      "metadata": {
        "id": "Vz2v79rzN1hy"
      },
      "execution_count": 6,
      "outputs": []
    },
    {
      "cell_type": "code",
      "source": [
        "filenames=[data_dir + \"/\" + filename for filename in os.listdir(data_dir)]\n",
        "filenames"
      ],
      "metadata": {
        "colab": {
          "base_uri": "https://localhost:8080/"
        },
        "id": "AfPPOC60P36y",
        "outputId": "341c84f5-0c2b-49bd-a827-2909c2694302"
      },
      "execution_count": 7,
      "outputs": [
        {
          "output_type": "execute_result",
          "data": {
            "text/plain": [
              "['pubmed-rct/PubMed_20k_RCT_numbers_replaced_with_at_sign//test.txt',\n",
              " 'pubmed-rct/PubMed_20k_RCT_numbers_replaced_with_at_sign//dev.txt',\n",
              " 'pubmed-rct/PubMed_20k_RCT_numbers_replaced_with_at_sign//train.txt']"
            ]
          },
          "metadata": {},
          "execution_count": 7
        }
      ]
    },
    {
      "cell_type": "markdown",
      "source": [
        "##Preprocess the data"
      ],
      "metadata": {
        "id": "fC01rqlpQr0O"
      }
    },
    {
      "cell_type": "code",
      "source": [
        "#Create function to read the lines of the document\n",
        "def get_lines(filename):\n",
        "  \"\"\"\n",
        "  Read filename and returns the lines of text as a list.\n",
        "  \"\"\"\n",
        "  with open(filename, \"r\") as f:\n",
        "    return f.readlines()"
      ],
      "metadata": {
        "id": "aitltqSFQhQQ"
      },
      "execution_count": 8,
      "outputs": []
    },
    {
      "cell_type": "code",
      "source": [
        "train_lines = get_lines(data_dir+\"train.txt\")\n",
        "train_lines[:20]"
      ],
      "metadata": {
        "colab": {
          "base_uri": "https://localhost:8080/"
        },
        "id": "pUG6qBbtRfZb",
        "outputId": "c3d1e0ff-381c-4939-a3c7-a88ae460f6e6"
      },
      "execution_count": 9,
      "outputs": [
        {
          "output_type": "execute_result",
          "data": {
            "text/plain": [
              "['###24293578\\n',\n",
              " 'OBJECTIVE\\tTo investigate the efficacy of @ weeks of daily low-dose oral prednisolone in improving pain , mobility , and systemic low-grade inflammation in the short term and whether the effect would be sustained at @ weeks in older adults with moderate to severe knee osteoarthritis ( OA ) .\\n',\n",
              " 'METHODS\\tA total of @ patients with primary knee OA were randomized @:@ ; @ received @ mg/day of prednisolone and @ received placebo for @ weeks .\\n',\n",
              " 'METHODS\\tOutcome measures included pain reduction and improvement in function scores and systemic inflammation markers .\\n',\n",
              " 'METHODS\\tPain was assessed using the visual analog pain scale ( @-@ mm ) .\\n',\n",
              " 'METHODS\\tSecondary outcome measures included the Western Ontario and McMaster Universities Osteoarthritis Index scores , patient global assessment ( PGA ) of the severity of knee OA , and @-min walk distance ( @MWD ) .\\n',\n",
              " 'METHODS\\tSerum levels of interleukin @ ( IL-@ ) , IL-@ , tumor necrosis factor ( TNF ) - , and high-sensitivity C-reactive protein ( hsCRP ) were measured .\\n',\n",
              " 'RESULTS\\tThere was a clinically relevant reduction in the intervention group compared to the placebo group for knee pain , physical function , PGA , and @MWD at @ weeks .\\n',\n",
              " 'RESULTS\\tThe mean difference between treatment arms ( @ % CI ) was @ ( @-@ @ ) , p < @ ; @ ( @-@ @ ) , p < @ ; @ ( @-@ @ ) , p < @ ; and @ ( @-@ @ ) , p < @ , respectively .\\n',\n",
              " 'RESULTS\\tFurther , there was a clinically relevant reduction in the serum levels of IL-@ , IL-@ , TNF - , and hsCRP at @ weeks in the intervention group when compared to the placebo group .\\n',\n",
              " 'RESULTS\\tThese differences remained significant at @ weeks .\\n',\n",
              " 'RESULTS\\tThe Outcome Measures in Rheumatology Clinical Trials-Osteoarthritis Research Society International responder rate was @ % in the intervention group and @ % in the placebo group ( p < @ ) .\\n',\n",
              " 'CONCLUSIONS\\tLow-dose oral prednisolone had both a short-term and a longer sustained effect resulting in less knee pain , better physical function , and attenuation of systemic inflammation in older patients with knee OA ( ClinicalTrials.gov identifier NCT@ ) .\\n',\n",
              " '\\n',\n",
              " '###24854809\\n',\n",
              " 'BACKGROUND\\tEmotional eating is associated with overeating and the development of obesity .\\n',\n",
              " 'BACKGROUND\\tYet , empirical evidence for individual ( trait ) differences in emotional eating and cognitive mechanisms that contribute to eating during sad mood remain equivocal .\\n',\n",
              " 'OBJECTIVE\\tThe aim of this study was to test if attention bias for food moderates the effect of self-reported emotional eating during sad mood ( vs neutral mood ) on actual food intake .\\n',\n",
              " 'OBJECTIVE\\tIt was expected that emotional eating is predictive of elevated attention for food and higher food intake after an experimentally induced sad mood and that attentional maintenance on food predicts food intake during a sad versus a neutral mood .\\n',\n",
              " 'METHODS\\tParticipants ( N = @ ) were randomly assigned to one of the two experimental mood induction conditions ( sad/neutral ) .\\n']"
            ]
          },
          "metadata": {},
          "execution_count": 9
        }
      ]
    },
    {
      "cell_type": "code",
      "source": [
        "len(train_lines)"
      ],
      "metadata": {
        "colab": {
          "base_uri": "https://localhost:8080/"
        },
        "id": "Raz2wIs3Rhs_",
        "outputId": "4d021c33-7c56-4cbc-b2bf-aae91d962259"
      },
      "execution_count": 10,
      "outputs": [
        {
          "output_type": "execute_result",
          "data": {
            "text/plain": [
              "210040"
            ]
          },
          "metadata": {},
          "execution_count": 10
        }
      ]
    },
    {
      "cell_type": "code",
      "source": [
        "def preprocess_text_with_line_numbers(filename):\n",
        "  \"\"\"\n",
        "  Returns a list of dictionaries of abstract line data.\n",
        "  Takes in filename, reads its contents and sorts through  each line,\n",
        "  extracting things like the target label, the text of the sentence,\n",
        "  how many sentences are in the current abstract and what sentence\n",
        "  number the target line is.\n",
        "  \"\"\"\n",
        "  input_lines = get_lines(filename)\n",
        "\n",
        "  absract_lines = \"\" #create an empty abstract\n",
        "  abstract_samples = [] #create an empty dictionary\n",
        "\n",
        "  #Loop through each line in the target file\n",
        "  for line in input_lines:\n",
        "    if line.startswith(\"###\"): #check to see if there is a new ID line\n",
        "      abstract_id=line\n",
        "      abstract_lines = \"\" #reset the abstract string if the line is ID\n",
        "    elif line.isspace(): #check to see if a line is new empty line\n",
        "      abstract_line_split = abstract_lines.splitlines() #split abstract into separate lines\n",
        "\n",
        "      #Iterate through each line in a single abstract and count them\n",
        "      for abstract_line_number, abstract_line in enumerate(abstract_line_split):\n",
        "        line_data = {} #create an empty dictionary for each line\n",
        "        target_text_split = abstract_line.split(\"\\t\") #split at tab\n",
        "        line_data[\"target\"] = target_text_split[0] #get target label\n",
        "        line_data[\"text\"] = target_text_split[1].lower() #get target text in lower case\n",
        "        line_data[\"line_number\"] = abstract_line_number\n",
        "        line_data[\"total_lines\"] = len(abstract_line_split)-1 #hoe many lines in abstract\n",
        "        abstract_samples.append(line_data)\n",
        "\n",
        "    else: #if the above condition is not fulfilled, the line contains a labelled sentence\n",
        "        abstract_lines+=line\n",
        "\n",
        "  return abstract_samples"
      ],
      "metadata": {
        "id": "ZY1DzFIZTUNm"
      },
      "execution_count": 11,
      "outputs": []
    },
    {
      "cell_type": "code",
      "source": [
        "#Get data from file and preprocess it\n",
        "%%time\n",
        "train_samples = preprocess_text_with_line_numbers(data_dir+\"train.txt\")\n",
        "test_samples = preprocess_text_with_line_numbers(data_dir+\"test.txt\")\n",
        "val_samples = preprocess_text_with_line_numbers(data_dir+\"dev.txt\")"
      ],
      "metadata": {
        "colab": {
          "base_uri": "https://localhost:8080/"
        },
        "id": "kGvIXlaWWu4L",
        "outputId": "f328c165-45d9-4549-c2ad-d2a08d2d8332"
      },
      "execution_count": 12,
      "outputs": [
        {
          "output_type": "stream",
          "name": "stdout",
          "text": [
            "CPU times: user 379 ms, sys: 81 ms, total: 460 ms\n",
            "Wall time: 462 ms\n"
          ]
        }
      ]
    },
    {
      "cell_type": "code",
      "source": [
        "len(train_samples), len(test_samples), len(val_samples)"
      ],
      "metadata": {
        "colab": {
          "base_uri": "https://localhost:8080/"
        },
        "id": "FwkdbAtWYcOc",
        "outputId": "b40362ff-fc84-4004-f710-aad5c4ddbd1c"
      },
      "execution_count": 13,
      "outputs": [
        {
          "output_type": "execute_result",
          "data": {
            "text/plain": [
              "(180040, 30135, 30212)"
            ]
          },
          "metadata": {},
          "execution_count": 13
        }
      ]
    },
    {
      "cell_type": "code",
      "source": [
        "train_samples[:10]"
      ],
      "metadata": {
        "colab": {
          "base_uri": "https://localhost:8080/"
        },
        "id": "2XbsEBrmddPi",
        "outputId": "91762ef3-cd83-4fde-d7d9-382e5adff993"
      },
      "execution_count": 14,
      "outputs": [
        {
          "output_type": "execute_result",
          "data": {
            "text/plain": [
              "[{'target': 'OBJECTIVE',\n",
              "  'text': 'to investigate the efficacy of @ weeks of daily low-dose oral prednisolone in improving pain , mobility , and systemic low-grade inflammation in the short term and whether the effect would be sustained at @ weeks in older adults with moderate to severe knee osteoarthritis ( oa ) .',\n",
              "  'line_number': 0,\n",
              "  'total_lines': 11},\n",
              " {'target': 'METHODS',\n",
              "  'text': 'a total of @ patients with primary knee oa were randomized @:@ ; @ received @ mg/day of prednisolone and @ received placebo for @ weeks .',\n",
              "  'line_number': 1,\n",
              "  'total_lines': 11},\n",
              " {'target': 'METHODS',\n",
              "  'text': 'outcome measures included pain reduction and improvement in function scores and systemic inflammation markers .',\n",
              "  'line_number': 2,\n",
              "  'total_lines': 11},\n",
              " {'target': 'METHODS',\n",
              "  'text': 'pain was assessed using the visual analog pain scale ( @-@ mm ) .',\n",
              "  'line_number': 3,\n",
              "  'total_lines': 11},\n",
              " {'target': 'METHODS',\n",
              "  'text': 'secondary outcome measures included the western ontario and mcmaster universities osteoarthritis index scores , patient global assessment ( pga ) of the severity of knee oa , and @-min walk distance ( @mwd ) .',\n",
              "  'line_number': 4,\n",
              "  'total_lines': 11},\n",
              " {'target': 'METHODS',\n",
              "  'text': 'serum levels of interleukin @ ( il-@ ) , il-@ , tumor necrosis factor ( tnf ) - , and high-sensitivity c-reactive protein ( hscrp ) were measured .',\n",
              "  'line_number': 5,\n",
              "  'total_lines': 11},\n",
              " {'target': 'RESULTS',\n",
              "  'text': 'there was a clinically relevant reduction in the intervention group compared to the placebo group for knee pain , physical function , pga , and @mwd at @ weeks .',\n",
              "  'line_number': 6,\n",
              "  'total_lines': 11},\n",
              " {'target': 'RESULTS',\n",
              "  'text': 'the mean difference between treatment arms ( @ % ci ) was @ ( @-@ @ ) , p < @ ; @ ( @-@ @ ) , p < @ ; @ ( @-@ @ ) , p < @ ; and @ ( @-@ @ ) , p < @ , respectively .',\n",
              "  'line_number': 7,\n",
              "  'total_lines': 11},\n",
              " {'target': 'RESULTS',\n",
              "  'text': 'further , there was a clinically relevant reduction in the serum levels of il-@ , il-@ , tnf - , and hscrp at @ weeks in the intervention group when compared to the placebo group .',\n",
              "  'line_number': 8,\n",
              "  'total_lines': 11},\n",
              " {'target': 'RESULTS',\n",
              "  'text': 'these differences remained significant at @ weeks .',\n",
              "  'line_number': 9,\n",
              "  'total_lines': 11}]"
            ]
          },
          "metadata": {},
          "execution_count": 14
        }
      ]
    },
    {
      "cell_type": "code",
      "source": [
        "#Turn data dictionary into DataFrame\n",
        "train_df = pd.DataFrame(train_samples)\n",
        "test_df = pd.DataFrame(test_samples)\n",
        "val_df = pd.DataFrame(val_samples)\n",
        "train_df.head()"
      ],
      "metadata": {
        "colab": {
          "base_uri": "https://localhost:8080/",
          "height": 206
        },
        "id": "NZnkLazwdhnP",
        "outputId": "95e1c84b-e3c7-48c7-bcf6-76e431bd2fc8"
      },
      "execution_count": 15,
      "outputs": [
        {
          "output_type": "execute_result",
          "data": {
            "text/plain": [
              "      target                                               text  line_number  \\\n",
              "0  OBJECTIVE  to investigate the efficacy of @ weeks of dail...            0   \n",
              "1    METHODS  a total of @ patients with primary knee oa wer...            1   \n",
              "2    METHODS  outcome measures included pain reduction and i...            2   \n",
              "3    METHODS  pain was assessed using the visual analog pain...            3   \n",
              "4    METHODS  secondary outcome measures included the wester...            4   \n",
              "\n",
              "   total_lines  \n",
              "0           11  \n",
              "1           11  \n",
              "2           11  \n",
              "3           11  \n",
              "4           11  "
            ],
            "text/html": [
              "\n",
              "  <div id=\"df-2db5167d-5260-4b01-be44-dcc768db5b0c\" class=\"colab-df-container\">\n",
              "    <div>\n",
              "<style scoped>\n",
              "    .dataframe tbody tr th:only-of-type {\n",
              "        vertical-align: middle;\n",
              "    }\n",
              "\n",
              "    .dataframe tbody tr th {\n",
              "        vertical-align: top;\n",
              "    }\n",
              "\n",
              "    .dataframe thead th {\n",
              "        text-align: right;\n",
              "    }\n",
              "</style>\n",
              "<table border=\"1\" class=\"dataframe\">\n",
              "  <thead>\n",
              "    <tr style=\"text-align: right;\">\n",
              "      <th></th>\n",
              "      <th>target</th>\n",
              "      <th>text</th>\n",
              "      <th>line_number</th>\n",
              "      <th>total_lines</th>\n",
              "    </tr>\n",
              "  </thead>\n",
              "  <tbody>\n",
              "    <tr>\n",
              "      <th>0</th>\n",
              "      <td>OBJECTIVE</td>\n",
              "      <td>to investigate the efficacy of @ weeks of dail...</td>\n",
              "      <td>0</td>\n",
              "      <td>11</td>\n",
              "    </tr>\n",
              "    <tr>\n",
              "      <th>1</th>\n",
              "      <td>METHODS</td>\n",
              "      <td>a total of @ patients with primary knee oa wer...</td>\n",
              "      <td>1</td>\n",
              "      <td>11</td>\n",
              "    </tr>\n",
              "    <tr>\n",
              "      <th>2</th>\n",
              "      <td>METHODS</td>\n",
              "      <td>outcome measures included pain reduction and i...</td>\n",
              "      <td>2</td>\n",
              "      <td>11</td>\n",
              "    </tr>\n",
              "    <tr>\n",
              "      <th>3</th>\n",
              "      <td>METHODS</td>\n",
              "      <td>pain was assessed using the visual analog pain...</td>\n",
              "      <td>3</td>\n",
              "      <td>11</td>\n",
              "    </tr>\n",
              "    <tr>\n",
              "      <th>4</th>\n",
              "      <td>METHODS</td>\n",
              "      <td>secondary outcome measures included the wester...</td>\n",
              "      <td>4</td>\n",
              "      <td>11</td>\n",
              "    </tr>\n",
              "  </tbody>\n",
              "</table>\n",
              "</div>\n",
              "    <div class=\"colab-df-buttons\">\n",
              "\n",
              "  <div class=\"colab-df-container\">\n",
              "    <button class=\"colab-df-convert\" onclick=\"convertToInteractive('df-2db5167d-5260-4b01-be44-dcc768db5b0c')\"\n",
              "            title=\"Convert this dataframe to an interactive table.\"\n",
              "            style=\"display:none;\">\n",
              "\n",
              "  <svg xmlns=\"http://www.w3.org/2000/svg\" height=\"24px\" viewBox=\"0 -960 960 960\">\n",
              "    <path d=\"M120-120v-720h720v720H120Zm60-500h600v-160H180v160Zm220 220h160v-160H400v160Zm0 220h160v-160H400v160ZM180-400h160v-160H180v160Zm440 0h160v-160H620v160ZM180-180h160v-160H180v160Zm440 0h160v-160H620v160Z\"/>\n",
              "  </svg>\n",
              "    </button>\n",
              "\n",
              "  <style>\n",
              "    .colab-df-container {\n",
              "      display:flex;\n",
              "      gap: 12px;\n",
              "    }\n",
              "\n",
              "    .colab-df-convert {\n",
              "      background-color: #E8F0FE;\n",
              "      border: none;\n",
              "      border-radius: 50%;\n",
              "      cursor: pointer;\n",
              "      display: none;\n",
              "      fill: #1967D2;\n",
              "      height: 32px;\n",
              "      padding: 0 0 0 0;\n",
              "      width: 32px;\n",
              "    }\n",
              "\n",
              "    .colab-df-convert:hover {\n",
              "      background-color: #E2EBFA;\n",
              "      box-shadow: 0px 1px 2px rgba(60, 64, 67, 0.3), 0px 1px 3px 1px rgba(60, 64, 67, 0.15);\n",
              "      fill: #174EA6;\n",
              "    }\n",
              "\n",
              "    .colab-df-buttons div {\n",
              "      margin-bottom: 4px;\n",
              "    }\n",
              "\n",
              "    [theme=dark] .colab-df-convert {\n",
              "      background-color: #3B4455;\n",
              "      fill: #D2E3FC;\n",
              "    }\n",
              "\n",
              "    [theme=dark] .colab-df-convert:hover {\n",
              "      background-color: #434B5C;\n",
              "      box-shadow: 0px 1px 3px 1px rgba(0, 0, 0, 0.15);\n",
              "      filter: drop-shadow(0px 1px 2px rgba(0, 0, 0, 0.3));\n",
              "      fill: #FFFFFF;\n",
              "    }\n",
              "  </style>\n",
              "\n",
              "    <script>\n",
              "      const buttonEl =\n",
              "        document.querySelector('#df-2db5167d-5260-4b01-be44-dcc768db5b0c button.colab-df-convert');\n",
              "      buttonEl.style.display =\n",
              "        google.colab.kernel.accessAllowed ? 'block' : 'none';\n",
              "\n",
              "      async function convertToInteractive(key) {\n",
              "        const element = document.querySelector('#df-2db5167d-5260-4b01-be44-dcc768db5b0c');\n",
              "        const dataTable =\n",
              "          await google.colab.kernel.invokeFunction('convertToInteractive',\n",
              "                                                    [key], {});\n",
              "        if (!dataTable) return;\n",
              "\n",
              "        const docLinkHtml = 'Like what you see? Visit the ' +\n",
              "          '<a target=\"_blank\" href=https://colab.research.google.com/notebooks/data_table.ipynb>data table notebook</a>'\n",
              "          + ' to learn more about interactive tables.';\n",
              "        element.innerHTML = '';\n",
              "        dataTable['output_type'] = 'display_data';\n",
              "        await google.colab.output.renderOutput(dataTable, element);\n",
              "        const docLink = document.createElement('div');\n",
              "        docLink.innerHTML = docLinkHtml;\n",
              "        element.appendChild(docLink);\n",
              "      }\n",
              "    </script>\n",
              "  </div>\n",
              "\n",
              "\n",
              "<div id=\"df-ae449d11-bc92-446f-af2b-dd68f0822e44\">\n",
              "  <button class=\"colab-df-quickchart\" onclick=\"quickchart('df-ae449d11-bc92-446f-af2b-dd68f0822e44')\"\n",
              "            title=\"Suggest charts\"\n",
              "            style=\"display:none;\">\n",
              "\n",
              "<svg xmlns=\"http://www.w3.org/2000/svg\" height=\"24px\"viewBox=\"0 0 24 24\"\n",
              "     width=\"24px\">\n",
              "    <g>\n",
              "        <path d=\"M19 3H5c-1.1 0-2 .9-2 2v14c0 1.1.9 2 2 2h14c1.1 0 2-.9 2-2V5c0-1.1-.9-2-2-2zM9 17H7v-7h2v7zm4 0h-2V7h2v10zm4 0h-2v-4h2v4z\"/>\n",
              "    </g>\n",
              "</svg>\n",
              "  </button>\n",
              "\n",
              "<style>\n",
              "  .colab-df-quickchart {\n",
              "      --bg-color: #E8F0FE;\n",
              "      --fill-color: #1967D2;\n",
              "      --hover-bg-color: #E2EBFA;\n",
              "      --hover-fill-color: #174EA6;\n",
              "      --disabled-fill-color: #AAA;\n",
              "      --disabled-bg-color: #DDD;\n",
              "  }\n",
              "\n",
              "  [theme=dark] .colab-df-quickchart {\n",
              "      --bg-color: #3B4455;\n",
              "      --fill-color: #D2E3FC;\n",
              "      --hover-bg-color: #434B5C;\n",
              "      --hover-fill-color: #FFFFFF;\n",
              "      --disabled-bg-color: #3B4455;\n",
              "      --disabled-fill-color: #666;\n",
              "  }\n",
              "\n",
              "  .colab-df-quickchart {\n",
              "    background-color: var(--bg-color);\n",
              "    border: none;\n",
              "    border-radius: 50%;\n",
              "    cursor: pointer;\n",
              "    display: none;\n",
              "    fill: var(--fill-color);\n",
              "    height: 32px;\n",
              "    padding: 0;\n",
              "    width: 32px;\n",
              "  }\n",
              "\n",
              "  .colab-df-quickchart:hover {\n",
              "    background-color: var(--hover-bg-color);\n",
              "    box-shadow: 0 1px 2px rgba(60, 64, 67, 0.3), 0 1px 3px 1px rgba(60, 64, 67, 0.15);\n",
              "    fill: var(--button-hover-fill-color);\n",
              "  }\n",
              "\n",
              "  .colab-df-quickchart-complete:disabled,\n",
              "  .colab-df-quickchart-complete:disabled:hover {\n",
              "    background-color: var(--disabled-bg-color);\n",
              "    fill: var(--disabled-fill-color);\n",
              "    box-shadow: none;\n",
              "  }\n",
              "\n",
              "  .colab-df-spinner {\n",
              "    border: 2px solid var(--fill-color);\n",
              "    border-color: transparent;\n",
              "    border-bottom-color: var(--fill-color);\n",
              "    animation:\n",
              "      spin 1s steps(1) infinite;\n",
              "  }\n",
              "\n",
              "  @keyframes spin {\n",
              "    0% {\n",
              "      border-color: transparent;\n",
              "      border-bottom-color: var(--fill-color);\n",
              "      border-left-color: var(--fill-color);\n",
              "    }\n",
              "    20% {\n",
              "      border-color: transparent;\n",
              "      border-left-color: var(--fill-color);\n",
              "      border-top-color: var(--fill-color);\n",
              "    }\n",
              "    30% {\n",
              "      border-color: transparent;\n",
              "      border-left-color: var(--fill-color);\n",
              "      border-top-color: var(--fill-color);\n",
              "      border-right-color: var(--fill-color);\n",
              "    }\n",
              "    40% {\n",
              "      border-color: transparent;\n",
              "      border-right-color: var(--fill-color);\n",
              "      border-top-color: var(--fill-color);\n",
              "    }\n",
              "    60% {\n",
              "      border-color: transparent;\n",
              "      border-right-color: var(--fill-color);\n",
              "    }\n",
              "    80% {\n",
              "      border-color: transparent;\n",
              "      border-right-color: var(--fill-color);\n",
              "      border-bottom-color: var(--fill-color);\n",
              "    }\n",
              "    90% {\n",
              "      border-color: transparent;\n",
              "      border-bottom-color: var(--fill-color);\n",
              "    }\n",
              "  }\n",
              "</style>\n",
              "\n",
              "  <script>\n",
              "    async function quickchart(key) {\n",
              "      const quickchartButtonEl =\n",
              "        document.querySelector('#' + key + ' button');\n",
              "      quickchartButtonEl.disabled = true;  // To prevent multiple clicks.\n",
              "      quickchartButtonEl.classList.add('colab-df-spinner');\n",
              "      try {\n",
              "        const charts = await google.colab.kernel.invokeFunction(\n",
              "            'suggestCharts', [key], {});\n",
              "      } catch (error) {\n",
              "        console.error('Error during call to suggestCharts:', error);\n",
              "      }\n",
              "      quickchartButtonEl.classList.remove('colab-df-spinner');\n",
              "      quickchartButtonEl.classList.add('colab-df-quickchart-complete');\n",
              "    }\n",
              "    (() => {\n",
              "      let quickchartButtonEl =\n",
              "        document.querySelector('#df-ae449d11-bc92-446f-af2b-dd68f0822e44 button');\n",
              "      quickchartButtonEl.style.display =\n",
              "        google.colab.kernel.accessAllowed ? 'block' : 'none';\n",
              "    })();\n",
              "  </script>\n",
              "</div>\n",
              "\n",
              "    </div>\n",
              "  </div>\n"
            ]
          },
          "metadata": {},
          "execution_count": 15
        }
      ]
    },
    {
      "cell_type": "code",
      "source": [
        "train_df.target.value_counts()"
      ],
      "metadata": {
        "colab": {
          "base_uri": "https://localhost:8080/"
        },
        "id": "wN07KyRiiCJ6",
        "outputId": "a41f9651-03d8-406d-bca4-59b6d9a9097d"
      },
      "execution_count": 16,
      "outputs": [
        {
          "output_type": "execute_result",
          "data": {
            "text/plain": [
              "METHODS        59353\n",
              "RESULTS        57953\n",
              "CONCLUSIONS    27168\n",
              "BACKGROUND     21727\n",
              "OBJECTIVE      13839\n",
              "Name: target, dtype: int64"
            ]
          },
          "metadata": {},
          "execution_count": 16
        }
      ]
    },
    {
      "cell_type": "code",
      "source": [
        "#Let's check the length of different lines\n",
        "train_df.total_lines.plot.hist()"
      ],
      "metadata": {
        "colab": {
          "base_uri": "https://localhost:8080/",
          "height": 448
        },
        "id": "Wb4TAggLiNA1",
        "outputId": "7ec6a8f4-480d-49dd-ac4e-fc6aad488c8d"
      },
      "execution_count": 17,
      "outputs": [
        {
          "output_type": "execute_result",
          "data": {
            "text/plain": [
              "<Axes: ylabel='Frequency'>"
            ]
          },
          "metadata": {},
          "execution_count": 17
        },
        {
          "output_type": "display_data",
          "data": {
            "text/plain": [
              "<Figure size 640x480 with 1 Axes>"
            ],
            "image/png": "[encoded data removed]"
          },
          "metadata": {}
        }
      ]
    },
    {
      "cell_type": "markdown",
      "source": [
        "##Get lists of sentences"
      ],
      "metadata": {
        "id": "80nPPMQNimTu"
      }
    },
    {
      "cell_type": "code",
      "source": [
        "#Convert abstract text lines into lists\n",
        "train_sentences = train_df[\"text\"].tolist()\n",
        "test_sentences = test_df[\"text\"].tolist()\n",
        "val_sentences = val_df[\"text\"].tolist()"
      ],
      "metadata": {
        "id": "1Rh6jW2niZy5"
      },
      "execution_count": 18,
      "outputs": []
    },
    {
      "cell_type": "code",
      "source": [
        "len(train_sentences), train_sentences[:5]"
      ],
      "metadata": {
        "colab": {
          "base_uri": "https://localhost:8080/"
        },
        "id": "xwdabUAQi5ji",
        "outputId": "67b93905-63fb-4c75-e6b4-b71c85e72f76"
      },
      "execution_count": 19,
      "outputs": [
        {
          "output_type": "execute_result",
          "data": {
            "text/plain": [
              "(180040,\n",
              " ['to investigate the efficacy of @ weeks of daily low-dose oral prednisolone in improving pain , mobility , and systemic low-grade inflammation in the short term and whether the effect would be sustained at @ weeks in older adults with moderate to severe knee osteoarthritis ( oa ) .',\n",
              "  'a total of @ patients with primary knee oa were randomized @:@ ; @ received @ mg/day of prednisolone and @ received placebo for @ weeks .',\n",
              "  'outcome measures included pain reduction and improvement in function scores and systemic inflammation markers .',\n",
              "  'pain was assessed using the visual analog pain scale ( @-@ mm ) .',\n",
              "  'secondary outcome measures included the western ontario and mcmaster universities osteoarthritis index scores , patient global assessment ( pga ) of the severity of knee oa , and @-min walk distance ( @mwd ) .'])"
            ]
          },
          "metadata": {},
          "execution_count": 19
        }
      ]
    },
    {
      "cell_type": "markdown",
      "source": [
        "##Making labels numeric"
      ],
      "metadata": {
        "id": "fr78tUiVkt3S"
      }
    },
    {
      "cell_type": "code",
      "source": [
        "from sklearn.preprocessing import OneHotEncoder\n",
        "one_hot_encoder = OneHotEncoder(sparse_output=False)\n",
        "train_labels_one_hot = one_hot_encoder.fit_transform(train_df[\"target\"].to_numpy().reshape(-1,1))\n",
        "train_labels_one_hot"
      ],
      "metadata": {
        "colab": {
          "base_uri": "https://localhost:8080/"
        },
        "id": "Vw0ScIxci-5E",
        "outputId": "9bcb5319-28e0-4e72-d37e-1666c74b9fd4"
      },
      "execution_count": 20,
      "outputs": [
        {
          "output_type": "execute_result",
          "data": {
            "text/plain": [
              "array([[0., 0., 0., 1., 0.],\n",
              "       [0., 0., 1., 0., 0.],\n",
              "       [0., 0., 1., 0., 0.],\n",
              "       ...,\n",
              "       [0., 0., 0., 0., 1.],\n",
              "       [0., 1., 0., 0., 0.],\n",
              "       [0., 1., 0., 0., 0.]])"
            ]
          },
          "metadata": {},
          "execution_count": 20
        }
      ]
    },
    {
      "cell_type": "code",
      "source": [
        "val_labels_one_hot = one_hot_encoder.transform(val_df[\"target\"].to_numpy().reshape(-1,1))\n",
        "test_labels_one_hot = one_hot_encoder.transform(test_df[\"target\"].to_numpy().reshape(-1,1))"
      ],
      "metadata": {
        "id": "L3NFPhKPls_2"
      },
      "execution_count": 21,
      "outputs": []
    },
    {
      "cell_type": "markdown",
      "source": [
        "##Label encode labels"
      ],
      "metadata": {
        "id": "hxMUrYdAmpCD"
      }
    },
    {
      "cell_type": "code",
      "source": [
        "#Extract lables and encode them into integers\n",
        "from sklearn.preprocessing import LabelEncoder\n",
        "label_encoder = LabelEncoder()\n",
        "train_labels = label_encoder.fit_transform(train_df[\"target\"].to_numpy())\n",
        "val_labels = label_encoder.transform(val_df[\"target\"].to_numpy())\n",
        "test_labels = label_encoder.transform(test_df[\"target\"].to_numpy())"
      ],
      "metadata": {
        "id": "D6qvPcsqmJmr"
      },
      "execution_count": 22,
      "outputs": []
    },
    {
      "cell_type": "code",
      "source": [
        "train_labels"
      ],
      "metadata": {
        "colab": {
          "base_uri": "https://localhost:8080/"
        },
        "id": "tucQrEHOnERz",
        "outputId": "2dff48eb-f1e1-4eba-d10a-4f3534d1f948"
      },
      "execution_count": 23,
      "outputs": [
        {
          "output_type": "execute_result",
          "data": {
            "text/plain": [
              "array([3, 2, 2, ..., 4, 1, 1])"
            ]
          },
          "metadata": {},
          "execution_count": 23
        }
      ]
    },
    {
      "cell_type": "code",
      "source": [
        "num_classes = len(label_encoder.classes_)\n",
        "class_names = label_encoder.classes_\n",
        "num_classes, class_names"
      ],
      "metadata": {
        "colab": {
          "base_uri": "https://localhost:8080/"
        },
        "id": "m4nvuquinTkc",
        "outputId": "28c8afc1-69e8-4964-ec30-84f945a5ad1b"
      },
      "execution_count": 24,
      "outputs": [
        {
          "output_type": "execute_result",
          "data": {
            "text/plain": [
              "(5,\n",
              " array(['BACKGROUND', 'CONCLUSIONS', 'METHODS', 'OBJECTIVE', 'RESULTS'],\n",
              "       dtype=object))"
            ]
          },
          "metadata": {},
          "execution_count": 24
        }
      ]
    },
    {
      "cell_type": "markdown",
      "source": [
        "![image.png](data:image/png;base64,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)"
      ],
      "metadata": {
        "id": "yOci1bFppRrd"
      }
    },
    {
      "cell_type": "markdown",
      "source": [
        "#Build baseline model"
      ],
      "metadata": {
        "id": "gasQ8ALspKT5"
      }
    },
    {
      "cell_type": "code",
      "source": [
        "#Build TextVectorizer\n",
        "from sklearn.feature_extraction.text import TfidfVectorizer\n",
        "from sklearn.naive_bayes import MultinomialNB\n",
        "from sklearn.pipeline import Pipeline\n",
        "\n",
        "#Create tokenization and modelling pipeline\n",
        "model_0 = Pipeline([(\"tfidf\", TfidfVectorizer()), #convert words to numbers using tfidf\n",
        "                    (\"clf\", MultinomialNB()) #model the text\n",
        "                    ])\n",
        "#Fit the pipeline to training data\n",
        "model_0.fit(train_sentences, train_labels)"
      ],
      "metadata": {
        "colab": {
          "base_uri": "https://localhost:8080/",
          "height": 125
        },
        "id": "QG25J_BZo7mK",
        "outputId": "b718674c-5062-439a-8ea2-fa7bada5289a"
      },
      "execution_count": 25,
      "outputs": [
        {
          "output_type": "execute_result",
          "data": {
            "text/plain": [
              "Pipeline(steps=[('tfidf', TfidfVectorizer()), ('clf', MultinomialNB())])"
            ],
            "text/html": [
              "<style>#sk-container-id-1 {color: black;background-color: white;}#sk-container-id-1 pre{padding: 0;}#sk-container-id-1 div.sk-toggleable {background-color: white;}#sk-container-id-1 label.sk-toggleable__label {cursor: pointer;display: block;width: 100%;margin-bottom: 0;padding: 0.3em;box-sizing: border-box;text-align: center;}#sk-container-id-1 label.sk-toggleable__label-arrow:before {content: \"▸\";float: left;margin-right: 0.25em;color: #696969;}#sk-container-id-1 label.sk-toggleable__label-arrow:hover:before {color: black;}#sk-container-id-1 div.sk-estimator:hover label.sk-toggleable__label-arrow:before {color: black;}#sk-container-id-1 div.sk-toggleable__content {max-height: 0;max-width: 0;overflow: hidden;text-align: left;background-color: #f0f8ff;}#sk-container-id-1 div.sk-toggleable__content pre {margin: 0.2em;color: black;border-radius: 0.25em;background-color: #f0f8ff;}#sk-container-id-1 input.sk-toggleable__control:checked~div.sk-toggleable__content {max-height: 200px;max-width: 100%;overflow: auto;}#sk-container-id-1 input.sk-toggleable__control:checked~label.sk-toggleable__label-arrow:before {content: \"▾\";}#sk-container-id-1 div.sk-estimator input.sk-toggleable__control:checked~label.sk-toggleable__label {background-color: #d4ebff;}#sk-container-id-1 div.sk-label input.sk-toggleable__control:checked~label.sk-toggleable__label {background-color: #d4ebff;}#sk-container-id-1 input.sk-hidden--visually {border: 0;clip: rect(1px 1px 1px 1px);clip: rect(1px, 1px, 1px, 1px);height: 1px;margin: -1px;overflow: hidden;padding: 0;position: absolute;width: 1px;}#sk-container-id-1 div.sk-estimator {font-family: monospace;background-color: #f0f8ff;border: 1px dotted black;border-radius: 0.25em;box-sizing: border-box;margin-bottom: 0.5em;}#sk-container-id-1 div.sk-estimator:hover {background-color: #d4ebff;}#sk-container-id-1 div.sk-parallel-item::after {content: \"\";width: 100%;border-bottom: 1px solid gray;flex-grow: 1;}#sk-container-id-1 div.sk-label:hover label.sk-toggleable__label {background-color: #d4ebff;}#sk-container-id-1 div.sk-serial::before {content: \"\";position: absolute;border-left: 1px solid gray;box-sizing: border-box;top: 0;bottom: 0;left: 50%;z-index: 0;}#sk-container-id-1 div.sk-serial {display: flex;flex-direction: column;align-items: center;background-color: white;padding-right: 0.2em;padding-left: 0.2em;position: relative;}#sk-container-id-1 div.sk-item {position: relative;z-index: 1;}#sk-container-id-1 div.sk-parallel {display: flex;align-items: stretch;justify-content: center;background-color: white;position: relative;}#sk-container-id-1 div.sk-item::before, #sk-container-id-1 div.sk-parallel-item::before {content: \"\";position: absolute;border-left: 1px solid gray;box-sizing: border-box;top: 0;bottom: 0;left: 50%;z-index: -1;}#sk-container-id-1 div.sk-parallel-item {display: flex;flex-direction: column;z-index: 1;position: relative;background-color: white;}#sk-container-id-1 div.sk-parallel-item:first-child::after {align-self: flex-end;width: 50%;}#sk-container-id-1 div.sk-parallel-item:last-child::after {align-self: flex-start;width: 50%;}#sk-container-id-1 div.sk-parallel-item:only-child::after {width: 0;}#sk-container-id-1 div.sk-dashed-wrapped {border: 1px dashed gray;margin: 0 0.4em 0.5em 0.4em;box-sizing: border-box;padding-bottom: 0.4em;background-color: white;}#sk-container-id-1 div.sk-label label {font-family: monospace;font-weight: bold;display: inline-block;line-height: 1.2em;}#sk-container-id-1 div.sk-label-container {text-align: center;}#sk-container-id-1 div.sk-container {/* jupyter's `normalize.less` sets `[hidden] { display: none; }` but bootstrap.min.css set `[hidden] { display: none !important; }` so we also need the `!important` here to be able to override the default hidden behavior on the sphinx rendered scikit-learn.org. See: https://github.com/scikit-learn/scikit-learn/issues/21755 */display: inline-block !important;position: relative;}#sk-container-id-1 div.sk-text-repr-fallback {display: none;}</style><div id=\"sk-container-id-1\" class=\"sk-top-container\"><div class=\"sk-text-repr-fallback\"><pre>Pipeline(steps=[(&#x27;tfidf&#x27;, TfidfVectorizer()), (&#x27;clf&#x27;, MultinomialNB())])</pre><b>In a Jupyter environment, please rerun this cell to show the HTML representation or trust the notebook. <br />On GitHub, the HTML representation is unable to render, please try loading this page with nbviewer.org.</b></div><div class=\"sk-container\" hidden><div class=\"sk-item sk-dashed-wrapped\"><div class=\"sk-label-container\"><div class=\"sk-label sk-toggleable\"><input class=\"sk-toggleable__control sk-hidden--visually\" id=\"sk-estimator-id-1\" type=\"checkbox\" ><label for=\"sk-estimator-id-1\" class=\"sk-toggleable__label sk-toggleable__label-arrow\">Pipeline</label><div class=\"sk-toggleable__content\"><pre>Pipeline(steps=[(&#x27;tfidf&#x27;, TfidfVectorizer()), (&#x27;clf&#x27;, MultinomialNB())])</pre></div></div></div><div class=\"sk-serial\"><div class=\"sk-item\"><div class=\"sk-estimator sk-toggleable\"><input class=\"sk-toggleable__control sk-hidden--visually\" id=\"sk-estimator-id-2\" type=\"checkbox\" ><label for=\"sk-estimator-id-2\" class=\"sk-toggleable__label sk-toggleable__label-arrow\">TfidfVectorizer</label><div class=\"sk-toggleable__content\"><pre>TfidfVectorizer()</pre></div></div></div><div class=\"sk-item\"><div class=\"sk-estimator sk-toggleable\"><input class=\"sk-toggleable__control sk-hidden--visually\" id=\"sk-estimator-id-3\" type=\"checkbox\" ><label for=\"sk-estimator-id-3\" class=\"sk-toggleable__label sk-toggleable__label-arrow\">MultinomialNB</label><div class=\"sk-toggleable__content\"><pre>MultinomialNB()</pre></div></div></div></div></div></div></div>"
            ]
          },
          "metadata": {},
          "execution_count": 25
        }
      ]
    },
    {
      "cell_type": "code",
      "source": [
        "#Evaluate the baseline model\n",
        "baseline_score = model_0.score(val_sentences, val_labels)\n",
        "print(f\"Baseline model accuracy: {baseline_score*100:.2f}\")"
      ],
      "metadata": {
        "colab": {
          "base_uri": "https://localhost:8080/"
        },
        "id": "Vv7go6eaqQ2v",
        "outputId": "71cb6aa2-9f1d-4e59-d969-457c121b6d37"
      },
      "execution_count": 26,
      "outputs": [
        {
          "output_type": "stream",
          "name": "stdout",
          "text": [
            "Baseline model accuracy: 72.18\n"
          ]
        }
      ]
    },
    {
      "cell_type": "code",
      "source": [
        "baseline_preds=model_0.predict(val_sentences)\n",
        "baseline_preds[:10]"
      ],
      "metadata": {
        "colab": {
          "base_uri": "https://localhost:8080/"
        },
        "id": "VvrAz8xeqehK",
        "outputId": "feff03d3-72a7-4fb4-ae88-57264d58ef12"
      },
      "execution_count": 27,
      "outputs": [
        {
          "output_type": "execute_result",
          "data": {
            "text/plain": [
              "array([4, 1, 3, 2, 2, 2, 2, 2, 4, 4])"
            ]
          },
          "metadata": {},
          "execution_count": 27
        }
      ]
    },
    {
      "cell_type": "code",
      "source": [
        "baseline_preds.shape"
      ],
      "metadata": {
        "colab": {
          "base_uri": "https://localhost:8080/"
        },
        "id": "ZgnWktixqv67",
        "outputId": "53d0f6e5-68d3-442d-cbf3-2a119cca8b83"
      },
      "execution_count": 28,
      "outputs": [
        {
          "output_type": "execute_result",
          "data": {
            "text/plain": [
              "(30212,)"
            ]
          },
          "metadata": {},
          "execution_count": 28
        }
      ]
    },
    {
      "cell_type": "code",
      "source": [
        "from Helper_functions import calculate_results"
      ],
      "metadata": {
        "id": "N5jtJ57XuVME"
      },
      "execution_count": 29,
      "outputs": []
    },
    {
      "cell_type": "code",
      "source": [
        "baseline_results = calculate_results(val_labels,baseline_preds)\n",
        "baseline_results"
      ],
      "metadata": {
        "colab": {
          "base_uri": "https://localhost:8080/"
        },
        "id": "4mNWLstjvRFf",
        "outputId": "735dcaad-edce-4f9b-d266-a5092abe4983"
      },
      "execution_count": 30,
      "outputs": [
        {
          "output_type": "execute_result",
          "data": {
            "text/plain": [
              "{'accuracy': 72.1832384482987,\n",
              " 'precision': 0.7186466952323352,\n",
              " 'recall': 0.7218323844829869,\n",
              " 'f1': 0.6989250353450294}"
            ]
          },
          "metadata": {},
          "execution_count": 30
        }
      ]
    },
    {
      "cell_type": "markdown",
      "source": [
        "##Tokenize and Embed the text data"
      ],
      "metadata": {
        "id": "pkfp8c1Fv5QN"
      }
    },
    {
      "cell_type": "code",
      "source": [
        "#Find the average number of tokens\n",
        "round(sum([len(i.split()) for i in train_sentences])/len(train_sentences))"
      ],
      "metadata": {
        "colab": {
          "base_uri": "https://localhost:8080/"
        },
        "id": "OAKO7eEFxI8Z",
        "outputId": "e2e81de4-2dd6-472d-9a32-22bd1a327735"
      },
      "execution_count": 31,
      "outputs": [
        {
          "output_type": "execute_result",
          "data": {
            "text/plain": [
              "26"
            ]
          },
          "metadata": {},
          "execution_count": 31
        }
      ]
    },
    {
      "cell_type": "code",
      "source": [
        "#Find the average number of tokens\n",
        "sentence_len = [len(i.split()) for i in train_sentences]\n",
        "plt.hist(sentence_len,bins=20)"
      ],
      "metadata": {
        "colab": {
          "base_uri": "https://localhost:8080/",
          "height": 569
        },
        "id": "xRzyKmP3vjro",
        "outputId": "5eaaf63e-f838-4c09-da64-0af326d53ac2"
      },
      "execution_count": 32,
      "outputs": [
        {
          "output_type": "execute_result",
          "data": {
            "text/plain": [
              "(array([4.2075e+04, 8.3771e+04, 3.6877e+04, 1.0945e+04, 3.9310e+03,\n",
              "        1.4450e+03, 5.6000e+02, 2.2600e+02, 1.0100e+02, 4.5000e+01,\n",
              "        2.0000e+01, 1.2000e+01, 9.0000e+00, 1.0000e+01, 6.0000e+00,\n",
              "        2.0000e+00, 3.0000e+00, 0.0000e+00, 1.0000e+00, 1.0000e+00]),\n",
              " array([  1.  ,  15.75,  30.5 ,  45.25,  60.  ,  74.75,  89.5 , 104.25,\n",
              "        119.  , 133.75, 148.5 , 163.25, 178.  , 192.75, 207.5 , 222.25,\n",
              "        237.  , 251.75, 266.5 , 281.25, 296.  ]),\n",
              " <BarContainer object of 20 artists>)"
            ]
          },
          "metadata": {},
          "execution_count": 32
        },
        {
          "output_type": "display_data",
          "data": {
            "text/plain": [
              "<Figure size 640x480 with 1 Axes>"
            ],
            "image/png": "[encoded data removed]"
          },
          "metadata": {}
        }
      ]
    },
    {
      "cell_type": "code",
      "source": [
        "#Check 95th percentile\n",
        "output_seq_len = np.percentile(sentence_len, 95)\n",
        "output_seq_len"
      ],
      "metadata": {
        "colab": {
          "base_uri": "https://localhost:8080/"
        },
        "id": "VY31DwRtxr0X",
        "outputId": "a66042de-ef02-4909-ead9-18d35bd09c4b"
      },
      "execution_count": 33,
      "outputs": [
        {
          "output_type": "execute_result",
          "data": {
            "text/plain": [
              "55.0"
            ]
          },
          "metadata": {},
          "execution_count": 33
        }
      ]
    },
    {
      "cell_type": "code",
      "source": [
        "#Create a vectorization layer\n",
        "from tensorflow.keras.layers.experimental.preprocessing import TextVectorization\n",
        "#Setup text vectorization variables\n",
        "max_vocal_length=68000\n",
        "max_length=55\n",
        "text_vectorizer = TextVectorization(max_tokens=max_vocal_length, #how many words in the vocabulary\n",
        "                                    output_sequence_length=max_length)"
      ],
      "metadata": {
        "id": "rO2saeiFwAyi"
      },
      "execution_count": 34,
      "outputs": []
    },
    {
      "cell_type": "code",
      "source": [
        "#Fit the text vectorizer to the training text\n",
        "text_vectorizer.adapt(train_sentences)"
      ],
      "metadata": {
        "id": "GrKBjlFrwchs"
      },
      "execution_count": 35,
      "outputs": []
    },
    {
      "cell_type": "code",
      "source": [
        "#Choose a random sample from train dataset\n",
        "random_text = random.choice(train_sentences)\n",
        "print(f\"Original text: {random_text}\\n Vectorized version: \")\n",
        "text_vectorizer([random_text])"
      ],
      "metadata": {
        "colab": {
          "base_uri": "https://localhost:8080/"
        },
        "id": "jvKj7mEtwddH",
        "outputId": "53f20b29-5102-4ad2-f470-71e4f1cb6bcc"
      },
      "execution_count": 36,
      "outputs": [
        {
          "output_type": "stream",
          "name": "stdout",
          "text": [
            "Original text: of the @ patients included , @ ( @ % ) completed the study ( ig , @ ; cg , @ ) .\n",
            " Vectorized version: \n"
          ]
        },
        {
          "output_type": "execute_result",
          "data": {
            "text/plain": [
              "<tf.Tensor: shape=(1, 55), dtype=int64, numpy=\n",
              "array([[   4,    2,   12,  121,  253,    2,   17, 3081, 1512,    0,    0,\n",
              "           0,    0,    0,    0,    0,    0,    0,    0,    0,    0,    0,\n",
              "           0,    0,    0,    0,    0,    0,    0,    0,    0,    0,    0,\n",
              "           0,    0,    0,    0,    0,    0,    0,    0,    0,    0,    0,\n",
              "           0,    0,    0,    0,    0,    0,    0,    0,    0,    0,    0]])>"
            ]
          },
          "metadata": {},
          "execution_count": 36
        }
      ]
    },
    {
      "cell_type": "code",
      "source": [
        "#Get the unique words in the vocabulary\n",
        "words_in_vocab = text_vectorizer.get_vocabulary()\n",
        "top_5_words=words_in_vocab[:5]\n",
        "bottom_5_words=words_in_vocab[-5:]\n",
        "print(f\"Number of words in vocabulary: {len(words_in_vocab)}\")\n",
        "print(f\"5 most common words: {top_5_words}\")\n",
        "print(f\"5 least common words: {bottom_5_words}\")"
      ],
      "metadata": {
        "colab": {
          "base_uri": "https://localhost:8080/"
        },
        "id": "n5iKY9KpwgwL",
        "outputId": "3fe5e3b4-e41e-4225-8404-97df6789b39f"
      },
      "execution_count": 37,
      "outputs": [
        {
          "output_type": "stream",
          "name": "stdout",
          "text": [
            "Number of words in vocabulary: 64841\n",
            "5 most common words: ['', '[UNK]', 'the', 'and', 'of']\n",
            "5 least common words: ['aainduced', 'aaigroup', 'aachener', 'aachen', 'aaacp']\n"
          ]
        }
      ]
    },
    {
      "cell_type": "code",
      "source": [
        "text_vectorizer.get_config()"
      ],
      "metadata": {
        "colab": {
          "base_uri": "https://localhost:8080/"
        },
        "id": "YFnDjNsN3S5V",
        "outputId": "53c34750-a98e-4f7d-df73-d9d25f9bee93"
      },
      "execution_count": 38,
      "outputs": [
        {
          "output_type": "execute_result",
          "data": {
            "text/plain": [
              "{'name': 'text_vectorization',\n",
              " 'trainable': True,\n",
              " 'dtype': 'string',\n",
              " 'batch_input_shape': (None,),\n",
              " 'max_tokens': 68000,\n",
              " 'standardize': 'lower_and_strip_punctuation',\n",
              " 'split': 'whitespace',\n",
              " 'ngrams': None,\n",
              " 'output_mode': 'int',\n",
              " 'output_sequence_length': 55,\n",
              " 'pad_to_max_tokens': False,\n",
              " 'sparse': False,\n",
              " 'ragged': False,\n",
              " 'vocabulary': None,\n",
              " 'idf_weights': None,\n",
              " 'encoding': 'utf-8',\n",
              " 'vocabulary_size': 64841}"
            ]
          },
          "metadata": {},
          "execution_count": 38
        }
      ]
    },
    {
      "cell_type": "code",
      "source": [
        "#Create embedding layer\n",
        "from tensorflow.keras import layers\n",
        "from tensorflow.keras.layers import Embedding\n",
        "embedding = layers.Embedding(input_dim=max_vocal_length,\n",
        "                      output_dim=128,\n",
        "                      mask_zero=True,\n",
        "                      name=\"token_embedding\")"
      ],
      "metadata": {
        "id": "B9T9TaahwmGx"
      },
      "execution_count": 39,
      "outputs": []
    },
    {
      "cell_type": "code",
      "source": [
        "random_text = random.choice(train_sentences)\n",
        "print(f\"Original text: {random_text}\\n Embedded version: \")\n",
        "sample_embed = embedding(text_vectorizer([random_text]))\n",
        "print(sample_embed)"
      ],
      "metadata": {
        "colab": {
          "base_uri": "https://localhost:8080/"
        },
        "id": "Lat-eOZK1cQh",
        "outputId": "1b76e8d3-b35a-4cb9-d3a8-bffae5633309"
      },
      "execution_count": 40,
      "outputs": [
        {
          "output_type": "stream",
          "name": "stdout",
          "text": [
            "Original text: plant stanol esters partly block cholesterol absorption in the digestive tract and thereby reduce total cholesterol and low-density lipoprotein ( ldl ) cholesterol serum levels .\n",
            " Embedded version: \n",
            "tf.Tensor(\n",
            "[[[-0.04390475  0.04102006  0.02463439 ... -0.00980096  0.03731551\n",
            "    0.04244757]\n",
            "  [-0.01034264  0.02502077 -0.03137121 ... -0.0211732   0.00021098\n",
            "    0.01350338]\n",
            "  [-0.02216665 -0.03733282  0.03483972 ... -0.03242431  0.02271508\n",
            "   -0.04597062]\n",
            "  ...\n",
            "  [-0.04867617 -0.00199025 -0.02635033 ... -0.04945729  0.01625718\n",
            "    0.01508209]\n",
            "  [-0.04867617 -0.00199025 -0.02635033 ... -0.04945729  0.01625718\n",
            "    0.01508209]\n",
            "  [-0.04867617 -0.00199025 -0.02635033 ... -0.04945729  0.01625718\n",
            "    0.01508209]]], shape=(1, 55, 128), dtype=float32)\n"
          ]
        }
      ]
    },
    {
      "cell_type": "markdown",
      "source": [
        "##Create dataset using tf.data API\n",
        "\n",
        "Read:\n",
        "* https://www.tensorflow.org/guide/data_performance\n",
        "* https://www.tensorflow.org/guide/data\n"
      ],
      "metadata": {
        "id": "0vaoub1Z4VCQ"
      }
    },
    {
      "cell_type": "code",
      "source": [
        "train_ds = tf.data.Dataset.from_tensor_slices((tf.squeeze(train_sentences), tf.squeeze(train_labels_one_hot)))\n",
        "test_ds = tf.data.Dataset.from_tensor_slices((tf.squeeze(test_sentences), tf.squeeze(test_labels_one_hot)))\n",
        "val_ds = tf.data.Dataset.from_tensor_slices((tf.squeeze(val_sentences), tf.squeeze(val_labels_one_hot)))\n",
        "train_ds"
      ],
      "metadata": {
        "colab": {
          "base_uri": "https://localhost:8080/"
        },
        "id": "815k28bX4bvY",
        "outputId": "2547a09c-13da-40cc-ec83-13906ff51166"
      },
      "execution_count": 41,
      "outputs": [
        {
          "output_type": "execute_result",
          "data": {
            "text/plain": [
              "<_TensorSliceDataset element_spec=(TensorSpec(shape=(), dtype=tf.string, name=None), TensorSpec(shape=(5,), dtype=tf.float64, name=None))>"
            ]
          },
          "metadata": {},
          "execution_count": 41
        }
      ]
    },
    {
      "cell_type": "code",
      "source": [
        "#Take Tensorslices datasets and turn them into prefetched datasets with batches\n",
        "train_ds = train_ds.batch(32).prefetch(buffer_size=tf.data.AUTOTUNE)\n",
        "test_ds = test_ds.batch(32).prefetch(buffer_size=tf.data.AUTOTUNE)\n",
        "val_ds = val_ds.batch(32).prefetch(buffer_size=tf.data.AUTOTUNE)\n",
        "train_ds"
      ],
      "metadata": {
        "colab": {
          "base_uri": "https://localhost:8080/"
        },
        "id": "FUzQi-9E5uRU",
        "outputId": "982ca826-c7a8-4713-dfe0-6ece193eb857"
      },
      "execution_count": 42,
      "outputs": [
        {
          "output_type": "execute_result",
          "data": {
            "text/plain": [
              "<_PrefetchDataset element_spec=(TensorSpec(shape=(None,), dtype=tf.string, name=None), TensorSpec(shape=(None, 5), dtype=tf.float64, name=None))>"
            ]
          },
          "metadata": {},
          "execution_count": 42
        }
      ]
    },
    {
      "cell_type": "markdown",
      "source": [
        "#Build 1D Convolutional Neural Network model"
      ],
      "metadata": {
        "id": "Odv0RwPi2OkY"
      }
    },
    {
      "cell_type": "code",
      "source": [
        "#Create the model\n",
        "inputs=layers.Input(shape=(1,), dtype=\"string\")\n",
        "print(inputs.shape)\n",
        "x=text_vectorizer(inputs)\n",
        "print(x.shape)\n",
        "x=embedding(x)\n",
        "print(x.shape)\n",
        "x=layers.Conv1D(filters=64, kernel_size=5, strides=1, padding=\"same\", activation=\"relu\")(x)\n",
        "print(x.shape)\n",
        "x=layers.GlobalAveragePooling1D()(x)\n",
        "print(x.shape)\n",
        "outputs=layers.Dense(num_classes, activation=\"softmax\")(x)\n",
        "print(outputs.shape)\n",
        "model_1=tf.keras.Model(inputs, outputs, name=\"model_1\")"
      ],
      "metadata": {
        "colab": {
          "base_uri": "https://localhost:8080/"
        },
        "id": "0iqxgboX1kKJ",
        "outputId": "f674a8ef-fe5a-493d-9329-08fab93fd9e1"
      },
      "execution_count": 43,
      "outputs": [
        {
          "output_type": "stream",
          "name": "stdout",
          "text": [
            "(None, 1)\n",
            "(None, 55)\n",
            "(None, 55, 128)\n",
            "(None, 55, 64)\n",
            "(None, 64)\n",
            "(None, 5)\n"
          ]
        }
      ]
    },
    {
      "cell_type": "code",
      "source": [
        "from tensorflow.keras.utils import plot_model\n",
        "plot_model(model_1, show_shapes=True)"
      ],
      "metadata": {
        "colab": {
          "base_uri": "https://localhost:8080/",
          "height": 644
        },
        "id": "G8uewmRWkuqA",
        "outputId": "dad56afa-9077-4e7b-862a-884522eb8a84"
      },
      "execution_count": 151,
      "outputs": [
        {
          "output_type": "execute_result",
          "data": {
            "image/png": "[encoded data removed]",
            "text/plain": [
              "<IPython.core.display.Image object>"
            ]
          },
          "metadata": {},
          "execution_count": 151
        }
      ]
    },
    {
      "cell_type": "code",
      "source": [
        "#Compile the model\n",
        "model_1.compile(\n",
        "    loss=tf.keras.losses.CategoricalCrossentropy(),\n",
        "    optimizer=tf.keras.optimizers.Adam(),\n",
        "    metrics=[\"accuracy\"]\n",
        ")"
      ],
      "metadata": {
        "id": "xLiyQhal2fFg"
      },
      "execution_count": 44,
      "outputs": []
    },
    {
      "cell_type": "code",
      "source": [
        "from Helper_functions import create_tensorboard_callback"
      ],
      "metadata": {
        "id": "6GlJl28-2tys"
      },
      "execution_count": 45,
      "outputs": []
    },
    {
      "cell_type": "code",
      "source": [
        "#Fit the model\n",
        "history_1 = model_1.fit(train_ds,\n",
        "                        steps_per_epoch=int(0.1*len(train_ds)),\n",
        "                        epochs=3,\n",
        "                        validation_data=val_ds,\n",
        "                        validation_steps=int(0.1*len(val_ds)),\n",
        "                        callbacks=[create_tensorboard_callback(\"experiment_log\",\"model_1\")])"
      ],
      "metadata": {
        "colab": {
          "base_uri": "https://localhost:8080/"
        },
        "id": "hS0VObNU2hge",
        "outputId": "427282b5-36ec-4661-aa23-7494d5cfea60"
      },
      "execution_count": 46,
      "outputs": [
        {
          "output_type": "stream",
          "name": "stdout",
          "text": [
            "Saving TensorBoard log files to: experiment_log/model_1/20240105-064749\n",
            "Epoch 1/3\n",
            "562/562 [==============================] - 21s 32ms/step - loss: 0.9138 - accuracy: 0.6408 - val_loss: 0.6828 - val_accuracy: 0.7387\n",
            "Epoch 2/3\n",
            "562/562 [==============================] - 5s 9ms/step - loss: 0.6584 - accuracy: 0.7563 - val_loss: 0.6332 - val_accuracy: 0.7729\n",
            "Epoch 3/3\n",
            "562/562 [==============================] - 6s 10ms/step - loss: 0.6210 - accuracy: 0.7748 - val_loss: 0.5987 - val_accuracy: 0.7839\n"
          ]
        }
      ]
    },
    {
      "cell_type": "code",
      "source": [
        "model_1_preds = model_1.predict(val_ds)\n",
        "model_1_preds[:10]"
      ],
      "metadata": {
        "colab": {
          "base_uri": "https://localhost:8080/"
        },
        "id": "bXHXxxDyBYqo",
        "outputId": "f5c937f0-b5a1-4c76-d394-6540c73d188f"
      },
      "execution_count": 47,
      "outputs": [
        {
          "output_type": "stream",
          "name": "stdout",
          "text": [
            "945/945 [==============================] - 3s 3ms/step\n"
          ]
        },
        {
          "output_type": "execute_result",
          "data": {
            "text/plain": [
              "array([[4.2640871e-01, 2.1084934e-01, 8.7765127e-02, 2.4290486e-01,\n",
              "        3.2071959e-02],\n",
              "       [4.2558393e-01, 2.8349310e-01, 1.0393696e-02, 2.7443692e-01,\n",
              "        6.0923281e-03],\n",
              "       [1.2669659e-01, 8.7074134e-03, 1.3857026e-03, 8.6318481e-01,\n",
              "        2.5432413e-05],\n",
              "       [1.6734486e-05, 2.1011710e-04, 9.7918576e-01, 1.0968989e-05,\n",
              "        2.0576417e-02],\n",
              "       [1.3388743e-03, 2.8567366e-02, 2.9840508e-01, 8.1599341e-04,\n",
              "        6.7087269e-01],\n",
              "       [2.0044979e-02, 3.1468440e-02, 5.7258767e-01, 8.6190142e-03,\n",
              "        3.6727983e-01],\n",
              "       [4.7181975e-04, 4.3320819e-03, 2.3840654e-01, 1.9098535e-04,\n",
              "        7.5659859e-01],\n",
              "       [3.3055346e-02, 3.1816922e-02, 6.7424518e-01, 1.6757851e-02,\n",
              "        2.4412474e-01],\n",
              "       [2.7407170e-13, 3.3824257e-08, 1.5494876e-07, 4.4236682e-14,\n",
              "        9.9999976e-01],\n",
              "       [1.0682083e-02, 6.4873582e-01, 4.2726591e-02, 2.1898085e-02,\n",
              "        2.7595741e-01]], dtype=float32)"
            ]
          },
          "metadata": {},
          "execution_count": 47
        }
      ]
    },
    {
      "cell_type": "code",
      "source": [
        "model_1.evaluate(val_ds)"
      ],
      "metadata": {
        "colab": {
          "base_uri": "https://localhost:8080/"
        },
        "id": "7pL0lLJkBfbg",
        "outputId": "4dd7b259-7a45-47ec-c472-46c57b3bb3d1"
      },
      "execution_count": 48,
      "outputs": [
        {
          "output_type": "stream",
          "name": "stdout",
          "text": [
            "945/945 [==============================] - 3s 3ms/step - loss: 0.6018 - accuracy: 0.7842\n"
          ]
        },
        {
          "output_type": "execute_result",
          "data": {
            "text/plain": [
              "[0.6017628312110901, 0.784224808216095]"
            ]
          },
          "metadata": {},
          "execution_count": 48
        }
      ]
    },
    {
      "cell_type": "code",
      "source": [
        "model_1_pred = tf.argmax(model_1_preds, axis=1)"
      ],
      "metadata": {
        "id": "9jsBBlfIDVWI"
      },
      "execution_count": 49,
      "outputs": []
    },
    {
      "cell_type": "code",
      "source": [
        "model_1_result = calculate_results(val_labels, model_1_pred)\n",
        "model_1_result"
      ],
      "metadata": {
        "colab": {
          "base_uri": "https://localhost:8080/"
        },
        "id": "i5oEk-j7DYxM",
        "outputId": "c39ce934-95c5-46d1-fcef-aa38f7a65b50"
      },
      "execution_count": 50,
      "outputs": [
        {
          "output_type": "execute_result",
          "data": {
            "text/plain": [
              "{'accuracy': 78.42248113332451,\n",
              " 'precision': 0.7812092406552386,\n",
              " 'recall': 0.7842248113332451,\n",
              " 'f1': 0.7819445726055091}"
            ]
          },
          "metadata": {},
          "execution_count": 50
        }
      ]
    },
    {
      "cell_type": "code",
      "source": [
        "model_1_pred_classes = class_names[tf.argmax(model_1_preds, axis=1)]"
      ],
      "metadata": {
        "id": "o1u9vVfBCfs3"
      },
      "execution_count": 51,
      "outputs": []
    },
    {
      "cell_type": "code",
      "source": [
        "model_1_pred_classes[:10]"
      ],
      "metadata": {
        "colab": {
          "base_uri": "https://localhost:8080/"
        },
        "id": "lKBRgrp1C6OO",
        "outputId": "7974cc80-5223-49e3-fb19-580c8dad256d"
      },
      "execution_count": 52,
      "outputs": [
        {
          "output_type": "execute_result",
          "data": {
            "text/plain": [
              "array(['BACKGROUND', 'BACKGROUND', 'OBJECTIVE', 'METHODS', 'RESULTS',\n",
              "       'METHODS', 'RESULTS', 'METHODS', 'RESULTS', 'CONCLUSIONS'],\n",
              "      dtype=object)"
            ]
          },
          "metadata": {},
          "execution_count": 52
        }
      ]
    },
    {
      "cell_type": "markdown",
      "source": [
        "#Building feature extraction pretrained model"
      ],
      "metadata": {
        "id": "Xqbey40R62g7"
      }
    },
    {
      "cell_type": "code",
      "source": [
        "import tensorflow_hub as hub\n",
        "model_url = \"https://www.kaggle.com/models/google/universal-sentence-encoder/frameworks/TensorFlow2/variations/universal-sentence-encoder/versions/2\"\n",
        "use_embed = hub.load(model_url)"
      ],
      "metadata": {
        "id": "TbjPoPSa-Auo"
      },
      "execution_count": 53,
      "outputs": []
    },
    {
      "cell_type": "code",
      "source": [
        "#Test out pretrained embedding\n",
        "random_train_sentence = random.choice(train_sentences)\n",
        "print(f\"Random sentence: {random_train_sentence}\")\n",
        "use_embedded_sentence = use_embed([random_train_sentence])\n",
        "print(f\"Sentence after embedding: {use_embedded_sentence[0][:20]}\")\n",
        "print(f\"Length of the sentence: {len(use_embedded_sentence[0])}\")"
      ],
      "metadata": {
        "colab": {
          "base_uri": "https://localhost:8080/"
        },
        "id": "GtRmkeuk801j",
        "outputId": "8fe2cfd1-71fe-459f-8b3e-fbbf88652a3f"
      },
      "execution_count": 54,
      "outputs": [
        {
          "output_type": "stream",
          "name": "stdout",
          "text": [
            "Random sentence: anti-ct iga results were similar .\n",
            "Sentence after embedding: [ 0.00158707  0.02702519 -0.03365441  0.0387981   0.02121119  0.04596035\n",
            "  0.02702163 -0.07054179 -0.06457593 -0.00234462  0.01434826 -0.000816\n",
            "  0.04548253 -0.00208787 -0.08018789  0.0520009   0.01302753 -0.0502684\n",
            "  0.07808491  0.01091749]\n",
            "Length of the sentence: 512\n"
          ]
        }
      ]
    },
    {
      "cell_type": "code",
      "source": [
        "#Create the model\n",
        "embed_layer_encoder = hub.KerasLayer(model_url,\n",
        "                                     input_shape=[], #pretrained model characteristics mention the input shape to be []\n",
        "                                     dtype=tf.string,\n",
        "                                     name=\"use_embed\")\n",
        "\n",
        "model_2 = tf.keras.Sequential([\n",
        "    embed_layer_encoder,\n",
        "    layers.Dense(64, activation=\"relu\"),\n",
        "    layers.Dense(num_classes, activation=\"softmax\")\n",
        "])\n",
        "\n",
        "model_2.compile(\n",
        "    loss=tf.keras.losses.CategoricalCrossentropy(),\n",
        "    metrics=['accuracy'],\n",
        "    optimizer=tf.keras.optimizers.Adam()\n",
        ")\n",
        "model_2.summary()"
      ],
      "metadata": {
        "colab": {
          "base_uri": "https://localhost:8080/"
        },
        "id": "0oA6O5aeC8Ji",
        "outputId": "2924567f-0e90-4117-e210-e5ab5dcf7d93"
      },
      "execution_count": 55,
      "outputs": [
        {
          "output_type": "stream",
          "name": "stdout",
          "text": [
            "Model: \"sequential\"\n",
            "_________________________________________________________________\n",
            " Layer (type)                Output Shape              Param #   \n",
            "=================================================================\n",
            " use_embed (KerasLayer)      (None, 512)               256797824 \n",
            "                                                                 \n",
            " dense_1 (Dense)             (None, 64)                32832     \n",
            "                                                                 \n",
            " dense_2 (Dense)             (None, 5)                 325       \n",
            "                                                                 \n",
            "=================================================================\n",
            "Total params: 256830981 (979.73 MB)\n",
            "Trainable params: 33157 (129.52 KB)\n",
            "Non-trainable params: 256797824 (979.61 MB)\n",
            "_________________________________________________________________\n"
          ]
        }
      ]
    },
    {
      "cell_type": "code",
      "source": [
        "#Fit the model\n",
        "history = model_2.fit(train_ds,\n",
        "            steps_per_epoch=int(0.1*len(train_ds)),\n",
        "            epochs=3,\n",
        "            validation_data=val_ds,\n",
        "            validation_steps=int(0.1*len(val_ds)),\n",
        "            callbacks = [create_tensorboard_callback(\"experiment_log\",\"model_2\")])"
      ],
      "metadata": {
        "colab": {
          "base_uri": "https://localhost:8080/"
        },
        "id": "BRGB3nE29kjN",
        "outputId": "0589a1eb-dc8b-4e61-d58c-71064f05d87b"
      },
      "execution_count": 56,
      "outputs": [
        {
          "output_type": "stream",
          "name": "stdout",
          "text": [
            "Saving TensorBoard log files to: experiment_log/model_2/20240105-064907\n",
            "Epoch 1/3\n",
            "562/562 [==============================] - 13s 18ms/step - loss: 0.9445 - accuracy: 0.6416 - val_loss: 0.8065 - val_accuracy: 0.6802\n",
            "Epoch 2/3\n",
            "562/562 [==============================] - 8s 14ms/step - loss: 0.7814 - accuracy: 0.6955 - val_loss: 0.7699 - val_accuracy: 0.7001\n",
            "Epoch 3/3\n",
            "562/562 [==============================] - 7s 12ms/step - loss: 0.7697 - accuracy: 0.7042 - val_loss: 0.7579 - val_accuracy: 0.7081\n"
          ]
        }
      ]
    },
    {
      "cell_type": "code",
      "source": [
        "#Evaluate the model\n",
        "model_2.evaluate(val_ds)"
      ],
      "metadata": {
        "colab": {
          "base_uri": "https://localhost:8080/"
        },
        "id": "gp6Z9zhtBegY",
        "outputId": "e9a3b47a-01ab-4eff-f5f5-8af8f0ee9ed5"
      },
      "execution_count": 57,
      "outputs": [
        {
          "output_type": "stream",
          "name": "stdout",
          "text": [
            "945/945 [==============================] - 9s 10ms/step - loss: 0.7581 - accuracy: 0.7074\n"
          ]
        },
        {
          "output_type": "execute_result",
          "data": {
            "text/plain": [
              "[0.7580713033676147, 0.7074341177940369]"
            ]
          },
          "metadata": {},
          "execution_count": 57
        }
      ]
    },
    {
      "cell_type": "code",
      "source": [
        "#Make predictions\n",
        "model_2_pred_probs = model_2.predict(val_ds)"
      ],
      "metadata": {
        "colab": {
          "base_uri": "https://localhost:8080/"
        },
        "id": "XT9FtP8TBiNA",
        "outputId": "704540f3-7925-48de-e5b7-3793f1b7604f"
      },
      "execution_count": 58,
      "outputs": [
        {
          "output_type": "stream",
          "name": "stdout",
          "text": [
            "945/945 [==============================] - 10s 10ms/step\n"
          ]
        }
      ]
    },
    {
      "cell_type": "code",
      "source": [
        "model_1_preds = tf.argmax(model_2_pred_probs, axis=1)"
      ],
      "metadata": {
        "id": "9_YYwKIhBukS"
      },
      "execution_count": 59,
      "outputs": []
    },
    {
      "cell_type": "code",
      "source": [
        "model_2_results = calculate_results(val_labels, model_1_preds)\n",
        "model_2_results"
      ],
      "metadata": {
        "colab": {
          "base_uri": "https://localhost:8080/"
        },
        "id": "FVcvaFgnB5Jh",
        "outputId": "54560790-df82-471b-fe39-39ab11d1739a"
      },
      "execution_count": 60,
      "outputs": [
        {
          "output_type": "execute_result",
          "data": {
            "text/plain": [
              "{'accuracy': 70.74341321329273,\n",
              " 'precision': 0.7066501885401197,\n",
              " 'recall': 0.7074341321329273,\n",
              " 'f1': 0.7037912850578004}"
            ]
          },
          "metadata": {},
          "execution_count": 60
        }
      ]
    },
    {
      "cell_type": "markdown",
      "source": [
        "#Build character embedding model\n",
        "\n",
        "\n"
      ],
      "metadata": {
        "id": "AyeOnHKhP1z7"
      }
    },
    {
      "cell_type": "code",
      "source": [
        "#Make function to split sentences into characters\n",
        "def split_chars(text):\n",
        "  return \" \".join(list(text))\n",
        "#Text splitting non-character-level sequence into characters\n",
        "split_chars(random_train_sentence)"
      ],
      "metadata": {
        "colab": {
          "base_uri": "https://localhost:8080/",
          "height": 36
        },
        "id": "Sb3ou-O1CEze",
        "outputId": "9f41b445-2087-4691-9542-9d1106041588"
      },
      "execution_count": 61,
      "outputs": [
        {
          "output_type": "execute_result",
          "data": {
            "text/plain": [
              "'a n t i - c t   i g a   r e s u l t s   w e r e   s i m i l a r   .'"
            ],
            "application/vnd.google.colaboratory.intrinsic+json": {
              "type": "string"
            }
          },
          "metadata": {},
          "execution_count": 61
        }
      ]
    },
    {
      "cell_type": "code",
      "source": [
        "train_chars = [split_chars(sentence) for sentence in train_sentences]\n",
        "test_chars = [split_chars(sentence) for sentence in test_sentences]\n",
        "val_chars = [split_chars(sentence) for sentence in val_sentences]\n",
        "train_chars[:5]"
      ],
      "metadata": {
        "colab": {
          "base_uri": "https://localhost:8080/"
        },
        "id": "VKngIiUjRwtC",
        "outputId": "50a9101f-88df-4b08-9db2-cae74c4ec009"
      },
      "execution_count": 62,
      "outputs": [
        {
          "output_type": "execute_result",
          "data": {
            "text/plain": [
              "['t o   i n v e s t i g a t e   t h e   e f f i c a c y   o f   @   w e e k s   o f   d a i l y   l o w - d o s e   o r a l   p r e d n i s o l o n e   i n   i m p r o v i n g   p a i n   ,   m o b i l i t y   ,   a n d   s y s t e m i c   l o w - g r a d e   i n f l a m m a t i o n   i n   t h e   s h o r t   t e r m   a n d   w h e t h e r   t h e   e f f e c t   w o u l d   b e   s u s t a i n e d   a t   @   w e e k s   i n   o l d e r   a d u l t s   w i t h   m o d e r a t e   t o   s e v e r e   k n e e   o s t e o a r t h r i t i s   (   o a   )   .',\n",
              " 'a   t o t a l   o f   @   p a t i e n t s   w i t h   p r i m a r y   k n e e   o a   w e r e   r a n d o m i z e d   @ : @   ;   @   r e c e i v e d   @   m g / d a y   o f   p r e d n i s o l o n e   a n d   @   r e c e i v e d   p l a c e b o   f o r   @   w e e k s   .',\n",
              " 'o u t c o m e   m e a s u r e s   i n c l u d e d   p a i n   r e d u c t i o n   a n d   i m p r o v e m e n t   i n   f u n c t i o n   s c o r e s   a n d   s y s t e m i c   i n f l a m m a t i o n   m a r k e r s   .',\n",
              " 'p a i n   w a s   a s s e s s e d   u s i n g   t h e   v i s u a l   a n a l o g   p a i n   s c a l e   (   @ - @   m m   )   .',\n",
              " 's e c o n d a r y   o u t c o m e   m e a s u r e s   i n c l u d e d   t h e   w e s t e r n   o n t a r i o   a n d   m c m a s t e r   u n i v e r s i t i e s   o s t e o a r t h r i t i s   i n d e x   s c o r e s   ,   p a t i e n t   g l o b a l   a s s e s s m e n t   (   p g a   )   o f   t h e   s e v e r i t y   o f   k n e e   o a   ,   a n d   @ - m i n   w a l k   d i s t a n c e   (   @ m w d   )   .']"
            ]
          },
          "metadata": {},
          "execution_count": 62
        }
      ]
    },
    {
      "cell_type": "code",
      "source": [
        "#Find the average character length of a sentence\n",
        "char_len = [len(sentence) for sentence in train_sentences]\n",
        "mean_char_len = np.mean(char_len)\n",
        "mean_char_len"
      ],
      "metadata": {
        "colab": {
          "base_uri": "https://localhost:8080/"
        },
        "id": "Qg85rT9rR2DT",
        "outputId": "10b2dcaf-3251-413e-de3e-24cbfa80b622"
      },
      "execution_count": 63,
      "outputs": [
        {
          "output_type": "execute_result",
          "data": {
            "text/plain": [
              "149.3662574983337"
            ]
          },
          "metadata": {},
          "execution_count": 63
        }
      ]
    },
    {
      "cell_type": "code",
      "source": [
        "#Check the distribution\n",
        "plt.hist(char_len, bins=7)"
      ],
      "metadata": {
        "colab": {
          "base_uri": "https://localhost:8080/",
          "height": 517
        },
        "id": "JhKyK7abSy2t",
        "outputId": "040b32b0-1d7b-4e35-e0e6-d85436db8b61"
      },
      "execution_count": 64,
      "outputs": [
        {
          "output_type": "execute_result",
          "data": {
            "text/plain": [
              "(array([1.41175e+05, 3.71110e+04, 1.60000e+03, 1.27000e+02, 2.10000e+01,\n",
              "        5.00000e+00, 1.00000e+00]),\n",
              " array([1.00000000e+00, 1.98857143e+02, 3.96714286e+02, 5.94571429e+02,\n",
              "        7.92428571e+02, 9.90285714e+02, 1.18814286e+03, 1.38600000e+03]),\n",
              " <BarContainer object of 7 artists>)"
            ]
          },
          "metadata": {},
          "execution_count": 64
        },
        {
          "output_type": "display_data",
          "data": {
            "text/plain": [
              "<Figure size 640x480 with 1 Axes>"
            ],
            "image/png": "[encoded data removed]"
          },
          "metadata": {}
        }
      ]
    },
    {
      "cell_type": "code",
      "source": [
        "#Check 95th percentile\n",
        "output_seq_char_len = np.percentile(char_len, 95)\n",
        "output_seq_char_len"
      ],
      "metadata": {
        "colab": {
          "base_uri": "https://localhost:8080/"
        },
        "id": "lB489lvcUGGf",
        "outputId": "9d57fb68-0a91-4954-dd63-55bb8b6c5ad2"
      },
      "execution_count": 65,
      "outputs": [
        {
          "output_type": "execute_result",
          "data": {
            "text/plain": [
              "290.0"
            ]
          },
          "metadata": {},
          "execution_count": 65
        }
      ]
    },
    {
      "cell_type": "code",
      "source": [
        "#Get all keyboard characters\n",
        "import string\n",
        "alphabet = string.ascii_lowercase + string.digits + string.punctuation\n",
        "alphabet"
      ],
      "metadata": {
        "colab": {
          "base_uri": "https://localhost:8080/",
          "height": 36
        },
        "id": "6dR734E7UUmS",
        "outputId": "1984ae9c-91f3-4a61-addd-4cc5e2555862"
      },
      "execution_count": 66,
      "outputs": [
        {
          "output_type": "execute_result",
          "data": {
            "text/plain": [
              "'abcdefghijklmnopqrstuvwxyz0123456789!\"#$%&\\'()*+,-./:;<=>?@[\\\\]^_`{|}~'"
            ],
            "application/vnd.google.colaboratory.intrinsic+json": {
              "type": "string"
            }
          },
          "metadata": {},
          "execution_count": 66
        }
      ]
    },
    {
      "cell_type": "code",
      "source": [
        "#Set up text vectorization layer\n",
        "num_char_tokens = len(alphabet)+2\n",
        "char_vectorizer = TextVectorization(max_tokens=num_char_tokens,\n",
        "                                 output_sequence_length=int(output_seq_char_len),\n",
        "                                 #standardize=None, #Set standardize to None if you want to keep punctuation\n",
        "                                 name=\"char_vectorizer\")\n",
        "char_vectorizer.adapt(train_chars)"
      ],
      "metadata": {
        "id": "s7TFJCaCVDoy"
      },
      "execution_count": 67,
      "outputs": []
    },
    {
      "cell_type": "code",
      "source": [
        "#Check character vocab stats\n",
        "char_vocab = char_vectorizer.get_vocabulary()\n",
        "print(f\"Number of different characters in char vocab: {len(char_vocab)}\")\n",
        "print(f\"Top 5 most common characters: {char_vocab[:5]}\")\n",
        "print(f\"Top 5 least common characters: {char_vocab[-5:]}\")"
      ],
      "metadata": {
        "colab": {
          "base_uri": "https://localhost:8080/"
        },
        "id": "pPXP7FUvVgs0",
        "outputId": "1c2bfa2d-232a-487a-ff68-6413a9fe3ea5"
      },
      "execution_count": 68,
      "outputs": [
        {
          "output_type": "stream",
          "name": "stdout",
          "text": [
            "Number of different characters in char vocab: 28\n",
            "Top 5 most common characters: ['', '[UNK]', 'e', 't', 'i']\n",
            "Top 5 least common characters: ['k', 'x', 'z', 'q', 'j']\n"
          ]
        }
      ]
    },
    {
      "cell_type": "code",
      "source": [
        "random_train_chars = random.choice(train_chars)\n",
        "print(f\"Charified text: {random_train_chars}\")\n",
        "print(f\"Length of random_train_chars: {len(random_train_chars)}\")\n",
        "vectorized_chars = char_vectorizer([random_train_chars])\n",
        "print(f\"Vectorized chars: {vectorized_chars}\")\n",
        "print(f\"Length of vectorized chars: {len(vectorized_chars[0])}\")"
      ],
      "metadata": {
        "colab": {
          "base_uri": "https://localhost:8080/"
        },
        "id": "xTP7U6LFV8m7",
        "outputId": "6b26e0b7-9226-42da-87d8-9385ebddf65c"
      },
      "execution_count": 69,
      "outputs": [
        {
          "output_type": "stream",
          "name": "stdout",
          "text": [
            "Charified text: t h e   t e c h n i c a l   s k i l l   a s s e s s m e n t   i n s t r u m e n t   (   t s a i   )   h a s   b e e n   c o n t e n t   v a l i d a t e d   a n d   t e s t e d   f o r   i n t r a r a t e r   r e l i a b i l i t y   .\n",
            "Length of random_train_chars: 233\n",
            "Vectorized chars: [[ 3 13  2  3  2 11 13  6  4 11  5 12  9 23  4 12 12  5  9  9  2  9  9 15\n",
            "   2  6  3  4  6  9  3  8 16 15  2  6  3  3  9  5  4 13  5  9 22  2  2  6\n",
            "  11  7  6  3  2  6  3 21  5 12  4 10  5  3  2 10  5  6 10  3  2  9  3  2\n",
            "  10 17  7  8  4  6  3  8  5  8  5  3  2  8  8  2 12  4  5 22  4 12  4  3\n",
            "  19  0  0  0  0  0  0  0  0  0  0  0  0  0  0  0  0  0  0  0  0  0  0  0\n",
            "   0  0  0  0  0  0  0  0  0  0  0  0  0  0  0  0  0  0  0  0  0  0  0  0\n",
            "   0  0  0  0  0  0  0  0  0  0  0  0  0  0  0  0  0  0  0  0  0  0  0  0\n",
            "   0  0  0  0  0  0  0  0  0  0  0  0  0  0  0  0  0  0  0  0  0  0  0  0\n",
            "   0  0  0  0  0  0  0  0  0  0  0  0  0  0  0  0  0  0  0  0  0  0  0  0\n",
            "   0  0  0  0  0  0  0  0  0  0  0  0  0  0  0  0  0  0  0  0  0  0  0  0\n",
            "   0  0  0  0  0  0  0  0  0  0  0  0  0  0  0  0  0  0  0  0  0  0  0  0\n",
            "   0  0  0  0  0  0  0  0  0  0  0  0  0  0  0  0  0  0  0  0  0  0  0  0\n",
            "   0  0]]\n",
            "Length of vectorized chars: 290\n"
          ]
        }
      ]
    },
    {
      "cell_type": "code",
      "source": [
        "#Create character-level embedding layer\n",
        "from tensorflow.keras import layers\n",
        "from tensorflow.keras.layers import Embedding\n",
        "char_embedding = layers.Embedding(input_dim=len(char_vocab),\n",
        "                      output_dim=25, #This is the size of char embedding in the paper\n",
        "                      mask_zero=True,\n",
        "                      name=\"char_embedding\")"
      ],
      "metadata": {
        "id": "OnoEmTzbXzxg"
      },
      "execution_count": 70,
      "outputs": []
    },
    {
      "cell_type": "code",
      "source": [
        "print(f\"Original text: {random_train_chars}\\n Embedded version: \")\n",
        "char_embed = char_embedding(char_vectorizer([random_train_chars]))\n",
        "print(char_embed)\n",
        "print(f\"Char embedding shape: {char_embed.shape}\")"
      ],
      "metadata": {
        "colab": {
          "base_uri": "https://localhost:8080/"
        },
        "id": "cQQ4E77eY2Cq",
        "outputId": "f64721a2-fde6-492b-8c18-25225b496820"
      },
      "execution_count": 71,
      "outputs": [
        {
          "output_type": "stream",
          "name": "stdout",
          "text": [
            "Original text: t h e   t e c h n i c a l   s k i l l   a s s e s s m e n t   i n s t r u m e n t   (   t s a i   )   h a s   b e e n   c o n t e n t   v a l i d a t e d   a n d   t e s t e d   f o r   i n t r a r a t e r   r e l i a b i l i t y   .\n",
            " Embedded version: \n",
            "tf.Tensor(\n",
            "[[[ 0.00247805 -0.04588345 -0.01554972 ...  0.04640404  0.04194334\n",
            "    0.01547709]\n",
            "  [-0.01264961 -0.01688285  0.01799921 ...  0.00920905 -0.02457525\n",
            "   -0.00313629]\n",
            "  [ 0.04226318 -0.04934261 -0.04934163 ...  0.0418259   0.01806403\n",
            "    0.03602346]\n",
            "  ...\n",
            "  [ 0.04865625  0.00987458  0.02663186 ... -0.01337276  0.00981413\n",
            "   -0.00491335]\n",
            "  [ 0.04865625  0.00987458  0.02663186 ... -0.01337276  0.00981413\n",
            "   -0.00491335]\n",
            "  [ 0.04865625  0.00987458  0.02663186 ... -0.01337276  0.00981413\n",
            "   -0.00491335]]], shape=(1, 290, 25), dtype=float32)\n",
            "Char embedding shape: (1, 290, 25)\n"
          ]
        }
      ]
    },
    {
      "cell_type": "code",
      "source": [
        "#Optimize dataset for character-level data\n",
        "train_char_ds = tf.data.Dataset.from_tensor_slices((train_chars, train_labels_one_hot)).batch(32).prefetch(buffer_size=tf.data.AUTOTUNE)\n",
        "test_char_ds = tf.data.Dataset.from_tensor_slices((test_chars, test_labels_one_hot)).batch(32).prefetch(buffer_size=tf.data.AUTOTUNE)\n",
        "val_char_ds = tf.data.Dataset.from_tensor_slices((val_chars, val_labels_one_hot)).batch(32).prefetch(buffer_size=tf.data.AUTOTUNE)\n",
        "train_char_ds"
      ],
      "metadata": {
        "colab": {
          "base_uri": "https://localhost:8080/"
        },
        "id": "xbHVpYJ3a7m3",
        "outputId": "024ba489-36fc-44f3-8f81-aae1df5c4d09"
      },
      "execution_count": 72,
      "outputs": [
        {
          "output_type": "execute_result",
          "data": {
            "text/plain": [
              "<_PrefetchDataset element_spec=(TensorSpec(shape=(None,), dtype=tf.string, name=None), TensorSpec(shape=(None, 5), dtype=tf.float64, name=None))>"
            ]
          },
          "metadata": {},
          "execution_count": 72
        }
      ]
    },
    {
      "cell_type": "code",
      "source": [
        "#Create the model\n",
        "inputs=layers.Input(shape=(1,), dtype=\"string\")\n",
        "print(inputs.shape)\n",
        "x=char_vectorizer(inputs)\n",
        "print(x.shape)\n",
        "x=char_embedding(x)\n",
        "print(x.shape)\n",
        "x=layers.Conv1D(filters=64, kernel_size=5, strides=1, padding=\"same\", activation=\"relu\")(x)\n",
        "print(x.shape)\n",
        "x=layers.GlobalMaxPool1D()(x)\n",
        "print(x.shape)\n",
        "outputs=layers.Dense(num_classes, activation=\"softmax\")(x)\n",
        "print(outputs.shape)\n",
        "model_3=tf.keras.Model(inputs, outputs, name=\"model_3\")"
      ],
      "metadata": {
        "colab": {
          "base_uri": "https://localhost:8080/"
        },
        "id": "-cQaDamOYuPW",
        "outputId": "333cd28c-5929-40fb-8ff5-52ac6ae58d64"
      },
      "execution_count": 73,
      "outputs": [
        {
          "output_type": "stream",
          "name": "stdout",
          "text": [
            "(None, 1)\n",
            "(None, 290)\n",
            "(None, 290, 25)\n",
            "(None, 290, 64)\n",
            "(None, 64)\n",
            "(None, 5)\n"
          ]
        }
      ]
    },
    {
      "cell_type": "code",
      "source": [
        "model_3.summary()"
      ],
      "metadata": {
        "colab": {
          "base_uri": "https://localhost:8080/"
        },
        "id": "dEjyp28LaFC_",
        "outputId": "bce1140d-c306-4115-f159-72d19ba00738"
      },
      "execution_count": 74,
      "outputs": [
        {
          "output_type": "stream",
          "name": "stdout",
          "text": [
            "Model: \"model_3\"\n",
            "_________________________________________________________________\n",
            " Layer (type)                Output Shape              Param #   \n",
            "=================================================================\n",
            " input_2 (InputLayer)        [(None, 1)]               0         \n",
            "                                                                 \n",
            " char_vectorizer (TextVecto  (None, 290)               0         \n",
            " rization)                                                       \n",
            "                                                                 \n",
            " char_embedding (Embedding)  (None, 290, 25)           700       \n",
            "                                                                 \n",
            " conv1d_1 (Conv1D)           (None, 290, 64)           8064      \n",
            "                                                                 \n",
            " global_max_pooling1d (Glob  (None, 64)                0         \n",
            " alMaxPooling1D)                                                 \n",
            "                                                                 \n",
            " dense_3 (Dense)             (None, 5)                 325       \n",
            "                                                                 \n",
            "=================================================================\n",
            "Total params: 9089 (35.50 KB)\n",
            "Trainable params: 9089 (35.50 KB)\n",
            "Non-trainable params: 0 (0.00 Byte)\n",
            "_________________________________________________________________\n"
          ]
        }
      ]
    },
    {
      "cell_type": "code",
      "source": [
        "#Compile the model\n",
        "model_3.compile(\n",
        "    loss=tf.keras.losses.CategoricalCrossentropy(),\n",
        "    optimizer=tf.keras.optimizers.Adam(),\n",
        "    metrics=[\"accuracy\"]\n",
        ")"
      ],
      "metadata": {
        "id": "HZClWqIbaGqp"
      },
      "execution_count": 75,
      "outputs": []
    },
    {
      "cell_type": "code",
      "source": [
        "#Fit the model\n",
        "history_3 = model_3.fit(train_char_ds,\n",
        "                        steps_per_epoch=int(0.1*len(train_char_ds)),\n",
        "                        epochs=3,\n",
        "                        validation_data=val_char_ds,\n",
        "                        validation_steps=int(0.1*len(val_char_ds)),\n",
        "                        callbacks=[create_tensorboard_callback(\"experiment_log\",\"model_3\")])"
      ],
      "metadata": {
        "colab": {
          "base_uri": "https://localhost:8080/"
        },
        "id": "oRDHMFdyalKE",
        "outputId": "2ec869e8-f6dd-474a-e43e-1503cab971e0"
      },
      "execution_count": 76,
      "outputs": [
        {
          "output_type": "stream",
          "name": "stdout",
          "text": [
            "Saving TensorBoard log files to: experiment_log/model_3/20240105-065037\n",
            "Epoch 1/3\n",
            "562/562 [==============================] - 6s 8ms/step - loss: 1.2652 - accuracy: 0.4938 - val_loss: 1.0437 - val_accuracy: 0.5821\n",
            "Epoch 2/3\n",
            "562/562 [==============================] - 3s 6ms/step - loss: 1.0099 - accuracy: 0.6038 - val_loss: 0.9384 - val_accuracy: 0.6416\n",
            "Epoch 3/3\n",
            "562/562 [==============================] - 3s 6ms/step - loss: 0.9324 - accuracy: 0.6377 - val_loss: 0.8684 - val_accuracy: 0.6742\n"
          ]
        }
      ]
    },
    {
      "cell_type": "code",
      "source": [
        "#Evaluate the model\n",
        "model_3.evaluate(val_char_ds)"
      ],
      "metadata": {
        "colab": {
          "base_uri": "https://localhost:8080/"
        },
        "id": "GxWPfokwefRa",
        "outputId": "77b63941-d7b6-41f8-f4a2-d0221bda8dcb"
      },
      "execution_count": 77,
      "outputs": [
        {
          "output_type": "stream",
          "name": "stdout",
          "text": [
            "945/945 [==============================] - 4s 4ms/step - loss: 0.8914 - accuracy: 0.6590\n"
          ]
        },
        {
          "output_type": "execute_result",
          "data": {
            "text/plain": [
              "[0.8913676142692566, 0.6590427756309509]"
            ]
          },
          "metadata": {},
          "execution_count": 77
        }
      ]
    },
    {
      "cell_type": "code",
      "source": [
        "#Make predictions\n",
        "model_3_pred_probs = model_3.predict(val_char_ds)\n",
        "model_3_preds = tf.argmax(model_3_pred_probs, axis=1)\n",
        "model_3_preds"
      ],
      "metadata": {
        "colab": {
          "base_uri": "https://localhost:8080/"
        },
        "id": "4WMt1DXBcOds",
        "outputId": "03865279-e1e5-44cd-f442-4c0ba76e660d"
      },
      "execution_count": 78,
      "outputs": [
        {
          "output_type": "stream",
          "name": "stdout",
          "text": [
            "945/945 [==============================] - 3s 3ms/step\n"
          ]
        },
        {
          "output_type": "execute_result",
          "data": {
            "text/plain": [
              "<tf.Tensor: shape=(30212,), dtype=int64, numpy=array([3, 1, 2, ..., 4, 4, 0])>"
            ]
          },
          "metadata": {},
          "execution_count": 78
        }
      ]
    },
    {
      "cell_type": "code",
      "source": [
        "#Calculate results\n",
        "model_3_results = calculate_results(val_labels, model_3_preds)\n",
        "model_3_results"
      ],
      "metadata": {
        "colab": {
          "base_uri": "https://localhost:8080/"
        },
        "id": "ZfMPX0L4evL7",
        "outputId": "c18fea39-23bd-4f0e-d6cf-e42b05c90458"
      },
      "execution_count": 79,
      "outputs": [
        {
          "output_type": "execute_result",
          "data": {
            "text/plain": [
              "{'accuracy': 65.90427644644512,\n",
              " 'precision': 0.6502012686260557,\n",
              " 'recall': 0.6590427644644512,\n",
              " 'f1': 0.6490570937802701}"
            ]
          },
          "metadata": {},
          "execution_count": 79
        }
      ]
    },
    {
      "cell_type": "markdown",
      "source": [
        "#Combine token and char vectorization & embedding models\n",
        "\n",
        "First, we will create a token-level embedding and then a character-level embedding. Later we will use concatenate layer and then build a series output layer. Finally, we will build a model which takes token and character sequence as input."
      ],
      "metadata": {
        "id": "grN92fbRfGdc"
      }
    },
    {
      "cell_type": "code",
      "source": [
        "#Create a token model\n",
        "token_inputs = layers.Input(shape=[], dtype=tf.string, name=\"token_input\")\n",
        "token_embeddings = embed_layer_encoder(token_inputs)\n",
        "token_outputs = layers.Dense(128, activation=\"relu\")(token_embeddings)\n",
        "token_model = tf.keras.Model(inputs = token_inputs, outputs = token_outputs)\n",
        "\n",
        "#Create a char model\n",
        "char_inputs = layers.Input(shape=(1,), dtype=tf.string, name=\"char_input\")\n",
        "char_vectors = char_vectorizer(char_inputs)\n",
        "char_embeddings = char_embedding(char_vectors)\n",
        "char_bi_lstm = layers.Bidirectional(layers.LSTM(25))(char_embeddings)\n",
        "char_model = tf.keras.Model(inputs = char_inputs, outputs = char_bi_lstm)\n",
        "\n",
        "#Concatenate models (hybrid token embedding)\n",
        "concat = tf.keras.layers.Concatenate(name=\"token_char_hybrid\")([token_model.output, char_model.output])\n",
        "\n",
        "#Create output layer - adding dropout (from paper)\n",
        "combined_dropout = layers.Dropout(0.5)(concat)\n",
        "combined_dense = layers.Dense(128, activation=\"relu\")(combined_dropout)\n",
        "final_dropout = layers.Dropout(0.5)(combined_dense)\n",
        "output_layer = layers.Dense(5, activation=\"softmax\")(final_dropout)\n",
        "\n",
        "#Construct the model\n",
        "model_4 = tf.keras.Model(inputs = [token_model.input, char_model.input],\n",
        "                         outputs = output_layer,\n",
        "                         name = \"model_4\")"
      ],
      "metadata": {
        "id": "wxU2bQj-e28n"
      },
      "execution_count": 80,
      "outputs": []
    },
    {
      "cell_type": "code",
      "source": [
        "#Compile the model\n",
        "model_4.compile(\n",
        "    loss = tf.keras.losses.CategoricalCrossentropy(),\n",
        "    optimizer = tf.keras.optimizers.Adam(),\n",
        "    metrics = [\"accuracy\"]\n",
        ")"
      ],
      "metadata": {
        "id": "4_WyvNvCN961"
      },
      "execution_count": 81,
      "outputs": []
    },
    {
      "cell_type": "code",
      "source": [
        "model_4.summary()"
      ],
      "metadata": {
        "colab": {
          "base_uri": "https://localhost:8080/"
        },
        "id": "03KReip6OVmz",
        "outputId": "92cceb65-ed49-42b5-d02f-330c5ecd9d97"
      },
      "execution_count": 82,
      "outputs": [
        {
          "output_type": "stream",
          "name": "stdout",
          "text": [
            "Model: \"model_4\"\n",
            "__________________________________________________________________________________________________\n",
            " Layer (type)                Output Shape                 Param #   Connected to                  \n",
            "==================================================================================================\n",
            " char_input (InputLayer)     [(None, 1)]                  0         []                            \n",
            "                                                                                                  \n",
            " token_input (InputLayer)    [(None,)]                    0         []                            \n",
            "                                                                                                  \n",
            " char_vectorizer (TextVecto  (None, 290)                  0         ['char_input[0][0]']          \n",
            " rization)                                                                                        \n",
            "                                                                                                  \n",
            " use_embed (KerasLayer)      (None, 512)                  2567978   ['token_input[0][0]']         \n",
            "                                                          24                                      \n",
            "                                                                                                  \n",
            " char_embedding (Embedding)  (None, 290, 25)              700       ['char_vectorizer[1][0]']     \n",
            "                                                                                                  \n",
            " dense_4 (Dense)             (None, 128)                  65664     ['use_embed[1][0]']           \n",
            "                                                                                                  \n",
            " bidirectional (Bidirection  (None, 50)                   10200     ['char_embedding[1][0]']      \n",
            " al)                                                                                              \n",
            "                                                                                                  \n",
            " token_char_hybrid (Concate  (None, 178)                  0         ['dense_4[0][0]',             \n",
            " nate)                                                               'bidirectional[0][0]']       \n",
            "                                                                                                  \n",
            " dropout (Dropout)           (None, 178)                  0         ['token_char_hybrid[0][0]']   \n",
            "                                                                                                  \n",
            " dense_5 (Dense)             (None, 128)                  22912     ['dropout[0][0]']             \n",
            "                                                                                                  \n",
            " dropout_1 (Dropout)         (None, 128)                  0         ['dense_5[0][0]']             \n",
            "                                                                                                  \n",
            " dense_6 (Dense)             (None, 5)                    645       ['dropout_1[0][0]']           \n",
            "                                                                                                  \n",
            "==================================================================================================\n",
            "Total params: 256897945 (979.99 MB)\n",
            "Trainable params: 100121 (391.10 KB)\n",
            "Non-trainable params: 256797824 (979.61 MB)\n",
            "__________________________________________________________________________________________________\n"
          ]
        }
      ]
    },
    {
      "cell_type": "code",
      "source": [
        "from keras.utils import plot_model\n",
        "plot_model(model_4, show_shapes=True)"
      ],
      "metadata": {
        "colab": {
          "base_uri": "https://localhost:8080/",
          "height": 976
        },
        "id": "UKaePWPLOd1m",
        "outputId": "a3134610-a4ff-4e71-8018-8c6e70155ffe"
      },
      "execution_count": 83,
      "outputs": [
        {
          "output_type": "execute_result",
          "data": {
            "image/png": "[encoded data removed]",
            "text/plain": [
              "<IPython.core.display.Image object>"
            ]
          },
          "metadata": {},
          "execution_count": 83
        }
      ]
    },
    {
      "cell_type": "markdown",
      "source": [
        "##Modify dataset to combine token and character data"
      ],
      "metadata": {
        "id": "r_7juRRDVjSe"
      }
    },
    {
      "cell_type": "code",
      "source": [
        "train_hybrid_data = tf.data.Dataset.from_tensor_slices((train_sentences, train_chars))\n",
        "train_hybrid_labels = tf.data.Dataset.from_tensor_slices((train_labels_one_hot))\n",
        "train_hybrid_ds = tf.data.Dataset.zip(train_hybrid_data, train_hybrid_labels)\n",
        "train_hybrid_ds = train_hybrid_ds.batch(32).prefetch(buffer_size=tf.data.AUTOTUNE)\n",
        "\n",
        "test_hybrid_data = tf.data.Dataset.from_tensor_slices((test_sentences, test_chars))\n",
        "test_hybrid_labels = tf.data.Dataset.from_tensor_slices((test_labels_one_hot))\n",
        "test_hybrid_ds = tf.data.Dataset.zip(test_hybrid_data, test_hybrid_labels)\n",
        "test_hybrid_ds = test_hybrid_ds.batch(32).prefetch(buffer_size=tf.data.AUTOTUNE)\n",
        "\n",
        "val_hybrid_data = tf.data.Dataset.from_tensor_slices((val_sentences, val_chars))\n",
        "val_hybrid_labels = tf.data.Dataset.from_tensor_slices((val_labels_one_hot))\n",
        "val_hybrid_ds = tf.data.Dataset.zip(val_hybrid_data, val_hybrid_labels)\n",
        "val_hybrid_ds = val_hybrid_ds.batch(32).prefetch(buffer_size=tf.data.AUTOTUNE)\n",
        "\n",
        "train_hybrid_ds, val_hybrid_ds"
      ],
      "metadata": {
        "colab": {
          "base_uri": "https://localhost:8080/"
        },
        "id": "RnhfuMoVP2VK",
        "outputId": "5aae59be-e81e-47a4-e294-3156755b2277"
      },
      "execution_count": 84,
      "outputs": [
        {
          "output_type": "execute_result",
          "data": {
            "text/plain": [
              "(<_PrefetchDataset element_spec=((TensorSpec(shape=(None,), dtype=tf.string, name=None), TensorSpec(shape=(None,), dtype=tf.string, name=None)), TensorSpec(shape=(None, 5), dtype=tf.float64, name=None))>,\n",
              " <_PrefetchDataset element_spec=((TensorSpec(shape=(None,), dtype=tf.string, name=None), TensorSpec(shape=(None,), dtype=tf.string, name=None)), TensorSpec(shape=(None, 5), dtype=tf.float64, name=None))>)"
            ]
          },
          "metadata": {},
          "execution_count": 84
        }
      ]
    },
    {
      "cell_type": "code",
      "source": [
        "#Fit the model\n",
        "history_4 = model_4.fit(train_hybrid_ds,\n",
        "                        steps_per_epoch=int(0.1*len(train_hybrid_ds)),\n",
        "                        epochs=3,\n",
        "                        validation_data=val_hybrid_ds,\n",
        "                        validation_steps=int(0.1*len(val_hybrid_ds)),\n",
        "                        callbacks = [create_tensorboard_callback(\"experiment_log\",\"model_4\")])"
      ],
      "metadata": {
        "colab": {
          "base_uri": "https://localhost:8080/"
        },
        "id": "Jvs3Ra8xOPom",
        "outputId": "3e10a49f-941e-4645-d9d4-da4f8fb19f41"
      },
      "execution_count": 85,
      "outputs": [
        {
          "output_type": "stream",
          "name": "stdout",
          "text": [
            "Saving TensorBoard log files to: experiment_log/model_4/20240105-065100\n",
            "Epoch 1/3\n",
            "562/562 [==============================] - 40s 51ms/step - loss: 0.9809 - accuracy: 0.6077 - val_loss: 0.7833 - val_accuracy: 0.6971\n",
            "Epoch 2/3\n",
            "562/562 [==============================] - 26s 47ms/step - loss: 0.7991 - accuracy: 0.6917 - val_loss: 0.7208 - val_accuracy: 0.7274\n",
            "Epoch 3/3\n",
            "562/562 [==============================] - 24s 43ms/step - loss: 0.7702 - accuracy: 0.7074 - val_loss: 0.6867 - val_accuracy: 0.7340\n"
          ]
        }
      ]
    },
    {
      "cell_type": "code",
      "source": [
        "#Evaluate the model\n",
        "model_4.evaluate(val_hybrid_ds)"
      ],
      "metadata": {
        "colab": {
          "base_uri": "https://localhost:8080/"
        },
        "id": "KXW97juARm1P",
        "outputId": "e0c13850-17e2-47fe-8c6f-be11151c343b"
      },
      "execution_count": 86,
      "outputs": [
        {
          "output_type": "stream",
          "name": "stdout",
          "text": [
            "945/945 [==============================] - 19s 20ms/step - loss: 0.6901 - accuracy: 0.7356\n"
          ]
        },
        {
          "output_type": "execute_result",
          "data": {
            "text/plain": [
              "[0.6901012659072876, 0.7356017231941223]"
            ]
          },
          "metadata": {},
          "execution_count": 86
        }
      ]
    },
    {
      "cell_type": "code",
      "source": [
        "#Make predictions\n",
        "model_4_pred_probs = model_4.predict(val_hybrid_ds)\n",
        "model_4_preds = tf.argmax(model_4_pred_probs, axis=1)"
      ],
      "metadata": {
        "colab": {
          "base_uri": "https://localhost:8080/"
        },
        "id": "qNtWKS8-RzzB",
        "outputId": "162bbd08-72c4-473f-c0a6-09f0e348dee7"
      },
      "execution_count": 87,
      "outputs": [
        {
          "output_type": "stream",
          "name": "stdout",
          "text": [
            "945/945 [==============================] - 21s 19ms/step\n"
          ]
        }
      ]
    },
    {
      "cell_type": "code",
      "source": [
        "#Calculate results\n",
        "model_4_results = calculate_results(val_labels, model_4_preds)\n",
        "model_4_results"
      ],
      "metadata": {
        "colab": {
          "base_uri": "https://localhost:8080/"
        },
        "id": "QgS7OdBuSBBa",
        "outputId": "60804fff-c358-42f9-aca8-34fbc836d63a"
      },
      "execution_count": 88,
      "outputs": [
        {
          "output_type": "execute_result",
          "data": {
            "text/plain": [
              "{'accuracy': 73.56017476499404,\n",
              " 'precision': 0.7345177521956696,\n",
              " 'recall': 0.7356017476499405,\n",
              " 'f1': 0.733522167261031}"
            ]
          },
          "metadata": {},
          "execution_count": 88
        }
      ]
    },
    {
      "cell_type": "markdown",
      "source": [
        "#Build model with token & character & positional embeddings using Feature Engineering"
      ],
      "metadata": {
        "id": "jNM5EKU3VT_y"
      }
    },
    {
      "cell_type": "markdown",
      "source": [
        "Note: Any engineered feature needs to be available at test time. In out case, line numbers and total number of lines are available."
      ],
      "metadata": {
        "id": "HQGQzFpaWrpe"
      }
    },
    {
      "cell_type": "markdown",
      "source": [
        "##Create positional embeddings"
      ],
      "metadata": {
        "id": "mz1iIR7OW49w"
      }
    },
    {
      "cell_type": "code",
      "source": [
        "#How many different line numbers we have\n",
        "train_df[\"line_number\"].value_counts()"
      ],
      "metadata": {
        "colab": {
          "base_uri": "https://localhost:8080/"
        },
        "id": "vttD8dHiUwl2",
        "outputId": "8acdea96-bec8-40ec-c39b-d4896d104c81"
      },
      "execution_count": 89,
      "outputs": [
        {
          "output_type": "execute_result",
          "data": {
            "text/plain": [
              "0     15000\n",
              "1     15000\n",
              "2     15000\n",
              "3     15000\n",
              "4     14992\n",
              "5     14949\n",
              "6     14758\n",
              "7     14279\n",
              "8     13346\n",
              "9     11981\n",
              "10    10041\n",
              "11     7892\n",
              "12     5853\n",
              "13     4152\n",
              "14     2835\n",
              "15     1861\n",
              "16     1188\n",
              "17      751\n",
              "18      462\n",
              "19      286\n",
              "20      162\n",
              "21      101\n",
              "22       66\n",
              "23       33\n",
              "24       22\n",
              "25       14\n",
              "26        7\n",
              "27        4\n",
              "28        3\n",
              "29        1\n",
              "30        1\n",
              "Name: line_number, dtype: int64"
            ]
          },
          "metadata": {},
          "execution_count": 89
        }
      ]
    },
    {
      "cell_type": "code",
      "source": [
        "#Check the distribution\n",
        "train_df.line_number.plot.hist()"
      ],
      "metadata": {
        "colab": {
          "base_uri": "https://localhost:8080/",
          "height": 447
        },
        "id": "-9yRz-ZCW2mq",
        "outputId": "d702a814-626a-41c7-b0c7-57390531064c"
      },
      "execution_count": 90,
      "outputs": [
        {
          "output_type": "execute_result",
          "data": {
            "text/plain": [
              "<Axes: ylabel='Frequency'>"
            ]
          },
          "metadata": {},
          "execution_count": 90
        },
        {
          "output_type": "display_data",
          "data": {
            "text/plain": [
              "<Figure size 640x480 with 1 Axes>"
            ],
            "image/png": "[encoded data removed]"
          },
          "metadata": {}
        }
      ]
    },
    {
      "cell_type": "code",
      "source": [
        "#One hot encode line numbers\n",
        "train_line_numbers_one_hot = tf.one_hot(train_df[\"line_number\"].to_numpy(), depth=15)\n",
        "test_line_numbers_one_hot = tf.one_hot(test_df[\"line_number\"].to_numpy(), depth=15)\n",
        "val_line_numbers_one_hot = tf.one_hot(val_df[\"line_number\"].to_numpy(), depth=15)\n",
        "train_line_numbers_one_hot[:11]"
      ],
      "metadata": {
        "colab": {
          "base_uri": "https://localhost:8080/"
        },
        "id": "jixYtu01XXpw",
        "outputId": "0c057a9d-acce-4b88-e09b-8b8d86f268ca"
      },
      "execution_count": 91,
      "outputs": [
        {
          "output_type": "execute_result",
          "data": {
            "text/plain": [
              "<tf.Tensor: shape=(11, 15), dtype=float32, numpy=\n",
              "array([[1., 0., 0., 0., 0., 0., 0., 0., 0., 0., 0., 0., 0., 0., 0.],\n",
              "       [0., 1., 0., 0., 0., 0., 0., 0., 0., 0., 0., 0., 0., 0., 0.],\n",
              "       [0., 0., 1., 0., 0., 0., 0., 0., 0., 0., 0., 0., 0., 0., 0.],\n",
              "       [0., 0., 0., 1., 0., 0., 0., 0., 0., 0., 0., 0., 0., 0., 0.],\n",
              "       [0., 0., 0., 0., 1., 0., 0., 0., 0., 0., 0., 0., 0., 0., 0.],\n",
              "       [0., 0., 0., 0., 0., 1., 0., 0., 0., 0., 0., 0., 0., 0., 0.],\n",
              "       [0., 0., 0., 0., 0., 0., 1., 0., 0., 0., 0., 0., 0., 0., 0.],\n",
              "       [0., 0., 0., 0., 0., 0., 0., 1., 0., 0., 0., 0., 0., 0., 0.],\n",
              "       [0., 0., 0., 0., 0., 0., 0., 0., 1., 0., 0., 0., 0., 0., 0.],\n",
              "       [0., 0., 0., 0., 0., 0., 0., 0., 0., 1., 0., 0., 0., 0., 0.],\n",
              "       [0., 0., 0., 0., 0., 0., 0., 0., 0., 0., 1., 0., 0., 0., 0.]],\n",
              "      dtype=float32)>"
            ]
          },
          "metadata": {},
          "execution_count": 91
        }
      ]
    },
    {
      "cell_type": "code",
      "source": [
        "#How many different total lines values\n",
        "train_df[\"total_lines\"].value_counts()"
      ],
      "metadata": {
        "colab": {
          "base_uri": "https://localhost:8080/"
        },
        "id": "Uk2YLlgFYbY-",
        "outputId": "3dcebfb8-d135-4c8f-f436-0183113ad6b0"
      },
      "execution_count": 92,
      "outputs": [
        {
          "output_type": "execute_result",
          "data": {
            "text/plain": [
              "11    24468\n",
              "10    23639\n",
              "12    22113\n",
              "9     19400\n",
              "13    18438\n",
              "14    14610\n",
              "8     12285\n",
              "15    10768\n",
              "7      7464\n",
              "16     7429\n",
              "17     5202\n",
              "6      3353\n",
              "18     3344\n",
              "19     2480\n",
              "20     1281\n",
              "5      1146\n",
              "21      770\n",
              "22      759\n",
              "23      264\n",
              "4       215\n",
              "24      200\n",
              "25      182\n",
              "26       81\n",
              "28       58\n",
              "3        32\n",
              "30       31\n",
              "27       28\n",
              "Name: total_lines, dtype: int64"
            ]
          },
          "metadata": {},
          "execution_count": 92
        }
      ]
    },
    {
      "cell_type": "code",
      "source": [
        "#Check distribution\n",
        "train_df[\"total_lines\"].plot.hist()"
      ],
      "metadata": {
        "colab": {
          "base_uri": "https://localhost:8080/",
          "height": 448
        },
        "id": "Ucgs86YiYfeT",
        "outputId": "fd0bc177-50ef-4c8c-96dc-01c30f52c674"
      },
      "execution_count": 93,
      "outputs": [
        {
          "output_type": "execute_result",
          "data": {
            "text/plain": [
              "<Axes: ylabel='Frequency'>"
            ]
          },
          "metadata": {},
          "execution_count": 93
        },
        {
          "output_type": "display_data",
          "data": {
            "text/plain": [
              "<Figure size 640x480 with 1 Axes>"
            ],
            "image/png": "[encoded data removed]"
          },
          "metadata": {}
        }
      ]
    },
    {
      "cell_type": "code",
      "source": [
        "#One hot encode total line numbers\n",
        "train_total_lines_one_hot = tf.one_hot(train_df[\"total_lines\"].to_numpy(), depth=20)\n",
        "test_total_lines_one_hot = tf.one_hot(test_df[\"total_lines\"].to_numpy(), depth=20)\n",
        "val_total_lines_one_hot = tf.one_hot(val_df[\"total_lines\"].to_numpy(), depth=20)\n",
        "train_total_lines_one_hot[:11]"
      ],
      "metadata": {
        "colab": {
          "base_uri": "https://localhost:8080/"
        },
        "id": "Zsss4w-vX1t8",
        "outputId": "049403c3-e875-4737-c623-9625417cf092"
      },
      "execution_count": 94,
      "outputs": [
        {
          "output_type": "execute_result",
          "data": {
            "text/plain": [
              "<tf.Tensor: shape=(11, 20), dtype=float32, numpy=\n",
              "array([[0., 0., 0., 0., 0., 0., 0., 0., 0., 0., 0., 1., 0., 0., 0., 0.,\n",
              "        0., 0., 0., 0.],\n",
              "       [0., 0., 0., 0., 0., 0., 0., 0., 0., 0., 0., 1., 0., 0., 0., 0.,\n",
              "        0., 0., 0., 0.],\n",
              "       [0., 0., 0., 0., 0., 0., 0., 0., 0., 0., 0., 1., 0., 0., 0., 0.,\n",
              "        0., 0., 0., 0.],\n",
              "       [0., 0., 0., 0., 0., 0., 0., 0., 0., 0., 0., 1., 0., 0., 0., 0.,\n",
              "        0., 0., 0., 0.],\n",
              "       [0., 0., 0., 0., 0., 0., 0., 0., 0., 0., 0., 1., 0., 0., 0., 0.,\n",
              "        0., 0., 0., 0.],\n",
              "       [0., 0., 0., 0., 0., 0., 0., 0., 0., 0., 0., 1., 0., 0., 0., 0.,\n",
              "        0., 0., 0., 0.],\n",
              "       [0., 0., 0., 0., 0., 0., 0., 0., 0., 0., 0., 1., 0., 0., 0., 0.,\n",
              "        0., 0., 0., 0.],\n",
              "       [0., 0., 0., 0., 0., 0., 0., 0., 0., 0., 0., 1., 0., 0., 0., 0.,\n",
              "        0., 0., 0., 0.],\n",
              "       [0., 0., 0., 0., 0., 0., 0., 0., 0., 0., 0., 1., 0., 0., 0., 0.,\n",
              "        0., 0., 0., 0.],\n",
              "       [0., 0., 0., 0., 0., 0., 0., 0., 0., 0., 0., 1., 0., 0., 0., 0.,\n",
              "        0., 0., 0., 0.],\n",
              "       [0., 0., 0., 0., 0., 0., 0., 0., 0., 0., 0., 1., 0., 0., 0., 0.,\n",
              "        0., 0., 0., 0.]], dtype=float32)>"
            ]
          },
          "metadata": {},
          "execution_count": 94
        }
      ]
    },
    {
      "cell_type": "markdown",
      "source": [
        "##Create input dataset"
      ],
      "metadata": {
        "id": "CHgIsXvGZDKb"
      }
    },
    {
      "cell_type": "code",
      "source": [
        "train_tribrid_data = tf.data.Dataset.from_tensor_slices((train_line_numbers_one_hot, train_total_lines_one_hot, train_sentences, train_chars))\n",
        "train_tribrid_labels = tf.data.Dataset.from_tensor_slices((train_labels_one_hot))\n",
        "train_tribrid_ds = tf.data.Dataset.zip(train_tribrid_data, train_tribrid_labels)\n",
        "train_tribrid_ds = train_tribrid_ds.batch(32).prefetch(buffer_size=tf.data.AUTOTUNE)\n",
        "\n",
        "test_tribrid_data = tf.data.Dataset.from_tensor_slices((test_line_numbers_one_hot, test_total_lines_one_hot, test_sentences, test_chars))\n",
        "test_tribrid_labels = tf.data.Dataset.from_tensor_slices((test_labels_one_hot))\n",
        "test_tribrid_ds = tf.data.Dataset.zip(test_tribrid_data, test_tribrid_labels)\n",
        "test_tribrid_ds = test_tribrid_ds.batch(32).prefetch(buffer_size=tf.data.AUTOTUNE)\n",
        "\n",
        "val_tribrid_data = tf.data.Dataset.from_tensor_slices((val_line_numbers_one_hot, val_total_lines_one_hot, val_sentences, val_chars))\n",
        "val_tribrid_labels = tf.data.Dataset.from_tensor_slices((val_labels_one_hot))\n",
        "val_tribrid_ds = tf.data.Dataset.zip(val_tribrid_data, val_tribrid_labels)\n",
        "val_tribrid_ds = val_tribrid_ds.batch(32).prefetch(buffer_size=tf.data.AUTOTUNE)\n",
        "\n",
        "train_tribrid_ds, val_tribrid_ds"
      ],
      "metadata": {
        "colab": {
          "base_uri": "https://localhost:8080/"
        },
        "id": "wvS7qlsGY9Lv",
        "outputId": "da8c6739-4035-4235-b2e4-35b3d90a1a78"
      },
      "execution_count": 95,
      "outputs": [
        {
          "output_type": "execute_result",
          "data": {
            "text/plain": [
              "(<_PrefetchDataset element_spec=((TensorSpec(shape=(None, 15), dtype=tf.float32, name=None), TensorSpec(shape=(None, 20), dtype=tf.float32, name=None), TensorSpec(shape=(None,), dtype=tf.string, name=None), TensorSpec(shape=(None,), dtype=tf.string, name=None)), TensorSpec(shape=(None, 5), dtype=tf.float64, name=None))>,\n",
              " <_PrefetchDataset element_spec=((TensorSpec(shape=(None, 15), dtype=tf.float32, name=None), TensorSpec(shape=(None, 20), dtype=tf.float32, name=None), TensorSpec(shape=(None,), dtype=tf.string, name=None), TensorSpec(shape=(None,), dtype=tf.string, name=None)), TensorSpec(shape=(None, 5), dtype=tf.float64, name=None))>)"
            ]
          },
          "metadata": {},
          "execution_count": 95
        }
      ]
    },
    {
      "cell_type": "markdown",
      "source": [
        "##Build the model\n",
        "\n",
        "1. Create the token-level model\n",
        "2. Create the character-level model\n",
        "3. Create the model for `line_number` feature\n",
        "4. Create the model for `total_lines` feature\n",
        "5. Combine outputs of 1 & 2\n",
        "6. Combine outputs of 3 & 4 & 5\n",
        "7. Create an output layer to accept the tribrid embedding\n",
        "8. Combine the inputs of 1, 2, 3, 4 and outputs into a model"
      ],
      "metadata": {
        "id": "CtZ313pgaCOZ"
      }
    },
    {
      "cell_type": "code",
      "source": [
        "#1.Token model\n",
        "token_inputs =layers.Input(shape=[], dtype=tf.string)\n",
        "token_embeddings = embed_layer_encoder(token_inputs)\n",
        "token_outputs = layers.Dense(128, activation=\"relu\")(token_embeddings)\n",
        "token_model = tf.keras.Model(token_inputs, token_outputs, name=\"token_model\")\n",
        "\n",
        "#2.Character model\n",
        "char_inputs = layers.Input(shape=(1,), dtype=tf.string)\n",
        "char_vectors = char_vectorizer(char_inputs)\n",
        "char_embeddings = char_embedding(char_vectors)\n",
        "char_bi_lstm = layers.Bidirectional(layers.LSTM(25))(char_embeddings)\n",
        "char_model = tf.keras.Model(inputs = char_inputs, outputs = char_bi_lstm)\n",
        "\n",
        "#3.Create line_number feature model\n",
        "line_number_inputs = layers.Input(shape=(15,), dtype=\"float32\", name=\"line_number_input\")\n",
        "line_number_embedding = layers.Dense(32, activation=\"relu\")(line_number_inputs)\n",
        "line_number_model = tf.keras.Model(line_number_inputs, line_number_embedding)\n",
        "\n",
        "#4.Create total_lines feature model\n",
        "total_lines_inputs = layers.Input(shape=(20,), dtype=\"float32\", name=\"total_lines_input\")\n",
        "total_lines_embedding = layers.Dense(32, activation=\"relu\")(total_lines_inputs)\n",
        "total_lines_model = tf.keras.Model(total_lines_inputs, total_lines_embedding)\n",
        "\n",
        "#5.Combine outputs of 1 & 2\n",
        "concat_token_chars = tf.keras.layers.Concatenate(name=\"token_char_hybrid\")([token_model.output, char_model.output])\n",
        "#Create output layer - adding dropout (from paper)\n",
        "combined_token_chars_dense = layers.Dense(256, activation=\"relu\")(concat_token_chars)\n",
        "final_token_chars_dropout = layers.Dropout(0.5)(combined_token_chars_dense)\n",
        "\n",
        "#6.Combine outputs of 3 & 4 & 5\n",
        "concat_tribrid = tf.keras.layers.Concatenate(name=\"tiribrid_token_chars_position\")([line_number_model.output,\n",
        "                                                                                    total_lines_model.output,\n",
        "                                                                                    final_token_chars_dropout])\n",
        "\n",
        "#7.Create output layer\n",
        "output_layer = layers.Dense(5, activation=\"softmax\")(concat_tribrid)\n",
        "\n",
        "#8.Construct the model\n",
        "model_5 = tf.keras.Model(inputs = [line_number_model.input, total_lines_model.input, token_model.input, char_model.input],\n",
        "                         outputs = output_layer,\n",
        "                         name = \"model_5\")"
      ],
      "metadata": {
        "id": "KXoyrf8UZ3ab"
      },
      "execution_count": 96,
      "outputs": []
    },
    {
      "cell_type": "code",
      "source": [
        "plot_model(model_5, show_shapes=True)"
      ],
      "metadata": {
        "colab": {
          "base_uri": "https://localhost:8080/",
          "height": 1000
        },
        "id": "h_5oqS2DepAz",
        "outputId": "c59d02a0-5612-4d7d-897f-c313afd71a76"
      },
      "execution_count": 132,
      "outputs": [
        {
          "output_type": "execute_result",
          "data": {
            "image/png": "[encoded data removed]",
            "text/plain": [
              "<IPython.core.display.Image object>"
            ]
          },
          "metadata": {},
          "execution_count": 132
        }
      ]
    },
    {
      "cell_type": "code",
      "source": [
        "#Compile the model\n",
        "model_5.compile(\n",
        "    loss=tf.keras.losses.CategoricalCrossentropy(label_smoothing=0.2), #helps to prevent overfitting\n",
        "    optimizer=tf.keras.optimizers.Adam(),\n",
        "    metrics=[\"accuracy\"]\n",
        ")"
      ],
      "metadata": {
        "id": "CrZNnZCAey9F"
      },
      "execution_count": 98,
      "outputs": []
    },
    {
      "cell_type": "markdown",
      "source": [
        "Note: If our model gets too confident on a single class, it may get stuck on that class and not consider other classes. What label smoothing does is it assigns some of the value from the highest pred prob to other classes, in turn, hopefully imporoving generalization.\n",
        "\n",
        "Read: https://pyimagesearch.com/2019/12/30/label-smoothing-with-keras-tensorflow-and-deep-learning/"
      ],
      "metadata": {
        "id": "2ZR7E3fJgnpo"
      }
    },
    {
      "cell_type": "code",
      "source": [
        "#Fit the model\n",
        "history_5 = model_5.fit(train_tribrid_ds,\n",
        "                        steps_per_epoch=int(0.1*len(train_tribrid_ds)),\n",
        "                        epochs=3,\n",
        "                        validation_data=val_tribrid_ds,\n",
        "                        validation_steps=int(0.1*len(val_tribrid_ds)),\n",
        "                        callbacks = [create_tensorboard_callback(\"experiment_log\",\"model_5\")])"
      ],
      "metadata": {
        "colab": {
          "base_uri": "https://localhost:8080/"
        },
        "id": "3TFXp_Z6fOll",
        "outputId": "c3d09d52-651d-43df-f6e0-6aeb524836d6"
      },
      "execution_count": 99,
      "outputs": [
        {
          "output_type": "stream",
          "name": "stdout",
          "text": [
            "Saving TensorBoard log files to: experiment_log/model_5/20240105-065314\n",
            "Epoch 1/3\n",
            "562/562 [==============================] - 39s 51ms/step - loss: 1.0934 - accuracy: 0.7259 - val_loss: 0.9774 - val_accuracy: 0.8049\n",
            "Epoch 2/3\n",
            "562/562 [==============================] - 26s 46ms/step - loss: 0.9660 - accuracy: 0.8150 - val_loss: 0.9456 - val_accuracy: 0.8324\n",
            "Epoch 3/3\n",
            "562/562 [==============================] - 24s 42ms/step - loss: 0.9475 - accuracy: 0.8271 - val_loss: 0.9361 - val_accuracy: 0.8368\n"
          ]
        }
      ]
    },
    {
      "cell_type": "code",
      "source": [
        "#Evaluate the model\n",
        "model_5.evaluate(val_tribrid_ds)"
      ],
      "metadata": {
        "colab": {
          "base_uri": "https://localhost:8080/"
        },
        "id": "59RiGeONjB38",
        "outputId": "c6bcf332-3554-4492-8ab1-a5443ae05c11"
      },
      "execution_count": 100,
      "outputs": [
        {
          "output_type": "stream",
          "name": "stdout",
          "text": [
            "945/945 [==============================] - 20s 21ms/step - loss: 0.9351 - accuracy: 0.8341\n"
          ]
        },
        {
          "output_type": "execute_result",
          "data": {
            "text/plain": [
              "[0.9350880980491638, 0.8341387510299683]"
            ]
          },
          "metadata": {},
          "execution_count": 100
        }
      ]
    },
    {
      "cell_type": "code",
      "source": [
        "#Make predictions\n",
        "model_5_pred_probs = model_5.predict(val_tribrid_ds)\n",
        "model_5_preds = tf.argmax(model_5_pred_probs, axis = 1)"
      ],
      "metadata": {
        "colab": {
          "base_uri": "https://localhost:8080/"
        },
        "id": "L54JuLRUjFTx",
        "outputId": "e78f8f14-97b4-4d8c-bce2-301887969a0e"
      },
      "execution_count": 101,
      "outputs": [
        {
          "output_type": "stream",
          "name": "stdout",
          "text": [
            "945/945 [==============================] - 21s 19ms/step\n"
          ]
        }
      ]
    },
    {
      "cell_type": "code",
      "source": [
        "#Calculate results\n",
        "model_5_results = calculate_results(val_labels, model_5_preds)\n",
        "model_5_results"
      ],
      "metadata": {
        "colab": {
          "base_uri": "https://localhost:8080/"
        },
        "id": "brmeNg-UjQMv",
        "outputId": "90ac2091-7825-4c2d-e16f-98d50cc64718"
      },
      "execution_count": 102,
      "outputs": [
        {
          "output_type": "execute_result",
          "data": {
            "text/plain": [
              "{'accuracy': 83.41387528134516,\n",
              " 'precision': 0.8333112986833696,\n",
              " 'recall': 0.8341387528134516,\n",
              " 'f1': 0.8330185530003525}"
            ]
          },
          "metadata": {},
          "execution_count": 102
        }
      ]
    },
    {
      "cell_type": "markdown",
      "source": [
        "#Compare all models"
      ],
      "metadata": {
        "id": "htia2qOUl-7q"
      }
    },
    {
      "cell_type": "code",
      "source": [
        "#Combine the results of all models\n",
        "all_models_results = pd.DataFrame({\"model_0\": baseline_results,\n",
        "                                   \"model_1\": model_1_result,\n",
        "                                   \"model_2\": model_2_results,\n",
        "                                   \"model_3\": model_3_results,\n",
        "                                   \"model_4\": model_4_results,\n",
        "                                   \"model_5\": model_5_results})"
      ],
      "metadata": {
        "id": "0y8ah95Ul93k"
      },
      "execution_count": 103,
      "outputs": []
    },
    {
      "cell_type": "code",
      "source": [
        "all_models_results = all_models_results.transpose()\n",
        "all_models_results"
      ],
      "metadata": {
        "colab": {
          "base_uri": "https://localhost:8080/",
          "height": 237
        },
        "id": "hFlygJ74ms7c",
        "outputId": "ab4cb0a6-faff-48b2-aec6-b8f03f0939a9"
      },
      "execution_count": 104,
      "outputs": [
        {
          "output_type": "execute_result",
          "data": {
            "text/plain": [
              "          accuracy  precision    recall        f1\n",
              "model_0  72.183238   0.718647  0.721832  0.698925\n",
              "model_1  78.422481   0.781209  0.784225  0.781945\n",
              "model_2  70.743413   0.706650  0.707434  0.703791\n",
              "model_3  65.904276   0.650201  0.659043  0.649057\n",
              "model_4  73.560175   0.734518  0.735602  0.733522\n",
              "model_5  83.413875   0.833311  0.834139  0.833019"
            ],
            "text/html": [
              "\n",
              "  <div id=\"df-13cb521f-7c59-4615-937b-ce166ce69a2c\" class=\"colab-df-container\">\n",
              "    <div>\n",
              "<style scoped>\n",
              "    .dataframe tbody tr th:only-of-type {\n",
              "        vertical-align: middle;\n",
              "    }\n",
              "\n",
              "    .dataframe tbody tr th {\n",
              "        vertical-align: top;\n",
              "    }\n",
              "\n",
              "    .dataframe thead th {\n",
              "        text-align: right;\n",
              "    }\n",
              "</style>\n",
              "<table border=\"1\" class=\"dataframe\">\n",
              "  <thead>\n",
              "    <tr style=\"text-align: right;\">\n",
              "      <th></th>\n",
              "      <th>accuracy</th>\n",
              "      <th>precision</th>\n",
              "      <th>recall</th>\n",
              "      <th>f1</th>\n",
              "    </tr>\n",
              "  </thead>\n",
              "  <tbody>\n",
              "    <tr>\n",
              "      <th>model_0</th>\n",
              "      <td>72.183238</td>\n",
              "      <td>0.718647</td>\n",
              "      <td>0.721832</td>\n",
              "      <td>0.698925</td>\n",
              "    </tr>\n",
              "    <tr>\n",
              "      <th>model_1</th>\n",
              "      <td>78.422481</td>\n",
              "      <td>0.781209</td>\n",
              "      <td>0.784225</td>\n",
              "      <td>0.781945</td>\n",
              "    </tr>\n",
              "    <tr>\n",
              "      <th>model_2</th>\n",
              "      <td>70.743413</td>\n",
              "      <td>0.706650</td>\n",
              "      <td>0.707434</td>\n",
              "      <td>0.703791</td>\n",
              "    </tr>\n",
              "    <tr>\n",
              "      <th>model_3</th>\n",
              "      <td>65.904276</td>\n",
              "      <td>0.650201</td>\n",
              "      <td>0.659043</td>\n",
              "      <td>0.649057</td>\n",
              "    </tr>\n",
              "    <tr>\n",
              "      <th>model_4</th>\n",
              "      <td>73.560175</td>\n",
              "      <td>0.734518</td>\n",
              "      <td>0.735602</td>\n",
              "      <td>0.733522</td>\n",
              "    </tr>\n",
              "    <tr>\n",
              "      <th>model_5</th>\n",
              "      <td>83.413875</td>\n",
              "      <td>0.833311</td>\n",
              "      <td>0.834139</td>\n",
              "      <td>0.833019</td>\n",
              "    </tr>\n",
              "  </tbody>\n",
              "</table>\n",
              "</div>\n",
              "    <div class=\"colab-df-buttons\">\n",
              "\n",
              "  <div class=\"colab-df-container\">\n",
              "    <button class=\"colab-df-convert\" onclick=\"convertToInteractive('df-13cb521f-7c59-4615-937b-ce166ce69a2c')\"\n",
              "            title=\"Convert this dataframe to an interactive table.\"\n",
              "            style=\"display:none;\">\n",
              "\n",
              "  <svg xmlns=\"http://www.w3.org/2000/svg\" height=\"24px\" viewBox=\"0 -960 960 960\">\n",
              "    <path d=\"M120-120v-720h720v720H120Zm60-500h600v-160H180v160Zm220 220h160v-160H400v160Zm0 220h160v-160H400v160ZM180-400h160v-160H180v160Zm440 0h160v-160H620v160ZM180-180h160v-160H180v160Zm440 0h160v-160H620v160Z\"/>\n",
              "  </svg>\n",
              "    </button>\n",
              "\n",
              "  <style>\n",
              "    .colab-df-container {\n",
              "      display:flex;\n",
              "      gap: 12px;\n",
              "    }\n",
              "\n",
              "    .colab-df-convert {\n",
              "      background-color: #E8F0FE;\n",
              "      border: none;\n",
              "      border-radius: 50%;\n",
              "      cursor: pointer;\n",
              "      display: none;\n",
              "      fill: #1967D2;\n",
              "      height: 32px;\n",
              "      padding: 0 0 0 0;\n",
              "      width: 32px;\n",
              "    }\n",
              "\n",
              "    .colab-df-convert:hover {\n",
              "      background-color: #E2EBFA;\n",
              "      box-shadow: 0px 1px 2px rgba(60, 64, 67, 0.3), 0px 1px 3px 1px rgba(60, 64, 67, 0.15);\n",
              "      fill: #174EA6;\n",
              "    }\n",
              "\n",
              "    .colab-df-buttons div {\n",
              "      margin-bottom: 4px;\n",
              "    }\n",
              "\n",
              "    [theme=dark] .colab-df-convert {\n",
              "      background-color: #3B4455;\n",
              "      fill: #D2E3FC;\n",
              "    }\n",
              "\n",
              "    [theme=dark] .colab-df-convert:hover {\n",
              "      background-color: #434B5C;\n",
              "      box-shadow: 0px 1px 3px 1px rgba(0, 0, 0, 0.15);\n",
              "      filter: drop-shadow(0px 1px 2px rgba(0, 0, 0, 0.3));\n",
              "      fill: #FFFFFF;\n",
              "    }\n",
              "  </style>\n",
              "\n",
              "    <script>\n",
              "      const buttonEl =\n",
              "        document.querySelector('#df-13cb521f-7c59-4615-937b-ce166ce69a2c button.colab-df-convert');\n",
              "      buttonEl.style.display =\n",
              "        google.colab.kernel.accessAllowed ? 'block' : 'none';\n",
              "\n",
              "      async function convertToInteractive(key) {\n",
              "        const element = document.querySelector('#df-13cb521f-7c59-4615-937b-ce166ce69a2c');\n",
              "        const dataTable =\n",
              "          await google.colab.kernel.invokeFunction('convertToInteractive',\n",
              "                                                    [key], {});\n",
              "        if (!dataTable) return;\n",
              "\n",
              "        const docLinkHtml = 'Like what you see? Visit the ' +\n",
              "          '<a target=\"_blank\" href=https://colab.research.google.com/notebooks/data_table.ipynb>data table notebook</a>'\n",
              "          + ' to learn more about interactive tables.';\n",
              "        element.innerHTML = '';\n",
              "        dataTable['output_type'] = 'display_data';\n",
              "        await google.colab.output.renderOutput(dataTable, element);\n",
              "        const docLink = document.createElement('div');\n",
              "        docLink.innerHTML = docLinkHtml;\n",
              "        element.appendChild(docLink);\n",
              "      }\n",
              "    </script>\n",
              "  </div>\n",
              "\n",
              "\n",
              "<div id=\"df-f68c0f3b-017b-4ec5-9f0f-c79b23563e8e\">\n",
              "  <button class=\"colab-df-quickchart\" onclick=\"quickchart('df-f68c0f3b-017b-4ec5-9f0f-c79b23563e8e')\"\n",
              "            title=\"Suggest charts\"\n",
              "            style=\"display:none;\">\n",
              "\n",
              "<svg xmlns=\"http://www.w3.org/2000/svg\" height=\"24px\"viewBox=\"0 0 24 24\"\n",
              "     width=\"24px\">\n",
              "    <g>\n",
              "        <path d=\"M19 3H5c-1.1 0-2 .9-2 2v14c0 1.1.9 2 2 2h14c1.1 0 2-.9 2-2V5c0-1.1-.9-2-2-2zM9 17H7v-7h2v7zm4 0h-2V7h2v10zm4 0h-2v-4h2v4z\"/>\n",
              "    </g>\n",
              "</svg>\n",
              "  </button>\n",
              "\n",
              "<style>\n",
              "  .colab-df-quickchart {\n",
              "      --bg-color: #E8F0FE;\n",
              "      --fill-color: #1967D2;\n",
              "      --hover-bg-color: #E2EBFA;\n",
              "      --hover-fill-color: #174EA6;\n",
              "      --disabled-fill-color: #AAA;\n",
              "      --disabled-bg-color: #DDD;\n",
              "  }\n",
              "\n",
              "  [theme=dark] .colab-df-quickchart {\n",
              "      --bg-color: #3B4455;\n",
              "      --fill-color: #D2E3FC;\n",
              "      --hover-bg-color: #434B5C;\n",
              "      --hover-fill-color: #FFFFFF;\n",
              "      --disabled-bg-color: #3B4455;\n",
              "      --disabled-fill-color: #666;\n",
              "  }\n",
              "\n",
              "  .colab-df-quickchart {\n",
              "    background-color: var(--bg-color);\n",
              "    border: none;\n",
              "    border-radius: 50%;\n",
              "    cursor: pointer;\n",
              "    display: none;\n",
              "    fill: var(--fill-color);\n",
              "    height: 32px;\n",
              "    padding: 0;\n",
              "    width: 32px;\n",
              "  }\n",
              "\n",
              "  .colab-df-quickchart:hover {\n",
              "    background-color: var(--hover-bg-color);\n",
              "    box-shadow: 0 1px 2px rgba(60, 64, 67, 0.3), 0 1px 3px 1px rgba(60, 64, 67, 0.15);\n",
              "    fill: var(--button-hover-fill-color);\n",
              "  }\n",
              "\n",
              "  .colab-df-quickchart-complete:disabled,\n",
              "  .colab-df-quickchart-complete:disabled:hover {\n",
              "    background-color: var(--disabled-bg-color);\n",
              "    fill: var(--disabled-fill-color);\n",
              "    box-shadow: none;\n",
              "  }\n",
              "\n",
              "  .colab-df-spinner {\n",
              "    border: 2px solid var(--fill-color);\n",
              "    border-color: transparent;\n",
              "    border-bottom-color: var(--fill-color);\n",
              "    animation:\n",
              "      spin 1s steps(1) infinite;\n",
              "  }\n",
              "\n",
              "  @keyframes spin {\n",
              "    0% {\n",
              "      border-color: transparent;\n",
              "      border-bottom-color: var(--fill-color);\n",
              "      border-left-color: var(--fill-color);\n",
              "    }\n",
              "    20% {\n",
              "      border-color: transparent;\n",
              "      border-left-color: var(--fill-color);\n",
              "      border-top-color: var(--fill-color);\n",
              "    }\n",
              "    30% {\n",
              "      border-color: transparent;\n",
              "      border-left-color: var(--fill-color);\n",
              "      border-top-color: var(--fill-color);\n",
              "      border-right-color: var(--fill-color);\n",
              "    }\n",
              "    40% {\n",
              "      border-color: transparent;\n",
              "      border-right-color: var(--fill-color);\n",
              "      border-top-color: var(--fill-color);\n",
              "    }\n",
              "    60% {\n",
              "      border-color: transparent;\n",
              "      border-right-color: var(--fill-color);\n",
              "    }\n",
              "    80% {\n",
              "      border-color: transparent;\n",
              "      border-right-color: var(--fill-color);\n",
              "      border-bottom-color: var(--fill-color);\n",
              "    }\n",
              "    90% {\n",
              "      border-color: transparent;\n",
              "      border-bottom-color: var(--fill-color);\n",
              "    }\n",
              "  }\n",
              "</style>\n",
              "\n",
              "  <script>\n",
              "    async function quickchart(key) {\n",
              "      const quickchartButtonEl =\n",
              "        document.querySelector('#' + key + ' button');\n",
              "      quickchartButtonEl.disabled = true;  // To prevent multiple clicks.\n",
              "      quickchartButtonEl.classList.add('colab-df-spinner');\n",
              "      try {\n",
              "        const charts = await google.colab.kernel.invokeFunction(\n",
              "            'suggestCharts', [key], {});\n",
              "      } catch (error) {\n",
              "        console.error('Error during call to suggestCharts:', error);\n",
              "      }\n",
              "      quickchartButtonEl.classList.remove('colab-df-spinner');\n",
              "      quickchartButtonEl.classList.add('colab-df-quickchart-complete');\n",
              "    }\n",
              "    (() => {\n",
              "      let quickchartButtonEl =\n",
              "        document.querySelector('#df-f68c0f3b-017b-4ec5-9f0f-c79b23563e8e button');\n",
              "      quickchartButtonEl.style.display =\n",
              "        google.colab.kernel.accessAllowed ? 'block' : 'none';\n",
              "    })();\n",
              "  </script>\n",
              "</div>\n",
              "\n",
              "  <div id=\"id_4ed917f4-7fc4-48e3-81b4-65abf2ca8208\">\n",
              "    <style>\n",
              "      .colab-df-generate {\n",
              "        background-color: #E8F0FE;\n",
              "        border: none;\n",
              "        border-radius: 50%;\n",
              "        cursor: pointer;\n",
              "        display: none;\n",
              "        fill: #1967D2;\n",
              "        height: 32px;\n",
              "        padding: 0 0 0 0;\n",
              "        width: 32px;\n",
              "      }\n",
              "\n",
              "      .colab-df-generate:hover {\n",
              "        background-color: #E2EBFA;\n",
              "        box-shadow: 0px 1px 2px rgba(60, 64, 67, 0.3), 0px 1px 3px 1px rgba(60, 64, 67, 0.15);\n",
              "        fill: #174EA6;\n",
              "      }\n",
              "\n",
              "      [theme=dark] .colab-df-generate {\n",
              "        background-color: #3B4455;\n",
              "        fill: #D2E3FC;\n",
              "      }\n",
              "\n",
              "      [theme=dark] .colab-df-generate:hover {\n",
              "        background-color: #434B5C;\n",
              "        box-shadow: 0px 1px 3px 1px rgba(0, 0, 0, 0.15);\n",
              "        filter: drop-shadow(0px 1px 2px rgba(0, 0, 0, 0.3));\n",
              "        fill: #FFFFFF;\n",
              "      }\n",
              "    </style>\n",
              "    <button class=\"colab-df-generate\" onclick=\"generateWithVariable('all_models_results')\"\n",
              "            title=\"Generate code using this dataframe.\"\n",
              "            style=\"display:none;\">\n",
              "\n",
              "  <svg xmlns=\"http://www.w3.org/2000/svg\" height=\"24px\"viewBox=\"0 0 24 24\"\n",
              "       width=\"24px\">\n",
              "    <path d=\"M7,19H8.4L18.45,9,17,7.55,7,17.6ZM5,21V16.75L18.45,3.32a2,2,0,0,1,2.83,0l1.4,1.43a1.91,1.91,0,0,1,.58,1.4,1.91,1.91,0,0,1-.58,1.4L9.25,21ZM18.45,9,17,7.55Zm-12,3A5.31,5.31,0,0,0,4.9,8.1,5.31,5.31,0,0,0,1,6.5,5.31,5.31,0,0,0,4.9,4.9,5.31,5.31,0,0,0,6.5,1,5.31,5.31,0,0,0,8.1,4.9,5.31,5.31,0,0,0,12,6.5,5.46,5.46,0,0,0,6.5,12Z\"/>\n",
              "  </svg>\n",
              "    </button>\n",
              "    <script>\n",
              "      (() => {\n",
              "      const buttonEl =\n",
              "        document.querySelector('#id_4ed917f4-7fc4-48e3-81b4-65abf2ca8208 button.colab-df-generate');\n",
              "      buttonEl.style.display =\n",
              "        google.colab.kernel.accessAllowed ? 'block' : 'none';\n",
              "\n",
              "      buttonEl.onclick = () => {\n",
              "        google.colab.notebook.generateWithVariable('all_models_results');\n",
              "      }\n",
              "      })();\n",
              "    </script>\n",
              "  </div>\n",
              "\n",
              "    </div>\n",
              "  </div>\n"
            ]
          },
          "metadata": {},
          "execution_count": 104
        }
      ]
    },
    {
      "cell_type": "code",
      "source": [
        "#Normalize accuracy\n",
        "all_models_results[\"accuracy\"] = all_models_results[\"accuracy\"]/100\n",
        "all_models_results"
      ],
      "metadata": {
        "colab": {
          "base_uri": "https://localhost:8080/",
          "height": 237
        },
        "id": "wZMWS-jBmx5w",
        "outputId": "456bc5bc-a098-44dc-876f-e9c80bc6f10b"
      },
      "execution_count": 105,
      "outputs": [
        {
          "output_type": "execute_result",
          "data": {
            "text/plain": [
              "         accuracy  precision    recall        f1\n",
              "model_0  0.721832   0.718647  0.721832  0.698925\n",
              "model_1  0.784225   0.781209  0.784225  0.781945\n",
              "model_2  0.707434   0.706650  0.707434  0.703791\n",
              "model_3  0.659043   0.650201  0.659043  0.649057\n",
              "model_4  0.735602   0.734518  0.735602  0.733522\n",
              "model_5  0.834139   0.833311  0.834139  0.833019"
            ],
            "text/html": [
              "\n",
              "  <div id=\"df-0aa2fc1f-7dd2-46cb-8e39-f1fd9945a9c6\" class=\"colab-df-container\">\n",
              "    <div>\n",
              "<style scoped>\n",
              "    .dataframe tbody tr th:only-of-type {\n",
              "        vertical-align: middle;\n",
              "    }\n",
              "\n",
              "    .dataframe tbody tr th {\n",
              "        vertical-align: top;\n",
              "    }\n",
              "\n",
              "    .dataframe thead th {\n",
              "        text-align: right;\n",
              "    }\n",
              "</style>\n",
              "<table border=\"1\" class=\"dataframe\">\n",
              "  <thead>\n",
              "    <tr style=\"text-align: right;\">\n",
              "      <th></th>\n",
              "      <th>accuracy</th>\n",
              "      <th>precision</th>\n",
              "      <th>recall</th>\n",
              "      <th>f1</th>\n",
              "    </tr>\n",
              "  </thead>\n",
              "  <tbody>\n",
              "    <tr>\n",
              "      <th>model_0</th>\n",
              "      <td>0.721832</td>\n",
              "      <td>0.718647</td>\n",
              "      <td>0.721832</td>\n",
              "      <td>0.698925</td>\n",
              "    </tr>\n",
              "    <tr>\n",
              "      <th>model_1</th>\n",
              "      <td>0.784225</td>\n",
              "      <td>0.781209</td>\n",
              "      <td>0.784225</td>\n",
              "      <td>0.781945</td>\n",
              "    </tr>\n",
              "    <tr>\n",
              "      <th>model_2</th>\n",
              "      <td>0.707434</td>\n",
              "      <td>0.706650</td>\n",
              "      <td>0.707434</td>\n",
              "      <td>0.703791</td>\n",
              "    </tr>\n",
              "    <tr>\n",
              "      <th>model_3</th>\n",
              "      <td>0.659043</td>\n",
              "      <td>0.650201</td>\n",
              "      <td>0.659043</td>\n",
              "      <td>0.649057</td>\n",
              "    </tr>\n",
              "    <tr>\n",
              "      <th>model_4</th>\n",
              "      <td>0.735602</td>\n",
              "      <td>0.734518</td>\n",
              "      <td>0.735602</td>\n",
              "      <td>0.733522</td>\n",
              "    </tr>\n",
              "    <tr>\n",
              "      <th>model_5</th>\n",
              "      <td>0.834139</td>\n",
              "      <td>0.833311</td>\n",
              "      <td>0.834139</td>\n",
              "      <td>0.833019</td>\n",
              "    </tr>\n",
              "  </tbody>\n",
              "</table>\n",
              "</div>\n",
              "    <div class=\"colab-df-buttons\">\n",
              "\n",
              "  <div class=\"colab-df-container\">\n",
              "    <button class=\"colab-df-convert\" onclick=\"convertToInteractive('df-0aa2fc1f-7dd2-46cb-8e39-f1fd9945a9c6')\"\n",
              "            title=\"Convert this dataframe to an interactive table.\"\n",
              "            style=\"display:none;\">\n",
              "\n",
              "  <svg xmlns=\"http://www.w3.org/2000/svg\" height=\"24px\" viewBox=\"0 -960 960 960\">\n",
              "    <path d=\"M120-120v-720h720v720H120Zm60-500h600v-160H180v160Zm220 220h160v-160H400v160Zm0 220h160v-160H400v160ZM180-400h160v-160H180v160Zm440 0h160v-160H620v160ZM180-180h160v-160H180v160Zm440 0h160v-160H620v160Z\"/>\n",
              "  </svg>\n",
              "    </button>\n",
              "\n",
              "  <style>\n",
              "    .colab-df-container {\n",
              "      display:flex;\n",
              "      gap: 12px;\n",
              "    }\n",
              "\n",
              "    .colab-df-convert {\n",
              "      background-color: #E8F0FE;\n",
              "      border: none;\n",
              "      border-radius: 50%;\n",
              "      cursor: pointer;\n",
              "      display: none;\n",
              "      fill: #1967D2;\n",
              "      height: 32px;\n",
              "      padding: 0 0 0 0;\n",
              "      width: 32px;\n",
              "    }\n",
              "\n",
              "    .colab-df-convert:hover {\n",
              "      background-color: #E2EBFA;\n",
              "      box-shadow: 0px 1px 2px rgba(60, 64, 67, 0.3), 0px 1px 3px 1px rgba(60, 64, 67, 0.15);\n",
              "      fill: #174EA6;\n",
              "    }\n",
              "\n",
              "    .colab-df-buttons div {\n",
              "      margin-bottom: 4px;\n",
              "    }\n",
              "\n",
              "    [theme=dark] .colab-df-convert {\n",
              "      background-color: #3B4455;\n",
              "      fill: #D2E3FC;\n",
              "    }\n",
              "\n",
              "    [theme=dark] .colab-df-convert:hover {\n",
              "      background-color: #434B5C;\n",
              "      box-shadow: 0px 1px 3px 1px rgba(0, 0, 0, 0.15);\n",
              "      filter: drop-shadow(0px 1px 2px rgba(0, 0, 0, 0.3));\n",
              "      fill: #FFFFFF;\n",
              "    }\n",
              "  </style>\n",
              "\n",
              "    <script>\n",
              "      const buttonEl =\n",
              "        document.querySelector('#df-0aa2fc1f-7dd2-46cb-8e39-f1fd9945a9c6 button.colab-df-convert');\n",
              "      buttonEl.style.display =\n",
              "        google.colab.kernel.accessAllowed ? 'block' : 'none';\n",
              "\n",
              "      async function convertToInteractive(key) {\n",
              "        const element = document.querySelector('#df-0aa2fc1f-7dd2-46cb-8e39-f1fd9945a9c6');\n",
              "        const dataTable =\n",
              "          await google.colab.kernel.invokeFunction('convertToInteractive',\n",
              "                                                    [key], {});\n",
              "        if (!dataTable) return;\n",
              "\n",
              "        const docLinkHtml = 'Like what you see? Visit the ' +\n",
              "          '<a target=\"_blank\" href=https://colab.research.google.com/notebooks/data_table.ipynb>data table notebook</a>'\n",
              "          + ' to learn more about interactive tables.';\n",
              "        element.innerHTML = '';\n",
              "        dataTable['output_type'] = 'display_data';\n",
              "        await google.colab.output.renderOutput(dataTable, element);\n",
              "        const docLink = document.createElement('div');\n",
              "        docLink.innerHTML = docLinkHtml;\n",
              "        element.appendChild(docLink);\n",
              "      }\n",
              "    </script>\n",
              "  </div>\n",
              "\n",
              "\n",
              "<div id=\"df-8924a867-fecf-4630-9c82-258c158d5104\">\n",
              "  <button class=\"colab-df-quickchart\" onclick=\"quickchart('df-8924a867-fecf-4630-9c82-258c158d5104')\"\n",
              "            title=\"Suggest charts\"\n",
              "            style=\"display:none;\">\n",
              "\n",
              "<svg xmlns=\"http://www.w3.org/2000/svg\" height=\"24px\"viewBox=\"0 0 24 24\"\n",
              "     width=\"24px\">\n",
              "    <g>\n",
              "        <path d=\"M19 3H5c-1.1 0-2 .9-2 2v14c0 1.1.9 2 2 2h14c1.1 0 2-.9 2-2V5c0-1.1-.9-2-2-2zM9 17H7v-7h2v7zm4 0h-2V7h2v10zm4 0h-2v-4h2v4z\"/>\n",
              "    </g>\n",
              "</svg>\n",
              "  </button>\n",
              "\n",
              "<style>\n",
              "  .colab-df-quickchart {\n",
              "      --bg-color: #E8F0FE;\n",
              "      --fill-color: #1967D2;\n",
              "      --hover-bg-color: #E2EBFA;\n",
              "      --hover-fill-color: #174EA6;\n",
              "      --disabled-fill-color: #AAA;\n",
              "      --disabled-bg-color: #DDD;\n",
              "  }\n",
              "\n",
              "  [theme=dark] .colab-df-quickchart {\n",
              "      --bg-color: #3B4455;\n",
              "      --fill-color: #D2E3FC;\n",
              "      --hover-bg-color: #434B5C;\n",
              "      --hover-fill-color: #FFFFFF;\n",
              "      --disabled-bg-color: #3B4455;\n",
              "      --disabled-fill-color: #666;\n",
              "  }\n",
              "\n",
              "  .colab-df-quickchart {\n",
              "    background-color: var(--bg-color);\n",
              "    border: none;\n",
              "    border-radius: 50%;\n",
              "    cursor: pointer;\n",
              "    display: none;\n",
              "    fill: var(--fill-color);\n",
              "    height: 32px;\n",
              "    padding: 0;\n",
              "    width: 32px;\n",
              "  }\n",
              "\n",
              "  .colab-df-quickchart:hover {\n",
              "    background-color: var(--hover-bg-color);\n",
              "    box-shadow: 0 1px 2px rgba(60, 64, 67, 0.3), 0 1px 3px 1px rgba(60, 64, 67, 0.15);\n",
              "    fill: var(--button-hover-fill-color);\n",
              "  }\n",
              "\n",
              "  .colab-df-quickchart-complete:disabled,\n",
              "  .colab-df-quickchart-complete:disabled:hover {\n",
              "    background-color: var(--disabled-bg-color);\n",
              "    fill: var(--disabled-fill-color);\n",
              "    box-shadow: none;\n",
              "  }\n",
              "\n",
              "  .colab-df-spinner {\n",
              "    border: 2px solid var(--fill-color);\n",
              "    border-color: transparent;\n",
              "    border-bottom-color: var(--fill-color);\n",
              "    animation:\n",
              "      spin 1s steps(1) infinite;\n",
              "  }\n",
              "\n",
              "  @keyframes spin {\n",
              "    0% {\n",
              "      border-color: transparent;\n",
              "      border-bottom-color: var(--fill-color);\n",
              "      border-left-color: var(--fill-color);\n",
              "    }\n",
              "    20% {\n",
              "      border-color: transparent;\n",
              "      border-left-color: var(--fill-color);\n",
              "      border-top-color: var(--fill-color);\n",
              "    }\n",
              "    30% {\n",
              "      border-color: transparent;\n",
              "      border-left-color: var(--fill-color);\n",
              "      border-top-color: var(--fill-color);\n",
              "      border-right-color: var(--fill-color);\n",
              "    }\n",
              "    40% {\n",
              "      border-color: transparent;\n",
              "      border-right-color: var(--fill-color);\n",
              "      border-top-color: var(--fill-color);\n",
              "    }\n",
              "    60% {\n",
              "      border-color: transparent;\n",
              "      border-right-color: var(--fill-color);\n",
              "    }\n",
              "    80% {\n",
              "      border-color: transparent;\n",
              "      border-right-color: var(--fill-color);\n",
              "      border-bottom-color: var(--fill-color);\n",
              "    }\n",
              "    90% {\n",
              "      border-color: transparent;\n",
              "      border-bottom-color: var(--fill-color);\n",
              "    }\n",
              "  }\n",
              "</style>\n",
              "\n",
              "  <script>\n",
              "    async function quickchart(key) {\n",
              "      const quickchartButtonEl =\n",
              "        document.querySelector('#' + key + ' button');\n",
              "      quickchartButtonEl.disabled = true;  // To prevent multiple clicks.\n",
              "      quickchartButtonEl.classList.add('colab-df-spinner');\n",
              "      try {\n",
              "        const charts = await google.colab.kernel.invokeFunction(\n",
              "            'suggestCharts', [key], {});\n",
              "      } catch (error) {\n",
              "        console.error('Error during call to suggestCharts:', error);\n",
              "      }\n",
              "      quickchartButtonEl.classList.remove('colab-df-spinner');\n",
              "      quickchartButtonEl.classList.add('colab-df-quickchart-complete');\n",
              "    }\n",
              "    (() => {\n",
              "      let quickchartButtonEl =\n",
              "        document.querySelector('#df-8924a867-fecf-4630-9c82-258c158d5104 button');\n",
              "      quickchartButtonEl.style.display =\n",
              "        google.colab.kernel.accessAllowed ? 'block' : 'none';\n",
              "    })();\n",
              "  </script>\n",
              "</div>\n",
              "\n",
              "  <div id=\"id_e9b207bf-c905-484d-8392-02ba8fdc8d8b\">\n",
              "    <style>\n",
              "      .colab-df-generate {\n",
              "        background-color: #E8F0FE;\n",
              "        border: none;\n",
              "        border-radius: 50%;\n",
              "        cursor: pointer;\n",
              "        display: none;\n",
              "        fill: #1967D2;\n",
              "        height: 32px;\n",
              "        padding: 0 0 0 0;\n",
              "        width: 32px;\n",
              "      }\n",
              "\n",
              "      .colab-df-generate:hover {\n",
              "        background-color: #E2EBFA;\n",
              "        box-shadow: 0px 1px 2px rgba(60, 64, 67, 0.3), 0px 1px 3px 1px rgba(60, 64, 67, 0.15);\n",
              "        fill: #174EA6;\n",
              "      }\n",
              "\n",
              "      [theme=dark] .colab-df-generate {\n",
              "        background-color: #3B4455;\n",
              "        fill: #D2E3FC;\n",
              "      }\n",
              "\n",
              "      [theme=dark] .colab-df-generate:hover {\n",
              "        background-color: #434B5C;\n",
              "        box-shadow: 0px 1px 3px 1px rgba(0, 0, 0, 0.15);\n",
              "        filter: drop-shadow(0px 1px 2px rgba(0, 0, 0, 0.3));\n",
              "        fill: #FFFFFF;\n",
              "      }\n",
              "    </style>\n",
              "    <button class=\"colab-df-generate\" onclick=\"generateWithVariable('all_models_results')\"\n",
              "            title=\"Generate code using this dataframe.\"\n",
              "            style=\"display:none;\">\n",
              "\n",
              "  <svg xmlns=\"http://www.w3.org/2000/svg\" height=\"24px\"viewBox=\"0 0 24 24\"\n",
              "       width=\"24px\">\n",
              "    <path d=\"M7,19H8.4L18.45,9,17,7.55,7,17.6ZM5,21V16.75L18.45,3.32a2,2,0,0,1,2.83,0l1.4,1.43a1.91,1.91,0,0,1,.58,1.4,1.91,1.91,0,0,1-.58,1.4L9.25,21ZM18.45,9,17,7.55Zm-12,3A5.31,5.31,0,0,0,4.9,8.1,5.31,5.31,0,0,0,1,6.5,5.31,5.31,0,0,0,4.9,4.9,5.31,5.31,0,0,0,6.5,1,5.31,5.31,0,0,0,8.1,4.9,5.31,5.31,0,0,0,12,6.5,5.46,5.46,0,0,0,6.5,12Z\"/>\n",
              "  </svg>\n",
              "    </button>\n",
              "    <script>\n",
              "      (() => {\n",
              "      const buttonEl =\n",
              "        document.querySelector('#id_e9b207bf-c905-484d-8392-02ba8fdc8d8b button.colab-df-generate');\n",
              "      buttonEl.style.display =\n",
              "        google.colab.kernel.accessAllowed ? 'block' : 'none';\n",
              "\n",
              "      buttonEl.onclick = () => {\n",
              "        google.colab.notebook.generateWithVariable('all_models_results');\n",
              "      }\n",
              "      })();\n",
              "    </script>\n",
              "  </div>\n",
              "\n",
              "    </div>\n",
              "  </div>\n"
            ]
          },
          "metadata": {},
          "execution_count": 105
        }
      ]
    },
    {
      "cell_type": "code",
      "source": [
        "#Visualize\n",
        "all_models_results.plot(kind=\"bar\", figsize=(10,7)).legend(bbox_to_anchor=(1.0,1.0))"
      ],
      "metadata": {
        "colab": {
          "base_uri": "https://localhost:8080/",
          "height": 661
        },
        "id": "ee454n3qnfxf",
        "outputId": "988fc8ca-da2c-41d6-82d1-097d716ac460"
      },
      "execution_count": 106,
      "outputs": [
        {
          "output_type": "execute_result",
          "data": {
            "text/plain": [
              "<matplotlib.legend.Legend at 0x7c0bb07f6230>"
            ]
          },
          "metadata": {},
          "execution_count": 106
        },
        {
          "output_type": "display_data",
          "data": {
            "text/plain": [
              "<Figure size 1000x700 with 1 Axes>"
            ],
            "image/png": "[encoded data removed]"
          },
          "metadata": {}
        }
      ]
    },
    {
      "cell_type": "code",
      "source": [
        "#Visualize f1-score\n",
        "all_models_results.sort_values(\"f1\", ascending=True)[\"f1\"].plot(kind=\"bar\", figsize=(10,7))"
      ],
      "metadata": {
        "colab": {
          "base_uri": "https://localhost:8080/",
          "height": 661
        },
        "id": "76xG3Wtbn1Y6",
        "outputId": "d3abe172-bf7c-4e6c-80a9-5b80b5e11822"
      },
      "execution_count": 107,
      "outputs": [
        {
          "output_type": "execute_result",
          "data": {
            "text/plain": [
              "<Axes: >"
            ]
          },
          "metadata": {},
          "execution_count": 107
        },
        {
          "output_type": "display_data",
          "data": {
            "text/plain": [
              "<Figure size 1000x700 with 1 Axes>"
            ],
            "image/png": "[encoded data removed]"
          },
          "metadata": {}
        }
      ]
    },
    {
      "cell_type": "markdown",
      "source": [
        "#Save the model"
      ],
      "metadata": {
        "id": "tiCqipbHowYd"
      }
    },
    {
      "cell_type": "code",
      "source": [
        "model_5.save(\"Best_SkimLit_model\")"
      ],
      "metadata": {
        "id": "dwKZUsH4onft"
      },
      "execution_count": 108,
      "outputs": []
    },
    {
      "cell_type": "code",
      "source": [
        "loaded_model=tf.keras.models.load_model(\"Best_SkimLit_model\")"
      ],
      "metadata": {
        "id": "Na-gBE_Io1yE"
      },
      "execution_count": 109,
      "outputs": []
    },
    {
      "cell_type": "code",
      "source": [
        "loaded_model.evaluate(val_tribrid_ds)"
      ],
      "metadata": {
        "colab": {
          "base_uri": "https://localhost:8080/"
        },
        "id": "XSMjGrFBpOsY",
        "outputId": "e5062ea6-0041-4944-e495-05e418a32ecf"
      },
      "execution_count": 110,
      "outputs": [
        {
          "output_type": "stream",
          "name": "stdout",
          "text": [
            "945/945 [==============================] - 21s 20ms/step - loss: 0.9351 - accuracy: 0.8341\n"
          ]
        },
        {
          "output_type": "execute_result",
          "data": {
            "text/plain": [
              "[0.9350880980491638, 0.8341387510299683]"
            ]
          },
          "metadata": {},
          "execution_count": 110
        }
      ]
    },
    {
      "cell_type": "markdown",
      "source": [
        "###Make predictions on test dataset"
      ],
      "metadata": {
        "id": "50AAD6xqfYuw"
      }
    },
    {
      "cell_type": "code",
      "source": [
        "#1.Make predictions on test dataset\n",
        "loaded_model_pred_probs = loaded_model.predict(test_tribrid_ds)"
      ],
      "metadata": {
        "id": "Q2i__3Bdrpua",
        "colab": {
          "base_uri": "https://localhost:8080/"
        },
        "outputId": "2146a9a3-8063-416a-b76e-1cd2131b8eff"
      },
      "execution_count": 111,
      "outputs": [
        {
          "output_type": "stream",
          "name": "stdout",
          "text": [
            "942/942 [==============================] - 22s 20ms/step\n"
          ]
        }
      ]
    },
    {
      "cell_type": "code",
      "source": [
        "#Get the max prediction probability\n",
        "max = tf.reduce_max(loaded_model_pred_probs, axis=1)\n",
        "max[:10]"
      ],
      "metadata": {
        "colab": {
          "base_uri": "https://localhost:8080/"
        },
        "id": "9dfhWNU9crv6",
        "outputId": "87cfa82b-de75-4c4b-98fe-ea9dec4e0503"
      },
      "execution_count": 118,
      "outputs": [
        {
          "output_type": "execute_result",
          "data": {
            "text/plain": [
              "<tf.Tensor: shape=(10,), dtype=float32, numpy=\n",
              "array([0.46161544, 0.36256656, 0.7807629 , 0.680218  , 0.7458491 ,\n",
              "       0.89710766, 0.5649715 , 0.50047934, 0.448759  , 0.581406  ],\n",
              "      dtype=float32)>"
            ]
          },
          "metadata": {},
          "execution_count": 118
        }
      ]
    },
    {
      "cell_type": "code",
      "source": [
        "loaded_model_preds = tf.argmax(loaded_model_pred_probs, axis=1)"
      ],
      "metadata": {
        "id": "JVhuXgk3b4jV"
      },
      "execution_count": 112,
      "outputs": []
    },
    {
      "cell_type": "markdown",
      "source": [
        "###Find the most wrong predictions"
      ],
      "metadata": {
        "id": "GJUQ0cktfc4M"
      }
    },
    {
      "cell_type": "code",
      "source": [
        "#Put predictions into dataframe\n",
        "predictions_df = pd.DataFrame({\"test_text\": test_sentences,\n",
        "                               \"test_labels\": test_labels,\n",
        "                               \"test_preds\": loaded_model_preds,\n",
        "                               \"pred_conf\": max})\n",
        "predictions_df.head()"
      ],
      "metadata": {
        "colab": {
          "base_uri": "https://localhost:8080/",
          "height": 206
        },
        "id": "5BzocQbWbgtv",
        "outputId": "4313cf9e-003f-410e-dad0-7e728999d406"
      },
      "execution_count": 122,
      "outputs": [
        {
          "output_type": "execute_result",
          "data": {
            "text/plain": [
              "                                           test_text  test_labels  test_preds  \\\n",
              "0  this study analyzed liver function abnormaliti...            0           3   \n",
              "1  a post hoc analysis was conducted with the use...            4           0   \n",
              "2  liver function tests ( lfts ) were measured at...            4           2   \n",
              "3  survival analyses were used to assess the asso...            4           2   \n",
              "4  the percentage of patients with abnormal lfts ...            4           4   \n",
              "\n",
              "   pred_conf  \n",
              "0   0.461615  \n",
              "1   0.362567  \n",
              "2   0.780763  \n",
              "3   0.680218  \n",
              "4   0.745849  "
            ],
            "text/html": [
              "\n",
              "  <div id=\"df-be1a82be-228f-4eca-b5b2-bf640f664bfa\" class=\"colab-df-container\">\n",
              "    <div>\n",
              "<style scoped>\n",
              "    .dataframe tbody tr th:only-of-type {\n",
              "        vertical-align: middle;\n",
              "    }\n",
              "\n",
              "    .dataframe tbody tr th {\n",
              "        vertical-align: top;\n",
              "    }\n",
              "\n",
              "    .dataframe thead th {\n",
              "        text-align: right;\n",
              "    }\n",
              "</style>\n",
              "<table border=\"1\" class=\"dataframe\">\n",
              "  <thead>\n",
              "    <tr style=\"text-align: right;\">\n",
              "      <th></th>\n",
              "      <th>test_text</th>\n",
              "      <th>test_labels</th>\n",
              "      <th>test_preds</th>\n",
              "      <th>pred_conf</th>\n",
              "    </tr>\n",
              "  </thead>\n",
              "  <tbody>\n",
              "    <tr>\n",
              "      <th>0</th>\n",
              "      <td>this study analyzed liver function abnormaliti...</td>\n",
              "      <td>0</td>\n",
              "      <td>3</td>\n",
              "      <td>0.461615</td>\n",
              "    </tr>\n",
              "    <tr>\n",
              "      <th>1</th>\n",
              "      <td>a post hoc analysis was conducted with the use...</td>\n",
              "      <td>4</td>\n",
              "      <td>0</td>\n",
              "      <td>0.362567</td>\n",
              "    </tr>\n",
              "    <tr>\n",
              "      <th>2</th>\n",
              "      <td>liver function tests ( lfts ) were measured at...</td>\n",
              "      <td>4</td>\n",
              "      <td>2</td>\n",
              "      <td>0.780763</td>\n",
              "    </tr>\n",
              "    <tr>\n",
              "      <th>3</th>\n",
              "      <td>survival analyses were used to assess the asso...</td>\n",
              "      <td>4</td>\n",
              "      <td>2</td>\n",
              "      <td>0.680218</td>\n",
              "    </tr>\n",
              "    <tr>\n",
              "      <th>4</th>\n",
              "      <td>the percentage of patients with abnormal lfts ...</td>\n",
              "      <td>4</td>\n",
              "      <td>4</td>\n",
              "      <td>0.745849</td>\n",
              "    </tr>\n",
              "  </tbody>\n",
              "</table>\n",
              "</div>\n",
              "    <div class=\"colab-df-buttons\">\n",
              "\n",
              "  <div class=\"colab-df-container\">\n",
              "    <button class=\"colab-df-convert\" onclick=\"convertToInteractive('df-be1a82be-228f-4eca-b5b2-bf640f664bfa')\"\n",
              "            title=\"Convert this dataframe to an interactive table.\"\n",
              "            style=\"display:none;\">\n",
              "\n",
              "  <svg xmlns=\"http://www.w3.org/2000/svg\" height=\"24px\" viewBox=\"0 -960 960 960\">\n",
              "    <path d=\"M120-120v-720h720v720H120Zm60-500h600v-160H180v160Zm220 220h160v-160H400v160Zm0 220h160v-160H400v160ZM180-400h160v-160H180v160Zm440 0h160v-160H620v160ZM180-180h160v-160H180v160Zm440 0h160v-160H620v160Z\"/>\n",
              "  </svg>\n",
              "    </button>\n",
              "\n",
              "  <style>\n",
              "    .colab-df-container {\n",
              "      display:flex;\n",
              "      gap: 12px;\n",
              "    }\n",
              "\n",
              "    .colab-df-convert {\n",
              "      background-color: #E8F0FE;\n",
              "      border: none;\n",
              "      border-radius: 50%;\n",
              "      cursor: pointer;\n",
              "      display: none;\n",
              "      fill: #1967D2;\n",
              "      height: 32px;\n",
              "      padding: 0 0 0 0;\n",
              "      width: 32px;\n",
              "    }\n",
              "\n",
              "    .colab-df-convert:hover {\n",
              "      background-color: #E2EBFA;\n",
              "      box-shadow: 0px 1px 2px rgba(60, 64, 67, 0.3), 0px 1px 3px 1px rgba(60, 64, 67, 0.15);\n",
              "      fill: #174EA6;\n",
              "    }\n",
              "\n",
              "    .colab-df-buttons div {\n",
              "      margin-bottom: 4px;\n",
              "    }\n",
              "\n",
              "    [theme=dark] .colab-df-convert {\n",
              "      background-color: #3B4455;\n",
              "      fill: #D2E3FC;\n",
              "    }\n",
              "\n",
              "    [theme=dark] .colab-df-convert:hover {\n",
              "      background-color: #434B5C;\n",
              "      box-shadow: 0px 1px 3px 1px rgba(0, 0, 0, 0.15);\n",
              "      filter: drop-shadow(0px 1px 2px rgba(0, 0, 0, 0.3));\n",
              "      fill: #FFFFFF;\n",
              "    }\n",
              "  </style>\n",
              "\n",
              "    <script>\n",
              "      const buttonEl =\n",
              "        document.querySelector('#df-be1a82be-228f-4eca-b5b2-bf640f664bfa button.colab-df-convert');\n",
              "      buttonEl.style.display =\n",
              "        google.colab.kernel.accessAllowed ? 'block' : 'none';\n",
              "\n",
              "      async function convertToInteractive(key) {\n",
              "        const element = document.querySelector('#df-be1a82be-228f-4eca-b5b2-bf640f664bfa');\n",
              "        const dataTable =\n",
              "          await google.colab.kernel.invokeFunction('convertToInteractive',\n",
              "                                                    [key], {});\n",
              "        if (!dataTable) return;\n",
              "\n",
              "        const docLinkHtml = 'Like what you see? Visit the ' +\n",
              "          '<a target=\"_blank\" href=https://colab.research.google.com/notebooks/data_table.ipynb>data table notebook</a>'\n",
              "          + ' to learn more about interactive tables.';\n",
              "        element.innerHTML = '';\n",
              "        dataTable['output_type'] = 'display_data';\n",
              "        await google.colab.output.renderOutput(dataTable, element);\n",
              "        const docLink = document.createElement('div');\n",
              "        docLink.innerHTML = docLinkHtml;\n",
              "        element.appendChild(docLink);\n",
              "      }\n",
              "    </script>\n",
              "  </div>\n",
              "\n",
              "\n",
              "<div id=\"df-fb3ac9ed-0831-48e4-b823-9a1d4bc733e5\">\n",
              "  <button class=\"colab-df-quickchart\" onclick=\"quickchart('df-fb3ac9ed-0831-48e4-b823-9a1d4bc733e5')\"\n",
              "            title=\"Suggest charts\"\n",
              "            style=\"display:none;\">\n",
              "\n",
              "<svg xmlns=\"http://www.w3.org/2000/svg\" height=\"24px\"viewBox=\"0 0 24 24\"\n",
              "     width=\"24px\">\n",
              "    <g>\n",
              "        <path d=\"M19 3H5c-1.1 0-2 .9-2 2v14c0 1.1.9 2 2 2h14c1.1 0 2-.9 2-2V5c0-1.1-.9-2-2-2zM9 17H7v-7h2v7zm4 0h-2V7h2v10zm4 0h-2v-4h2v4z\"/>\n",
              "    </g>\n",
              "</svg>\n",
              "  </button>\n",
              "\n",
              "<style>\n",
              "  .colab-df-quickchart {\n",
              "      --bg-color: #E8F0FE;\n",
              "      --fill-color: #1967D2;\n",
              "      --hover-bg-color: #E2EBFA;\n",
              "      --hover-fill-color: #174EA6;\n",
              "      --disabled-fill-color: #AAA;\n",
              "      --disabled-bg-color: #DDD;\n",
              "  }\n",
              "\n",
              "  [theme=dark] .colab-df-quickchart {\n",
              "      --bg-color: #3B4455;\n",
              "      --fill-color: #D2E3FC;\n",
              "      --hover-bg-color: #434B5C;\n",
              "      --hover-fill-color: #FFFFFF;\n",
              "      --disabled-bg-color: #3B4455;\n",
              "      --disabled-fill-color: #666;\n",
              "  }\n",
              "\n",
              "  .colab-df-quickchart {\n",
              "    background-color: var(--bg-color);\n",
              "    border: none;\n",
              "    border-radius: 50%;\n",
              "    cursor: pointer;\n",
              "    display: none;\n",
              "    fill: var(--fill-color);\n",
              "    height: 32px;\n",
              "    padding: 0;\n",
              "    width: 32px;\n",
              "  }\n",
              "\n",
              "  .colab-df-quickchart:hover {\n",
              "    background-color: var(--hover-bg-color);\n",
              "    box-shadow: 0 1px 2px rgba(60, 64, 67, 0.3), 0 1px 3px 1px rgba(60, 64, 67, 0.15);\n",
              "    fill: var(--button-hover-fill-color);\n",
              "  }\n",
              "\n",
              "  .colab-df-quickchart-complete:disabled,\n",
              "  .colab-df-quickchart-complete:disabled:hover {\n",
              "    background-color: var(--disabled-bg-color);\n",
              "    fill: var(--disabled-fill-color);\n",
              "    box-shadow: none;\n",
              "  }\n",
              "\n",
              "  .colab-df-spinner {\n",
              "    border: 2px solid var(--fill-color);\n",
              "    border-color: transparent;\n",
              "    border-bottom-color: var(--fill-color);\n",
              "    animation:\n",
              "      spin 1s steps(1) infinite;\n",
              "  }\n",
              "\n",
              "  @keyframes spin {\n",
              "    0% {\n",
              "      border-color: transparent;\n",
              "      border-bottom-color: var(--fill-color);\n",
              "      border-left-color: var(--fill-color);\n",
              "    }\n",
              "    20% {\n",
              "      border-color: transparent;\n",
              "      border-left-color: var(--fill-color);\n",
              "      border-top-color: var(--fill-color);\n",
              "    }\n",
              "    30% {\n",
              "      border-color: transparent;\n",
              "      border-left-color: var(--fill-color);\n",
              "      border-top-color: var(--fill-color);\n",
              "      border-right-color: var(--fill-color);\n",
              "    }\n",
              "    40% {\n",
              "      border-color: transparent;\n",
              "      border-right-color: var(--fill-color);\n",
              "      border-top-color: var(--fill-color);\n",
              "    }\n",
              "    60% {\n",
              "      border-color: transparent;\n",
              "      border-right-color: var(--fill-color);\n",
              "    }\n",
              "    80% {\n",
              "      border-color: transparent;\n",
              "      border-right-color: var(--fill-color);\n",
              "      border-bottom-color: var(--fill-color);\n",
              "    }\n",
              "    90% {\n",
              "      border-color: transparent;\n",
              "      border-bottom-color: var(--fill-color);\n",
              "    }\n",
              "  }\n",
              "</style>\n",
              "\n",
              "  <script>\n",
              "    async function quickchart(key) {\n",
              "      const quickchartButtonEl =\n",
              "        document.querySelector('#' + key + ' button');\n",
              "      quickchartButtonEl.disabled = true;  // To prevent multiple clicks.\n",
              "      quickchartButtonEl.classList.add('colab-df-spinner');\n",
              "      try {\n",
              "        const charts = await google.colab.kernel.invokeFunction(\n",
              "            'suggestCharts', [key], {});\n",
              "      } catch (error) {\n",
              "        console.error('Error during call to suggestCharts:', error);\n",
              "      }\n",
              "      quickchartButtonEl.classList.remove('colab-df-spinner');\n",
              "      quickchartButtonEl.classList.add('colab-df-quickchart-complete');\n",
              "    }\n",
              "    (() => {\n",
              "      let quickchartButtonEl =\n",
              "        document.querySelector('#df-fb3ac9ed-0831-48e4-b823-9a1d4bc733e5 button');\n",
              "      quickchartButtonEl.style.display =\n",
              "        google.colab.kernel.accessAllowed ? 'block' : 'none';\n",
              "    })();\n",
              "  </script>\n",
              "</div>\n",
              "\n",
              "    </div>\n",
              "  </div>\n"
            ]
          },
          "metadata": {},
          "execution_count": 122
        }
      ]
    },
    {
      "cell_type": "code",
      "source": [
        "#Sort by the highest prediction confidence\n",
        "most_wrong_df = predictions_df[predictions_df[\"test_labels\"]!=predictions_df[\"test_preds\"]].sort_values(\"pred_conf\", ascending=False)\n",
        "most_wrong_df.head()"
      ],
      "metadata": {
        "colab": {
          "base_uri": "https://localhost:8080/",
          "height": 206
        },
        "id": "HPqWppKRcEkw",
        "outputId": "3d7fc891-de07-4d50-eef9-3ef051908334"
      },
      "execution_count": 123,
      "outputs": [
        {
          "output_type": "execute_result",
          "data": {
            "text/plain": [
              "                                               test_text  test_labels  \\\n",
              "13874  symptom outcomes will be assessed and estimate...            1   \n",
              "2388   the primary endpoint is the cumulative three-y...            4   \n",
              "28602         www.chictr.org registration chictr-trc-@ .            1   \n",
              "16347  to evaluate the effects of the lactic acid bac...            0   \n",
              "1827                       nct@ ( clinicaltrials.gov ) .            1   \n",
              "\n",
              "       test_preds  pred_conf  \n",
              "13874           2   0.942955  \n",
              "2388            2   0.932137  \n",
              "28602           0   0.924940  \n",
              "16347           3   0.923952  \n",
              "1827            0   0.921086  "
            ],
            "text/html": [
              "\n",
              "  <div id=\"df-2a9334cc-0b72-42ae-bd70-cf332b582275\" class=\"colab-df-container\">\n",
              "    <div>\n",
              "<style scoped>\n",
              "    .dataframe tbody tr th:only-of-type {\n",
              "        vertical-align: middle;\n",
              "    }\n",
              "\n",
              "    .dataframe tbody tr th {\n",
              "        vertical-align: top;\n",
              "    }\n",
              "\n",
              "    .dataframe thead th {\n",
              "        text-align: right;\n",
              "    }\n",
              "</style>\n",
              "<table border=\"1\" class=\"dataframe\">\n",
              "  <thead>\n",
              "    <tr style=\"text-align: right;\">\n",
              "      <th></th>\n",
              "      <th>test_text</th>\n",
              "      <th>test_labels</th>\n",
              "      <th>test_preds</th>\n",
              "      <th>pred_conf</th>\n",
              "    </tr>\n",
              "  </thead>\n",
              "  <tbody>\n",
              "    <tr>\n",
              "      <th>13874</th>\n",
              "      <td>symptom outcomes will be assessed and estimate...</td>\n",
              "      <td>1</td>\n",
              "      <td>2</td>\n",
              "      <td>0.942955</td>\n",
              "    </tr>\n",
              "    <tr>\n",
              "      <th>2388</th>\n",
              "      <td>the primary endpoint is the cumulative three-y...</td>\n",
              "      <td>4</td>\n",
              "      <td>2</td>\n",
              "      <td>0.932137</td>\n",
              "    </tr>\n",
              "    <tr>\n",
              "      <th>28602</th>\n",
              "      <td>www.chictr.org registration chictr-trc-@ .</td>\n",
              "      <td>1</td>\n",
              "      <td>0</td>\n",
              "      <td>0.924940</td>\n",
              "    </tr>\n",
              "    <tr>\n",
              "      <th>16347</th>\n",
              "      <td>to evaluate the effects of the lactic acid bac...</td>\n",
              "      <td>0</td>\n",
              "      <td>3</td>\n",
              "      <td>0.923952</td>\n",
              "    </tr>\n",
              "    <tr>\n",
              "      <th>1827</th>\n",
              "      <td>nct@ ( clinicaltrials.gov ) .</td>\n",
              "      <td>1</td>\n",
              "      <td>0</td>\n",
              "      <td>0.921086</td>\n",
              "    </tr>\n",
              "  </tbody>\n",
              "</table>\n",
              "</div>\n",
              "    <div class=\"colab-df-buttons\">\n",
              "\n",
              "  <div class=\"colab-df-container\">\n",
              "    <button class=\"colab-df-convert\" onclick=\"convertToInteractive('df-2a9334cc-0b72-42ae-bd70-cf332b582275')\"\n",
              "            title=\"Convert this dataframe to an interactive table.\"\n",
              "            style=\"display:none;\">\n",
              "\n",
              "  <svg xmlns=\"http://www.w3.org/2000/svg\" height=\"24px\" viewBox=\"0 -960 960 960\">\n",
              "    <path d=\"M120-120v-720h720v720H120Zm60-500h600v-160H180v160Zm220 220h160v-160H400v160Zm0 220h160v-160H400v160ZM180-400h160v-160H180v160Zm440 0h160v-160H620v160ZM180-180h160v-160H180v160Zm440 0h160v-160H620v160Z\"/>\n",
              "  </svg>\n",
              "    </button>\n",
              "\n",
              "  <style>\n",
              "    .colab-df-container {\n",
              "      display:flex;\n",
              "      gap: 12px;\n",
              "    }\n",
              "\n",
              "    .colab-df-convert {\n",
              "      background-color: #E8F0FE;\n",
              "      border: none;\n",
              "      border-radius: 50%;\n",
              "      cursor: pointer;\n",
              "      display: none;\n",
              "      fill: #1967D2;\n",
              "      height: 32px;\n",
              "      padding: 0 0 0 0;\n",
              "      width: 32px;\n",
              "    }\n",
              "\n",
              "    .colab-df-convert:hover {\n",
              "      background-color: #E2EBFA;\n",
              "      box-shadow: 0px 1px 2px rgba(60, 64, 67, 0.3), 0px 1px 3px 1px rgba(60, 64, 67, 0.15);\n",
              "      fill: #174EA6;\n",
              "    }\n",
              "\n",
              "    .colab-df-buttons div {\n",
              "      margin-bottom: 4px;\n",
              "    }\n",
              "\n",
              "    [theme=dark] .colab-df-convert {\n",
              "      background-color: #3B4455;\n",
              "      fill: #D2E3FC;\n",
              "    }\n",
              "\n",
              "    [theme=dark] .colab-df-convert:hover {\n",
              "      background-color: #434B5C;\n",
              "      box-shadow: 0px 1px 3px 1px rgba(0, 0, 0, 0.15);\n",
              "      filter: drop-shadow(0px 1px 2px rgba(0, 0, 0, 0.3));\n",
              "      fill: #FFFFFF;\n",
              "    }\n",
              "  </style>\n",
              "\n",
              "    <script>\n",
              "      const buttonEl =\n",
              "        document.querySelector('#df-2a9334cc-0b72-42ae-bd70-cf332b582275 button.colab-df-convert');\n",
              "      buttonEl.style.display =\n",
              "        google.colab.kernel.accessAllowed ? 'block' : 'none';\n",
              "\n",
              "      async function convertToInteractive(key) {\n",
              "        const element = document.querySelector('#df-2a9334cc-0b72-42ae-bd70-cf332b582275');\n",
              "        const dataTable =\n",
              "          await google.colab.kernel.invokeFunction('convertToInteractive',\n",
              "                                                    [key], {});\n",
              "        if (!dataTable) return;\n",
              "\n",
              "        const docLinkHtml = 'Like what you see? Visit the ' +\n",
              "          '<a target=\"_blank\" href=https://colab.research.google.com/notebooks/data_table.ipynb>data table notebook</a>'\n",
              "          + ' to learn more about interactive tables.';\n",
              "        element.innerHTML = '';\n",
              "        dataTable['output_type'] = 'display_data';\n",
              "        await google.colab.output.renderOutput(dataTable, element);\n",
              "        const docLink = document.createElement('div');\n",
              "        docLink.innerHTML = docLinkHtml;\n",
              "        element.appendChild(docLink);\n",
              "      }\n",
              "    </script>\n",
              "  </div>\n",
              "\n",
              "\n",
              "<div id=\"df-48e81e75-7deb-4a25-92ba-fa1a056a22ad\">\n",
              "  <button class=\"colab-df-quickchart\" onclick=\"quickchart('df-48e81e75-7deb-4a25-92ba-fa1a056a22ad')\"\n",
              "            title=\"Suggest charts\"\n",
              "            style=\"display:none;\">\n",
              "\n",
              "<svg xmlns=\"http://www.w3.org/2000/svg\" height=\"24px\"viewBox=\"0 0 24 24\"\n",
              "     width=\"24px\">\n",
              "    <g>\n",
              "        <path d=\"M19 3H5c-1.1 0-2 .9-2 2v14c0 1.1.9 2 2 2h14c1.1 0 2-.9 2-2V5c0-1.1-.9-2-2-2zM9 17H7v-7h2v7zm4 0h-2V7h2v10zm4 0h-2v-4h2v4z\"/>\n",
              "    </g>\n",
              "</svg>\n",
              "  </button>\n",
              "\n",
              "<style>\n",
              "  .colab-df-quickchart {\n",
              "      --bg-color: #E8F0FE;\n",
              "      --fill-color: #1967D2;\n",
              "      --hover-bg-color: #E2EBFA;\n",
              "      --hover-fill-color: #174EA6;\n",
              "      --disabled-fill-color: #AAA;\n",
              "      --disabled-bg-color: #DDD;\n",
              "  }\n",
              "\n",
              "  [theme=dark] .colab-df-quickchart {\n",
              "      --bg-color: #3B4455;\n",
              "      --fill-color: #D2E3FC;\n",
              "      --hover-bg-color: #434B5C;\n",
              "      --hover-fill-color: #FFFFFF;\n",
              "      --disabled-bg-color: #3B4455;\n",
              "      --disabled-fill-color: #666;\n",
              "  }\n",
              "\n",
              "  .colab-df-quickchart {\n",
              "    background-color: var(--bg-color);\n",
              "    border: none;\n",
              "    border-radius: 50%;\n",
              "    cursor: pointer;\n",
              "    display: none;\n",
              "    fill: var(--fill-color);\n",
              "    height: 32px;\n",
              "    padding: 0;\n",
              "    width: 32px;\n",
              "  }\n",
              "\n",
              "  .colab-df-quickchart:hover {\n",
              "    background-color: var(--hover-bg-color);\n",
              "    box-shadow: 0 1px 2px rgba(60, 64, 67, 0.3), 0 1px 3px 1px rgba(60, 64, 67, 0.15);\n",
              "    fill: var(--button-hover-fill-color);\n",
              "  }\n",
              "\n",
              "  .colab-df-quickchart-complete:disabled,\n",
              "  .colab-df-quickchart-complete:disabled:hover {\n",
              "    background-color: var(--disabled-bg-color);\n",
              "    fill: var(--disabled-fill-color);\n",
              "    box-shadow: none;\n",
              "  }\n",
              "\n",
              "  .colab-df-spinner {\n",
              "    border: 2px solid var(--fill-color);\n",
              "    border-color: transparent;\n",
              "    border-bottom-color: var(--fill-color);\n",
              "    animation:\n",
              "      spin 1s steps(1) infinite;\n",
              "  }\n",
              "\n",
              "  @keyframes spin {\n",
              "    0% {\n",
              "      border-color: transparent;\n",
              "      border-bottom-color: var(--fill-color);\n",
              "      border-left-color: var(--fill-color);\n",
              "    }\n",
              "    20% {\n",
              "      border-color: transparent;\n",
              "      border-left-color: var(--fill-color);\n",
              "      border-top-color: var(--fill-color);\n",
              "    }\n",
              "    30% {\n",
              "      border-color: transparent;\n",
              "      border-left-color: var(--fill-color);\n",
              "      border-top-color: var(--fill-color);\n",
              "      border-right-color: var(--fill-color);\n",
              "    }\n",
              "    40% {\n",
              "      border-color: transparent;\n",
              "      border-right-color: var(--fill-color);\n",
              "      border-top-color: var(--fill-color);\n",
              "    }\n",
              "    60% {\n",
              "      border-color: transparent;\n",
              "      border-right-color: var(--fill-color);\n",
              "    }\n",
              "    80% {\n",
              "      border-color: transparent;\n",
              "      border-right-color: var(--fill-color);\n",
              "      border-bottom-color: var(--fill-color);\n",
              "    }\n",
              "    90% {\n",
              "      border-color: transparent;\n",
              "      border-bottom-color: var(--fill-color);\n",
              "    }\n",
              "  }\n",
              "</style>\n",
              "\n",
              "  <script>\n",
              "    async function quickchart(key) {\n",
              "      const quickchartButtonEl =\n",
              "        document.querySelector('#' + key + ' button');\n",
              "      quickchartButtonEl.disabled = true;  // To prevent multiple clicks.\n",
              "      quickchartButtonEl.classList.add('colab-df-spinner');\n",
              "      try {\n",
              "        const charts = await google.colab.kernel.invokeFunction(\n",
              "            'suggestCharts', [key], {});\n",
              "      } catch (error) {\n",
              "        console.error('Error during call to suggestCharts:', error);\n",
              "      }\n",
              "      quickchartButtonEl.classList.remove('colab-df-spinner');\n",
              "      quickchartButtonEl.classList.add('colab-df-quickchart-complete');\n",
              "    }\n",
              "    (() => {\n",
              "      let quickchartButtonEl =\n",
              "        document.querySelector('#df-48e81e75-7deb-4a25-92ba-fa1a056a22ad button');\n",
              "      quickchartButtonEl.style.display =\n",
              "        google.colab.kernel.accessAllowed ? 'block' : 'none';\n",
              "    })();\n",
              "  </script>\n",
              "</div>\n",
              "\n",
              "    </div>\n",
              "  </div>\n"
            ]
          },
          "metadata": {},
          "execution_count": 123
        }
      ]
    },
    {
      "cell_type": "code",
      "source": [
        "most_wrong_df.tail()"
      ],
      "metadata": {
        "colab": {
          "base_uri": "https://localhost:8080/",
          "height": 206
        },
        "id": "ef8xBdgHd_xX",
        "outputId": "9922b0dc-80d6-4f58-9c56-67a3bf958a59"
      },
      "execution_count": 124,
      "outputs": [
        {
          "output_type": "execute_result",
          "data": {
            "text/plain": [
              "                                               test_text  test_labels  \\\n",
              "9769   the crystalens ao and restor +@ demonstrated b...            4   \n",
              "19439  it also looks at whether ` feedback-informed t...            0   \n",
              "16216  the formative research suggested that rdts wer...            4   \n",
              "15864  the study showed that the treatment led to imp...            0   \n",
              "11729  this @ arm randomized prospective double-blind...            2   \n",
              "\n",
              "       test_preds  pred_conf  \n",
              "9769            2   0.239314  \n",
              "19439           1   0.238620  \n",
              "16216           2   0.236429  \n",
              "15864           3   0.233723  \n",
              "11729           1   0.228060  "
            ],
            "text/html": [
              "\n",
              "  <div id=\"df-6496c003-9c49-48d7-b4c8-d7300f1eba97\" class=\"colab-df-container\">\n",
              "    <div>\n",
              "<style scoped>\n",
              "    .dataframe tbody tr th:only-of-type {\n",
              "        vertical-align: middle;\n",
              "    }\n",
              "\n",
              "    .dataframe tbody tr th {\n",
              "        vertical-align: top;\n",
              "    }\n",
              "\n",
              "    .dataframe thead th {\n",
              "        text-align: right;\n",
              "    }\n",
              "</style>\n",
              "<table border=\"1\" class=\"dataframe\">\n",
              "  <thead>\n",
              "    <tr style=\"text-align: right;\">\n",
              "      <th></th>\n",
              "      <th>test_text</th>\n",
              "      <th>test_labels</th>\n",
              "      <th>test_preds</th>\n",
              "      <th>pred_conf</th>\n",
              "    </tr>\n",
              "  </thead>\n",
              "  <tbody>\n",
              "    <tr>\n",
              "      <th>9769</th>\n",
              "      <td>the crystalens ao and restor +@ demonstrated b...</td>\n",
              "      <td>4</td>\n",
              "      <td>2</td>\n",
              "      <td>0.239314</td>\n",
              "    </tr>\n",
              "    <tr>\n",
              "      <th>19439</th>\n",
              "      <td>it also looks at whether ` feedback-informed t...</td>\n",
              "      <td>0</td>\n",
              "      <td>1</td>\n",
              "      <td>0.238620</td>\n",
              "    </tr>\n",
              "    <tr>\n",
              "      <th>16216</th>\n",
              "      <td>the formative research suggested that rdts wer...</td>\n",
              "      <td>4</td>\n",
              "      <td>2</td>\n",
              "      <td>0.236429</td>\n",
              "    </tr>\n",
              "    <tr>\n",
              "      <th>15864</th>\n",
              "      <td>the study showed that the treatment led to imp...</td>\n",
              "      <td>0</td>\n",
              "      <td>3</td>\n",
              "      <td>0.233723</td>\n",
              "    </tr>\n",
              "    <tr>\n",
              "      <th>11729</th>\n",
              "      <td>this @ arm randomized prospective double-blind...</td>\n",
              "      <td>2</td>\n",
              "      <td>1</td>\n",
              "      <td>0.228060</td>\n",
              "    </tr>\n",
              "  </tbody>\n",
              "</table>\n",
              "</div>\n",
              "    <div class=\"colab-df-buttons\">\n",
              "\n",
              "  <div class=\"colab-df-container\">\n",
              "    <button class=\"colab-df-convert\" onclick=\"convertToInteractive('df-6496c003-9c49-48d7-b4c8-d7300f1eba97')\"\n",
              "            title=\"Convert this dataframe to an interactive table.\"\n",
              "            style=\"display:none;\">\n",
              "\n",
              "  <svg xmlns=\"http://www.w3.org/2000/svg\" height=\"24px\" viewBox=\"0 -960 960 960\">\n",
              "    <path d=\"M120-120v-720h720v720H120Zm60-500h600v-160H180v160Zm220 220h160v-160H400v160Zm0 220h160v-160H400v160ZM180-400h160v-160H180v160Zm440 0h160v-160H620v160ZM180-180h160v-160H180v160Zm440 0h160v-160H620v160Z\"/>\n",
              "  </svg>\n",
              "    </button>\n",
              "\n",
              "  <style>\n",
              "    .colab-df-container {\n",
              "      display:flex;\n",
              "      gap: 12px;\n",
              "    }\n",
              "\n",
              "    .colab-df-convert {\n",
              "      background-color: #E8F0FE;\n",
              "      border: none;\n",
              "      border-radius: 50%;\n",
              "      cursor: pointer;\n",
              "      display: none;\n",
              "      fill: #1967D2;\n",
              "      height: 32px;\n",
              "      padding: 0 0 0 0;\n",
              "      width: 32px;\n",
              "    }\n",
              "\n",
              "    .colab-df-convert:hover {\n",
              "      background-color: #E2EBFA;\n",
              "      box-shadow: 0px 1px 2px rgba(60, 64, 67, 0.3), 0px 1px 3px 1px rgba(60, 64, 67, 0.15);\n",
              "      fill: #174EA6;\n",
              "    }\n",
              "\n",
              "    .colab-df-buttons div {\n",
              "      margin-bottom: 4px;\n",
              "    }\n",
              "\n",
              "    [theme=dark] .colab-df-convert {\n",
              "      background-color: #3B4455;\n",
              "      fill: #D2E3FC;\n",
              "    }\n",
              "\n",
              "    [theme=dark] .colab-df-convert:hover {\n",
              "      background-color: #434B5C;\n",
              "      box-shadow: 0px 1px 3px 1px rgba(0, 0, 0, 0.15);\n",
              "      filter: drop-shadow(0px 1px 2px rgba(0, 0, 0, 0.3));\n",
              "      fill: #FFFFFF;\n",
              "    }\n",
              "  </style>\n",
              "\n",
              "    <script>\n",
              "      const buttonEl =\n",
              "        document.querySelector('#df-6496c003-9c49-48d7-b4c8-d7300f1eba97 button.colab-df-convert');\n",
              "      buttonEl.style.display =\n",
              "        google.colab.kernel.accessAllowed ? 'block' : 'none';\n",
              "\n",
              "      async function convertToInteractive(key) {\n",
              "        const element = document.querySelector('#df-6496c003-9c49-48d7-b4c8-d7300f1eba97');\n",
              "        const dataTable =\n",
              "          await google.colab.kernel.invokeFunction('convertToInteractive',\n",
              "                                                    [key], {});\n",
              "        if (!dataTable) return;\n",
              "\n",
              "        const docLinkHtml = 'Like what you see? Visit the ' +\n",
              "          '<a target=\"_blank\" href=https://colab.research.google.com/notebooks/data_table.ipynb>data table notebook</a>'\n",
              "          + ' to learn more about interactive tables.';\n",
              "        element.innerHTML = '';\n",
              "        dataTable['output_type'] = 'display_data';\n",
              "        await google.colab.output.renderOutput(dataTable, element);\n",
              "        const docLink = document.createElement('div');\n",
              "        docLink.innerHTML = docLinkHtml;\n",
              "        element.appendChild(docLink);\n",
              "      }\n",
              "    </script>\n",
              "  </div>\n",
              "\n",
              "\n",
              "<div id=\"df-86e77daa-1eda-4ebc-836e-18d004cd0582\">\n",
              "  <button class=\"colab-df-quickchart\" onclick=\"quickchart('df-86e77daa-1eda-4ebc-836e-18d004cd0582')\"\n",
              "            title=\"Suggest charts\"\n",
              "            style=\"display:none;\">\n",
              "\n",
              "<svg xmlns=\"http://www.w3.org/2000/svg\" height=\"24px\"viewBox=\"0 0 24 24\"\n",
              "     width=\"24px\">\n",
              "    <g>\n",
              "        <path d=\"M19 3H5c-1.1 0-2 .9-2 2v14c0 1.1.9 2 2 2h14c1.1 0 2-.9 2-2V5c0-1.1-.9-2-2-2zM9 17H7v-7h2v7zm4 0h-2V7h2v10zm4 0h-2v-4h2v4z\"/>\n",
              "    </g>\n",
              "</svg>\n",
              "  </button>\n",
              "\n",
              "<style>\n",
              "  .colab-df-quickchart {\n",
              "      --bg-color: #E8F0FE;\n",
              "      --fill-color: #1967D2;\n",
              "      --hover-bg-color: #E2EBFA;\n",
              "      --hover-fill-color: #174EA6;\n",
              "      --disabled-fill-color: #AAA;\n",
              "      --disabled-bg-color: #DDD;\n",
              "  }\n",
              "\n",
              "  [theme=dark] .colab-df-quickchart {\n",
              "      --bg-color: #3B4455;\n",
              "      --fill-color: #D2E3FC;\n",
              "      --hover-bg-color: #434B5C;\n",
              "      --hover-fill-color: #FFFFFF;\n",
              "      --disabled-bg-color: #3B4455;\n",
              "      --disabled-fill-color: #666;\n",
              "  }\n",
              "\n",
              "  .colab-df-quickchart {\n",
              "    background-color: var(--bg-color);\n",
              "    border: none;\n",
              "    border-radius: 50%;\n",
              "    cursor: pointer;\n",
              "    display: none;\n",
              "    fill: var(--fill-color);\n",
              "    height: 32px;\n",
              "    padding: 0;\n",
              "    width: 32px;\n",
              "  }\n",
              "\n",
              "  .colab-df-quickchart:hover {\n",
              "    background-color: var(--hover-bg-color);\n",
              "    box-shadow: 0 1px 2px rgba(60, 64, 67, 0.3), 0 1px 3px 1px rgba(60, 64, 67, 0.15);\n",
              "    fill: var(--button-hover-fill-color);\n",
              "  }\n",
              "\n",
              "  .colab-df-quickchart-complete:disabled,\n",
              "  .colab-df-quickchart-complete:disabled:hover {\n",
              "    background-color: var(--disabled-bg-color);\n",
              "    fill: var(--disabled-fill-color);\n",
              "    box-shadow: none;\n",
              "  }\n",
              "\n",
              "  .colab-df-spinner {\n",
              "    border: 2px solid var(--fill-color);\n",
              "    border-color: transparent;\n",
              "    border-bottom-color: var(--fill-color);\n",
              "    animation:\n",
              "      spin 1s steps(1) infinite;\n",
              "  }\n",
              "\n",
              "  @keyframes spin {\n",
              "    0% {\n",
              "      border-color: transparent;\n",
              "      border-bottom-color: var(--fill-color);\n",
              "      border-left-color: var(--fill-color);\n",
              "    }\n",
              "    20% {\n",
              "      border-color: transparent;\n",
              "      border-left-color: var(--fill-color);\n",
              "      border-top-color: var(--fill-color);\n",
              "    }\n",
              "    30% {\n",
              "      border-color: transparent;\n",
              "      border-left-color: var(--fill-color);\n",
              "      border-top-color: var(--fill-color);\n",
              "      border-right-color: var(--fill-color);\n",
              "    }\n",
              "    40% {\n",
              "      border-color: transparent;\n",
              "      border-right-color: var(--fill-color);\n",
              "      border-top-color: var(--fill-color);\n",
              "    }\n",
              "    60% {\n",
              "      border-color: transparent;\n",
              "      border-right-color: var(--fill-color);\n",
              "    }\n",
              "    80% {\n",
              "      border-color: transparent;\n",
              "      border-right-color: var(--fill-color);\n",
              "      border-bottom-color: var(--fill-color);\n",
              "    }\n",
              "    90% {\n",
              "      border-color: transparent;\n",
              "      border-bottom-color: var(--fill-color);\n",
              "    }\n",
              "  }\n",
              "</style>\n",
              "\n",
              "  <script>\n",
              "    async function quickchart(key) {\n",
              "      const quickchartButtonEl =\n",
              "        document.querySelector('#' + key + ' button');\n",
              "      quickchartButtonEl.disabled = true;  // To prevent multiple clicks.\n",
              "      quickchartButtonEl.classList.add('colab-df-spinner');\n",
              "      try {\n",
              "        const charts = await google.colab.kernel.invokeFunction(\n",
              "            'suggestCharts', [key], {});\n",
              "      } catch (error) {\n",
              "        console.error('Error during call to suggestCharts:', error);\n",
              "      }\n",
              "      quickchartButtonEl.classList.remove('colab-df-spinner');\n",
              "      quickchartButtonEl.classList.add('colab-df-quickchart-complete');\n",
              "    }\n",
              "    (() => {\n",
              "      let quickchartButtonEl =\n",
              "        document.querySelector('#df-86e77daa-1eda-4ebc-836e-18d004cd0582 button');\n",
              "      quickchartButtonEl.style.display =\n",
              "        google.colab.kernel.accessAllowed ? 'block' : 'none';\n",
              "    })();\n",
              "  </script>\n",
              "</div>\n",
              "\n",
              "    </div>\n",
              "  </div>\n"
            ]
          },
          "metadata": {},
          "execution_count": 124
        }
      ]
    },
    {
      "cell_type": "code",
      "source": [
        "#Make function to print most wrong predictions\n",
        "for row in most_wrong_df[:10].itertuples():\n",
        "  _,text,label,prediction,pred_confidence = row\n",
        "  print(f\"Sample text: {text}\")\n",
        "  print(f\"Label: {class_names[label]}\")\n",
        "  print(f\"Prediction: {class_names[prediction]}\")\n",
        "  print(f\"Prediction confidence: {pred_confidence}\")\n",
        "  print(\"---\")"
      ],
      "metadata": {
        "colab": {
          "base_uri": "https://localhost:8080/"
        },
        "id": "7XGRBsMJdkPJ",
        "outputId": "84d613a6-6f3f-4b13-c474-1053ec5afdea"
      },
      "execution_count": 129,
      "outputs": [
        {
          "output_type": "stream",
          "name": "stdout",
          "text": [
            "Sample text: symptom outcomes will be assessed and estimates of cost-effectiveness made .\n",
            "Label: CONCLUSIONS\n",
            "Prediction: METHODS\n",
            "Prediction confidence: 0.9429552555084229\n",
            "---\n",
            "Sample text: the primary endpoint is the cumulative three-year hiv incidence .\n",
            "Label: RESULTS\n",
            "Prediction: METHODS\n",
            "Prediction confidence: 0.9321365356445312\n",
            "---\n",
            "Sample text: www.chictr.org registration chictr-trc-@ .\n",
            "Label: CONCLUSIONS\n",
            "Prediction: BACKGROUND\n",
            "Prediction confidence: 0.9249399900436401\n",
            "---\n",
            "Sample text: to evaluate the effects of the lactic acid bacterium lactobacillus salivarius on caries risk factors .\n",
            "Label: BACKGROUND\n",
            "Prediction: OBJECTIVE\n",
            "Prediction confidence: 0.9239516854286194\n",
            "---\n",
            "Sample text: nct@ ( clinicaltrials.gov ) .\n",
            "Label: CONCLUSIONS\n",
            "Prediction: BACKGROUND\n",
            "Prediction confidence: 0.9210859537124634\n",
            "---\n",
            "Sample text: clinicaltrials.gov identifier : nct@ .\n",
            "Label: CONCLUSIONS\n",
            "Prediction: BACKGROUND\n",
            "Prediction confidence: 0.9203699827194214\n",
            "---\n",
            "Sample text: -lsb- netherlands trial register ( http://www.trialregister.nl/trialreg/index.asp ) , nr @ , date of registration @ december @ . -rsb-\n",
            "Label: CONCLUSIONS\n",
            "Prediction: BACKGROUND\n",
            "Prediction confidence: 0.919476330280304\n",
            "---\n",
            "Sample text: a cluster randomised trial was implemented with @,@ children in @ government primary schools on the south coast of kenya in @-@ .\n",
            "Label: RESULTS\n",
            "Prediction: METHODS\n",
            "Prediction confidence: 0.9138540625572205\n",
            "---\n",
            "Sample text: pretest-posttest .\n",
            "Label: METHODS\n",
            "Prediction: BACKGROUND\n",
            "Prediction confidence: 0.9122318029403687\n",
            "---\n",
            "Sample text: -@ % vs. fish : -@ % vs. fish + s : -@ % ; p < @ ) but there were no significant differences between groups .\n",
            "Label: METHODS\n",
            "Prediction: RESULTS\n",
            "Prediction confidence: 0.9121372699737549\n",
            "---\n"
          ]
        }
      ]
    }
  ]
}